{
 "cells": [
  {
   "cell_type": "markdown",
   "id": "e7cb8e7a-4d91-45c6-9335-f6f18159ebbd",
   "metadata": {},
   "source": [
    "# Setup S3 Buckets"
   ]
  },
  {
   "cell_type": "code",
   "execution_count": 1,
   "execution_state": "idle",
   "id": "768b9c19-6b85-401d-b5ee-e0d807b9e015",
   "metadata": {},
   "outputs": [
    {
     "name": "stdout",
     "output_type": "stream",
     "text": [
      "                           PRE Arrest/\n",
      "                           PRE Crime/\n",
      "                           PRE Foreclosures/\n",
      "                           PRE LAPD/\n",
      "                           PRE Unsaved/\n",
      "2025-03-15 21:02:43     546709 2023_Registered_Foreclosure_Properties.csv\n",
      "2025-03-15 21:02:44     552165 2024_Registered_Foreclosure_Properties.csv\n",
      "2025-03-15 21:40:42   92038326 Arrest_Data_from_2020_to_Present.csv\n",
      "2025-03-15 21:40:42  255509498 Crime_Data_from_2020_to_Present.csv\n"
     ]
    }
   ],
   "source": [
    "# List the S3 public bucket content\n",
    "!aws s3 ls s3://ads508-group7/"
   ]
  },
  {
   "cell_type": "code",
   "execution_count": 2,
   "execution_state": "idle",
   "id": "32be1e43-bf2f-45f0-a763-277750014830",
   "metadata": {},
   "outputs": [
    {
     "ename": "ImportError",
     "evalue": "cannot import name 'DEFAULT_CIPHERS' from 'urllib3.util.ssl_' (/opt/conda/lib/python3.11/site-packages/urllib3/util/ssl_.py)",
     "output_type": "error",
     "traceback": [
      "\u001b[0;31m---------------------------------------------------------------------------\u001b[0m",
      "\u001b[0;31mImportError\u001b[0m                               Traceback (most recent call last)",
      "Cell \u001b[0;32mIn[2], line 1\u001b[0m\n\u001b[0;32m----> 1\u001b[0m \u001b[38;5;28;01mimport\u001b[39;00m\u001b[38;5;250m \u001b[39m\u001b[38;5;21;01mboto3\u001b[39;00m\n\u001b[1;32m      2\u001b[0m \u001b[38;5;28;01mimport\u001b[39;00m\u001b[38;5;250m \u001b[39m\u001b[38;5;21;01msagemaker\u001b[39;00m\n\u001b[1;32m      3\u001b[0m \u001b[38;5;28;01mimport\u001b[39;00m\u001b[38;5;250m \u001b[39m\u001b[38;5;21;01mpandas\u001b[39;00m\u001b[38;5;250m \u001b[39m\u001b[38;5;28;01mas\u001b[39;00m\u001b[38;5;250m \u001b[39m\u001b[38;5;21;01mpd\u001b[39;00m\n",
      "File \u001b[0;32m/opt/conda/lib/python3.11/site-packages/boto3/__init__.py:16\u001b[0m\n\u001b[1;32m      1\u001b[0m \u001b[38;5;66;03m# Copyright 2014 Amazon.com, Inc. or its affiliates. All Rights Reserved.\u001b[39;00m\n\u001b[1;32m      2\u001b[0m \u001b[38;5;66;03m#\u001b[39;00m\n\u001b[1;32m      3\u001b[0m \u001b[38;5;66;03m# Licensed under the Apache License, Version 2.0 (the \"License\"). You\u001b[39;00m\n\u001b[0;32m   (...)\u001b[0m\n\u001b[1;32m     11\u001b[0m \u001b[38;5;66;03m# ANY KIND, either express or implied. See the License for the specific\u001b[39;00m\n\u001b[1;32m     12\u001b[0m \u001b[38;5;66;03m# language governing permissions and limitations under the License.\u001b[39;00m\n\u001b[1;32m     14\u001b[0m \u001b[38;5;28;01mimport\u001b[39;00m\u001b[38;5;250m \u001b[39m\u001b[38;5;21;01mlogging\u001b[39;00m\n\u001b[0;32m---> 16\u001b[0m \u001b[38;5;28;01mfrom\u001b[39;00m\u001b[38;5;250m \u001b[39m\u001b[38;5;21;01mboto3\u001b[39;00m\u001b[38;5;21;01m.\u001b[39;00m\u001b[38;5;21;01msession\u001b[39;00m\u001b[38;5;250m \u001b[39m\u001b[38;5;28;01mimport\u001b[39;00m Session\n\u001b[1;32m     17\u001b[0m \u001b[38;5;28;01mfrom\u001b[39;00m\u001b[38;5;250m \u001b[39m\u001b[38;5;21;01mboto3\u001b[39;00m\u001b[38;5;21;01m.\u001b[39;00m\u001b[38;5;21;01mcompat\u001b[39;00m\u001b[38;5;250m \u001b[39m\u001b[38;5;28;01mimport\u001b[39;00m _warn_deprecated_python\n\u001b[1;32m     20\u001b[0m __author__ \u001b[38;5;241m=\u001b[39m \u001b[38;5;124m'\u001b[39m\u001b[38;5;124mAmazon Web Services\u001b[39m\u001b[38;5;124m'\u001b[39m\n",
      "File \u001b[0;32m/opt/conda/lib/python3.11/site-packages/boto3/session.py:17\u001b[0m\n\u001b[1;32m     14\u001b[0m \u001b[38;5;28;01mimport\u001b[39;00m\u001b[38;5;250m \u001b[39m\u001b[38;5;21;01mcopy\u001b[39;00m\n\u001b[1;32m     15\u001b[0m \u001b[38;5;28;01mimport\u001b[39;00m\u001b[38;5;250m \u001b[39m\u001b[38;5;21;01mos\u001b[39;00m\n\u001b[0;32m---> 17\u001b[0m \u001b[38;5;28;01mimport\u001b[39;00m\u001b[38;5;250m \u001b[39m\u001b[38;5;21;01mbotocore\u001b[39;00m\u001b[38;5;21;01m.\u001b[39;00m\u001b[38;5;21;01msession\u001b[39;00m\n\u001b[1;32m     18\u001b[0m \u001b[38;5;28;01mfrom\u001b[39;00m\u001b[38;5;250m \u001b[39m\u001b[38;5;21;01mbotocore\u001b[39;00m\u001b[38;5;21;01m.\u001b[39;00m\u001b[38;5;21;01mclient\u001b[39;00m\u001b[38;5;250m \u001b[39m\u001b[38;5;28;01mimport\u001b[39;00m Config\n\u001b[1;32m     19\u001b[0m \u001b[38;5;28;01mfrom\u001b[39;00m\u001b[38;5;250m \u001b[39m\u001b[38;5;21;01mbotocore\u001b[39;00m\u001b[38;5;21;01m.\u001b[39;00m\u001b[38;5;21;01mexceptions\u001b[39;00m\u001b[38;5;250m \u001b[39m\u001b[38;5;28;01mimport\u001b[39;00m DataNotFoundError, UnknownServiceError\n",
      "File \u001b[0;32m/opt/conda/lib/python3.11/site-packages/botocore/session.py:30\u001b[0m\n\u001b[1;32m     28\u001b[0m \u001b[38;5;28;01mfrom\u001b[39;00m\u001b[38;5;250m \u001b[39m\u001b[38;5;21;01mbotocore\u001b[39;00m\u001b[38;5;250m \u001b[39m\u001b[38;5;28;01mimport\u001b[39;00m UNSIGNED\n\u001b[1;32m     29\u001b[0m \u001b[38;5;28;01mimport\u001b[39;00m\u001b[38;5;250m \u001b[39m\u001b[38;5;21;01mbotocore\u001b[39;00m\u001b[38;5;21;01m.\u001b[39;00m\u001b[38;5;21;01mconfigloader\u001b[39;00m\n\u001b[0;32m---> 30\u001b[0m \u001b[38;5;28;01mimport\u001b[39;00m\u001b[38;5;250m \u001b[39m\u001b[38;5;21;01mbotocore\u001b[39;00m\u001b[38;5;21;01m.\u001b[39;00m\u001b[38;5;21;01mcredentials\u001b[39;00m\n\u001b[1;32m     31\u001b[0m \u001b[38;5;28;01mimport\u001b[39;00m\u001b[38;5;250m \u001b[39m\u001b[38;5;21;01mbotocore\u001b[39;00m\u001b[38;5;21;01m.\u001b[39;00m\u001b[38;5;21;01mclient\u001b[39;00m\n\u001b[1;32m     32\u001b[0m \u001b[38;5;28;01mfrom\u001b[39;00m\u001b[38;5;250m \u001b[39m\u001b[38;5;21;01mbotocore\u001b[39;00m\u001b[38;5;21;01m.\u001b[39;00m\u001b[38;5;21;01mconfigprovider\u001b[39;00m\u001b[38;5;250m \u001b[39m\u001b[38;5;28;01mimport\u001b[39;00m ConfigValueStore\n",
      "File \u001b[0;32m/opt/conda/lib/python3.11/site-packages/botocore/credentials.py:34\u001b[0m\n\u001b[1;32m     32\u001b[0m \u001b[38;5;28;01mfrom\u001b[39;00m\u001b[38;5;250m \u001b[39m\u001b[38;5;21;01mbotocore\u001b[39;00m\u001b[38;5;21;01m.\u001b[39;00m\u001b[38;5;21;01mcompat\u001b[39;00m\u001b[38;5;250m \u001b[39m\u001b[38;5;28;01mimport\u001b[39;00m total_seconds\n\u001b[1;32m     33\u001b[0m \u001b[38;5;28;01mfrom\u001b[39;00m\u001b[38;5;250m \u001b[39m\u001b[38;5;21;01mbotocore\u001b[39;00m\u001b[38;5;21;01m.\u001b[39;00m\u001b[38;5;21;01mcompat\u001b[39;00m\u001b[38;5;250m \u001b[39m\u001b[38;5;28;01mimport\u001b[39;00m compat_shell_split\n\u001b[0;32m---> 34\u001b[0m \u001b[38;5;28;01mfrom\u001b[39;00m\u001b[38;5;250m \u001b[39m\u001b[38;5;21;01mbotocore\u001b[39;00m\u001b[38;5;21;01m.\u001b[39;00m\u001b[38;5;21;01mconfig\u001b[39;00m\u001b[38;5;250m \u001b[39m\u001b[38;5;28;01mimport\u001b[39;00m Config\n\u001b[1;32m     35\u001b[0m \u001b[38;5;28;01mfrom\u001b[39;00m\u001b[38;5;250m \u001b[39m\u001b[38;5;21;01mbotocore\u001b[39;00m\u001b[38;5;21;01m.\u001b[39;00m\u001b[38;5;21;01mexceptions\u001b[39;00m\u001b[38;5;250m \u001b[39m\u001b[38;5;28;01mimport\u001b[39;00m UnknownCredentialError\n\u001b[1;32m     36\u001b[0m \u001b[38;5;28;01mfrom\u001b[39;00m\u001b[38;5;250m \u001b[39m\u001b[38;5;21;01mbotocore\u001b[39;00m\u001b[38;5;21;01m.\u001b[39;00m\u001b[38;5;21;01mexceptions\u001b[39;00m\u001b[38;5;250m \u001b[39m\u001b[38;5;28;01mimport\u001b[39;00m PartialCredentialsError\n",
      "File \u001b[0;32m/opt/conda/lib/python3.11/site-packages/botocore/config.py:16\u001b[0m\n\u001b[1;32m     13\u001b[0m \u001b[38;5;28;01mimport\u001b[39;00m\u001b[38;5;250m \u001b[39m\u001b[38;5;21;01mcopy\u001b[39;00m\n\u001b[1;32m     14\u001b[0m \u001b[38;5;28;01mfrom\u001b[39;00m\u001b[38;5;250m \u001b[39m\u001b[38;5;21;01mbotocore\u001b[39;00m\u001b[38;5;21;01m.\u001b[39;00m\u001b[38;5;21;01mcompat\u001b[39;00m\u001b[38;5;250m \u001b[39m\u001b[38;5;28;01mimport\u001b[39;00m OrderedDict\n\u001b[0;32m---> 16\u001b[0m \u001b[38;5;28;01mfrom\u001b[39;00m\u001b[38;5;250m \u001b[39m\u001b[38;5;21;01mbotocore\u001b[39;00m\u001b[38;5;21;01m.\u001b[39;00m\u001b[38;5;21;01mendpoint\u001b[39;00m\u001b[38;5;250m \u001b[39m\u001b[38;5;28;01mimport\u001b[39;00m DEFAULT_TIMEOUT, MAX_POOL_CONNECTIONS\n\u001b[1;32m     17\u001b[0m \u001b[38;5;28;01mfrom\u001b[39;00m\u001b[38;5;250m \u001b[39m\u001b[38;5;21;01mbotocore\u001b[39;00m\u001b[38;5;21;01m.\u001b[39;00m\u001b[38;5;21;01mexceptions\u001b[39;00m\u001b[38;5;250m \u001b[39m\u001b[38;5;28;01mimport\u001b[39;00m InvalidS3AddressingStyleError\n\u001b[1;32m     18\u001b[0m \u001b[38;5;28;01mfrom\u001b[39;00m\u001b[38;5;250m \u001b[39m\u001b[38;5;21;01mbotocore\u001b[39;00m\u001b[38;5;21;01m.\u001b[39;00m\u001b[38;5;21;01mexceptions\u001b[39;00m\u001b[38;5;250m \u001b[39m\u001b[38;5;28;01mimport\u001b[39;00m InvalidRetryConfigurationError\n",
      "File \u001b[0;32m/opt/conda/lib/python3.11/site-packages/botocore/endpoint.py:22\u001b[0m\n\u001b[1;32m     18\u001b[0m \u001b[38;5;28;01mimport\u001b[39;00m\u001b[38;5;250m \u001b[39m\u001b[38;5;21;01mthreading\u001b[39;00m\n\u001b[1;32m     20\u001b[0m \u001b[38;5;28;01mfrom\u001b[39;00m\u001b[38;5;250m \u001b[39m\u001b[38;5;21;01mbotocore\u001b[39;00m\u001b[38;5;21;01m.\u001b[39;00m\u001b[38;5;21;01mvendored\u001b[39;00m\u001b[38;5;250m \u001b[39m\u001b[38;5;28;01mimport\u001b[39;00m six\n\u001b[0;32m---> 22\u001b[0m \u001b[38;5;28;01mfrom\u001b[39;00m\u001b[38;5;250m \u001b[39m\u001b[38;5;21;01mbotocore\u001b[39;00m\u001b[38;5;21;01m.\u001b[39;00m\u001b[38;5;21;01mawsrequest\u001b[39;00m\u001b[38;5;250m \u001b[39m\u001b[38;5;28;01mimport\u001b[39;00m create_request_object\n\u001b[1;32m     23\u001b[0m \u001b[38;5;28;01mfrom\u001b[39;00m\u001b[38;5;250m \u001b[39m\u001b[38;5;21;01mbotocore\u001b[39;00m\u001b[38;5;21;01m.\u001b[39;00m\u001b[38;5;21;01mexceptions\u001b[39;00m\u001b[38;5;250m \u001b[39m\u001b[38;5;28;01mimport\u001b[39;00m HTTPClientError\n\u001b[1;32m     24\u001b[0m \u001b[38;5;28;01mfrom\u001b[39;00m\u001b[38;5;250m \u001b[39m\u001b[38;5;21;01mbotocore\u001b[39;00m\u001b[38;5;21;01m.\u001b[39;00m\u001b[38;5;21;01mhttpsession\u001b[39;00m\u001b[38;5;250m \u001b[39m\u001b[38;5;28;01mimport\u001b[39;00m URLLib3Session\n",
      "File \u001b[0;32m/opt/conda/lib/python3.11/site-packages/botocore/awsrequest.py:25\u001b[0m\n\u001b[1;32m     22\u001b[0m \u001b[38;5;28;01mfrom\u001b[39;00m\u001b[38;5;250m \u001b[39m\u001b[38;5;21;01murllib3\u001b[39;00m\u001b[38;5;21;01m.\u001b[39;00m\u001b[38;5;21;01mconnectionpool\u001b[39;00m\u001b[38;5;250m \u001b[39m\u001b[38;5;28;01mimport\u001b[39;00m HTTPConnectionPool\n\u001b[1;32m     23\u001b[0m \u001b[38;5;28;01mfrom\u001b[39;00m\u001b[38;5;250m \u001b[39m\u001b[38;5;21;01murllib3\u001b[39;00m\u001b[38;5;21;01m.\u001b[39;00m\u001b[38;5;21;01mconnectionpool\u001b[39;00m\u001b[38;5;250m \u001b[39m\u001b[38;5;28;01mimport\u001b[39;00m HTTPSConnectionPool\n\u001b[0;32m---> 25\u001b[0m \u001b[38;5;28;01mimport\u001b[39;00m\u001b[38;5;250m \u001b[39m\u001b[38;5;21;01mbotocore\u001b[39;00m\u001b[38;5;21;01m.\u001b[39;00m\u001b[38;5;21;01mutils\u001b[39;00m\n\u001b[1;32m     26\u001b[0m \u001b[38;5;28;01mfrom\u001b[39;00m\u001b[38;5;250m \u001b[39m\u001b[38;5;21;01mbotocore\u001b[39;00m\u001b[38;5;21;01m.\u001b[39;00m\u001b[38;5;21;01mcompat\u001b[39;00m\u001b[38;5;250m \u001b[39m\u001b[38;5;28;01mimport\u001b[39;00m six\n\u001b[1;32m     27\u001b[0m \u001b[38;5;28;01mfrom\u001b[39;00m\u001b[38;5;250m \u001b[39m\u001b[38;5;21;01mbotocore\u001b[39;00m\u001b[38;5;21;01m.\u001b[39;00m\u001b[38;5;21;01mcompat\u001b[39;00m\u001b[38;5;250m \u001b[39m\u001b[38;5;28;01mimport\u001b[39;00m HTTPHeaders, HTTPResponse, urlunsplit, urlsplit, \\\n\u001b[1;32m     28\u001b[0m      urlencode, MutableMapping\n",
      "File \u001b[0;32m/opt/conda/lib/python3.11/site-packages/botocore/utils.py:33\u001b[0m\n\u001b[1;32m     31\u001b[0m \u001b[38;5;28;01mimport\u001b[39;00m\u001b[38;5;250m \u001b[39m\u001b[38;5;21;01mbotocore\u001b[39;00m\n\u001b[1;32m     32\u001b[0m \u001b[38;5;28;01mimport\u001b[39;00m\u001b[38;5;250m \u001b[39m\u001b[38;5;21;01mbotocore\u001b[39;00m\u001b[38;5;21;01m.\u001b[39;00m\u001b[38;5;21;01mawsrequest\u001b[39;00m\n\u001b[0;32m---> 33\u001b[0m \u001b[38;5;28;01mimport\u001b[39;00m\u001b[38;5;250m \u001b[39m\u001b[38;5;21;01mbotocore\u001b[39;00m\u001b[38;5;21;01m.\u001b[39;00m\u001b[38;5;21;01mhttpsession\u001b[39;00m\n\u001b[1;32m     34\u001b[0m \u001b[38;5;28;01mfrom\u001b[39;00m\u001b[38;5;250m \u001b[39m\u001b[38;5;21;01mbotocore\u001b[39;00m\u001b[38;5;21;01m.\u001b[39;00m\u001b[38;5;21;01mcompat\u001b[39;00m\u001b[38;5;250m \u001b[39m\u001b[38;5;28;01mimport\u001b[39;00m (\n\u001b[1;32m     35\u001b[0m         json, quote, zip_longest, urlsplit, urlunsplit, OrderedDict,\n\u001b[1;32m     36\u001b[0m         six, urlparse, get_tzinfo_options, get_md5, MD5_AVAILABLE\n\u001b[1;32m     37\u001b[0m )\n\u001b[1;32m     38\u001b[0m \u001b[38;5;28;01mfrom\u001b[39;00m\u001b[38;5;250m \u001b[39m\u001b[38;5;21;01mbotocore\u001b[39;00m\u001b[38;5;21;01m.\u001b[39;00m\u001b[38;5;21;01mvendored\u001b[39;00m\u001b[38;5;21;01m.\u001b[39;00m\u001b[38;5;21;01msix\u001b[39;00m\u001b[38;5;21;01m.\u001b[39;00m\u001b[38;5;21;01mmoves\u001b[39;00m\u001b[38;5;21;01m.\u001b[39;00m\u001b[38;5;21;01murllib\u001b[39;00m\u001b[38;5;21;01m.\u001b[39;00m\u001b[38;5;21;01mrequest\u001b[39;00m\u001b[38;5;250m \u001b[39m\u001b[38;5;28;01mimport\u001b[39;00m getproxies, proxy_bypass\n",
      "File \u001b[0;32m/opt/conda/lib/python3.11/site-packages/botocore/httpsession.py:8\u001b[0m\n\u001b[1;32m      6\u001b[0m \u001b[38;5;28;01mfrom\u001b[39;00m\u001b[38;5;250m \u001b[39m\u001b[38;5;21;01murllib3\u001b[39;00m\u001b[38;5;250m \u001b[39m\u001b[38;5;28;01mimport\u001b[39;00m PoolManager, ProxyManager, proxy_from_url, Timeout\n\u001b[1;32m      7\u001b[0m \u001b[38;5;28;01mfrom\u001b[39;00m\u001b[38;5;250m \u001b[39m\u001b[38;5;21;01murllib3\u001b[39;00m\u001b[38;5;21;01m.\u001b[39;00m\u001b[38;5;21;01mutil\u001b[39;00m\u001b[38;5;21;01m.\u001b[39;00m\u001b[38;5;21;01mretry\u001b[39;00m\u001b[38;5;250m \u001b[39m\u001b[38;5;28;01mimport\u001b[39;00m Retry\n\u001b[0;32m----> 8\u001b[0m \u001b[38;5;28;01mfrom\u001b[39;00m\u001b[38;5;250m \u001b[39m\u001b[38;5;21;01murllib3\u001b[39;00m\u001b[38;5;21;01m.\u001b[39;00m\u001b[38;5;21;01mutil\u001b[39;00m\u001b[38;5;21;01m.\u001b[39;00m\u001b[38;5;21;01mssl_\u001b[39;00m\u001b[38;5;250m \u001b[39m\u001b[38;5;28;01mimport\u001b[39;00m (\n\u001b[1;32m      9\u001b[0m     ssl, OP_NO_SSLv2, OP_NO_SSLv3, OP_NO_COMPRESSION, DEFAULT_CIPHERS,\n\u001b[1;32m     10\u001b[0m )\n\u001b[1;32m     11\u001b[0m \u001b[38;5;28;01mfrom\u001b[39;00m\u001b[38;5;250m \u001b[39m\u001b[38;5;21;01murllib3\u001b[39;00m\u001b[38;5;21;01m.\u001b[39;00m\u001b[38;5;21;01mexceptions\u001b[39;00m\u001b[38;5;250m \u001b[39m\u001b[38;5;28;01mimport\u001b[39;00m SSLError \u001b[38;5;28;01mas\u001b[39;00m URLLib3SSLError\n\u001b[1;32m     12\u001b[0m \u001b[38;5;28;01mfrom\u001b[39;00m\u001b[38;5;250m \u001b[39m\u001b[38;5;21;01murllib3\u001b[39;00m\u001b[38;5;21;01m.\u001b[39;00m\u001b[38;5;21;01mexceptions\u001b[39;00m\u001b[38;5;250m \u001b[39m\u001b[38;5;28;01mimport\u001b[39;00m ReadTimeoutError \u001b[38;5;28;01mas\u001b[39;00m URLLib3ReadTimeoutError\n",
      "\u001b[0;31mImportError\u001b[0m: cannot import name 'DEFAULT_CIPHERS' from 'urllib3.util.ssl_' (/opt/conda/lib/python3.11/site-packages/urllib3/util/ssl_.py)"
     ]
    }
   ],
   "source": [
    "import boto3\n",
    "import sagemaker\n",
    "import pandas as pd\n",
    "\n",
    "# create sagemaker session\n",
    "sess =  sagemaker.Session()\n",
    "bucket = sess.default_bucket()\n",
    "role = sagemaker.get_execution_role()\n",
    "region = boto3.Session().region_name\n",
    "account_id = boto3.client(\"sts\").get_caller_identity().get(\"Account\")\n",
    "\n",
    "sm = boto3.Session().client(service_name=\"sagemaker\", region_name=region)"
   ]
  },
  {
   "cell_type": "code",
   "execution_count": 3,
   "execution_state": "idle",
   "id": "b317ba91-4ba4-4578-b2e4-891b2af49824",
   "metadata": {},
   "outputs": [],
   "source": [
    "# Set S3 Source Location (Public S3 Bucket)\n",
    "s3_public_path = \"s3://ads508-group7\""
   ]
  },
  {
   "cell_type": "code",
   "execution_count": 4,
   "execution_state": "idle",
   "id": "6f05470b-3ac5-410c-88a3-bf3b150418e0",
   "metadata": {},
   "outputs": [
    {
     "name": "stdout",
     "output_type": "stream",
     "text": [
      "Stored 's3_public_path' (str)\n"
     ]
    }
   ],
   "source": [
    "%store s3_public_path"
   ]
  },
  {
   "cell_type": "code",
   "execution_count": 5,
   "execution_state": "idle",
   "id": "298a8ce1-a2cc-4857-b064-f8adacd5a061",
   "metadata": {},
   "outputs": [
    {
     "name": "stdout",
     "output_type": "stream",
     "text": [
      "s3://sagemaker-us-east-1-817789163072/ads508-group7\n"
     ]
    }
   ],
   "source": [
    "# Set S3 Destination Location (Private S3 Bucket)\n",
    "s3_private_path = \"s3://{}/ads508-group7\".format(bucket)\n",
    "print(s3_private_path)"
   ]
  },
  {
   "cell_type": "code",
   "execution_count": 6,
   "execution_state": "idle",
   "id": "0105d94a-4e25-4476-b591-7f068679cf2a",
   "metadata": {},
   "outputs": [
    {
     "name": "stdout",
     "output_type": "stream",
     "text": [
      "Stored 's3_private_path' (str)\n"
     ]
    }
   ],
   "source": [
    "%store s3_private_path"
   ]
  },
  {
   "cell_type": "code",
   "execution_count": 7,
   "execution_state": "idle",
   "id": "6a48a57e-f562-4e23-b13e-9d6c55d2fb3a",
   "metadata": {},
   "outputs": [],
   "source": [
    "#Copy Data From the Public S3 Bucket to our Private S3 Bucket in this Account"
   ]
  },
  {
   "cell_type": "code",
   "execution_count": 8,
   "execution_state": "idle",
   "id": "5f3d23e8-0e65-4644-9dfe-f831effb4b83",
   "metadata": {},
   "outputs": [
    {
     "name": "stdout",
     "output_type": "stream",
     "text": [
      "copy: s3://ads508-group7/2023_Registered_Foreclosure_Properties.csv to s3://sagemaker-us-east-1-817789163072/ads508-group7/2023_Registered_Foreclosure_Properties.csv\n",
      "copy: s3://ads508-group7/2024_Registered_Foreclosure_Properties.csv to s3://sagemaker-us-east-1-817789163072/ads508-group7/2024_Registered_Foreclosure_Properties.csv\n",
      "copy: s3://ads508-group7/Arrest_Data_from_2020_to_Present.csv to s3://sagemaker-us-east-1-817789163072/ads508-group7/Arrest_Data_from_2020_to_Present.csv\n",
      "copy: s3://ads508-group7/Crime_Data_from_2020_to_Present.csv to s3://sagemaker-us-east-1-817789163072/ads508-group7/Crime_Data_from_2020_to_Present.csv\n"
     ]
    }
   ],
   "source": [
    "!aws s3 cp --recursive $s3_public_path/ $s3_private_path/ --exclude \"*\" --include \"2023_Registered_Foreclosure_Properties.csv\"\n",
    "!aws s3 cp --recursive $s3_public_path/ $s3_private_path/ --exclude \"*\" --include \"2024_Registered_Foreclosure_Properties.csv\"\n",
    "!aws s3 cp --recursive $s3_public_path/ $s3_private_path/ --exclude \"*\" --include \"Arrest_Data_from_2020_to_Present.csv\"\n",
    "!aws s3 cp --recursive $s3_public_path/ $s3_private_path/ --exclude \"*\" --include \"Crime_Data_from_2020_to_Present.csv\""
   ]
  },
  {
   "cell_type": "code",
   "execution_count": 9,
   "execution_state": "idle",
   "id": "fa8b28c5-9841-49b1-9e85-de9b2647773d",
   "metadata": {},
   "outputs": [
    {
     "name": "stdout",
     "output_type": "stream",
     "text": [
      "s3://sagemaker-us-east-1-817789163072/ads508-group7\n"
     ]
    }
   ],
   "source": [
    "# List Files in our Private S3 Bucket in this Account\n",
    "print(s3_private_path)"
   ]
  },
  {
   "cell_type": "code",
   "execution_count": 10,
   "execution_state": "idle",
   "id": "43f4f313-56ae-4db6-8409-61f2fe79e457",
   "metadata": {},
   "outputs": [
    {
     "name": "stdout",
     "output_type": "stream",
     "text": [
      "2025-03-26 03:42:58     546709 2023_Registered_Foreclosure_Properties.csv\n",
      "2025-03-26 03:42:59     552165 2024_Registered_Foreclosure_Properties.csv\n",
      "2025-03-26 03:43:01   92038326 Arrest_Data_from_2020_to_Present.csv\n",
      "2025-03-26 03:43:03  255509498 Crime_Data_from_2020_to_Present.csv\n"
     ]
    }
   ],
   "source": [
    "!aws s3 ls $s3_private_path/"
   ]
  },
  {
   "cell_type": "code",
   "execution_count": 11,
   "execution_state": "idle",
   "id": "a161b099-bddd-4d06-a6e9-42d2d2f179db",
   "metadata": {},
   "outputs": [
    {
     "name": "stderr",
     "output_type": "stream",
     "text": [
      "/tmp/ipykernel_1928/288684959.py:1: DeprecationWarning: Importing display from IPython.core.display is deprecated since IPython 7.14, please import from IPython.display\n",
      "  from IPython.core.display import display, HTML\n"
     ]
    },
    {
     "data": {
      "text/html": [
       "<b>Review <a target=\"blank\" href=\"https://s3.console.aws.amazon.com/s3/buckets/sagemaker-us-east-1-817789163072/ads508-group7/?region=us-east-1&tab=overview\">S3 Bucket</a></b>"
      ],
      "text/plain": [
       "<IPython.core.display.HTML object>"
      ]
     },
     "metadata": {},
     "output_type": "display_data"
    }
   ],
   "source": [
    "from IPython.core.display import display, HTML\n",
    "\n",
    "display(\n",
    "    HTML(\n",
    "        '<b>Review <a target=\"blank\" href=\"https://s3.console.aws.amazon.com/s3/buckets/sagemaker-{}-{}/ads508-group7/?region={}&tab=overview\">S3 Bucket</a></b>'.format(\n",
    "            region, account_id, region\n",
    "        )\n",
    "    )\n",
    ")"
   ]
  },
  {
   "cell_type": "code",
   "execution_count": 12,
   "execution_state": "idle",
   "id": "07eaae0c-49e3-43b0-930d-d880e7da96c0",
   "metadata": {},
   "outputs": [
    {
     "name": "stdout",
     "output_type": "stream",
     "text": [
      "Stored variables and their in-db values:\n",
      "s3_private_path                         -> 's3://sagemaker-us-east-1-817789163072/ads508-grou\n",
      "s3_public_path                          -> 's3://ads508-group7'\n",
      "setup_dependencies_passed               -> True\n",
      "setup_instance_check_passed             -> True\n"
     ]
    }
   ],
   "source": [
    "# store variables for the next notebook\n",
    "%store"
   ]
  },
  {
   "cell_type": "markdown",
   "id": "0de05c88-09a7-486a-9b75-1023fbea47e0",
   "metadata": {},
   "source": [
    "# EDA"
   ]
  },
  {
   "cell_type": "code",
   "execution_count": 13,
   "execution_state": "idle",
   "id": "50631102-5d09-4a45-8609-454dc538ece1",
   "metadata": {},
   "outputs": [
    {
     "name": "stdout",
     "output_type": "stream",
     "text": [
      "Requirement already satisfied: awswrangler in /opt/conda/lib/python3.11/site-packages (3.11.0)\n",
      "Requirement already satisfied: boto3<2.0.0,>=1.20.32 in /opt/conda/lib/python3.11/site-packages (from awswrangler) (1.37.20)\n",
      "Requirement already satisfied: botocore<2.0.0,>=1.23.32 in /opt/conda/lib/python3.11/site-packages (from awswrangler) (1.37.20)\n",
      "Requirement already satisfied: numpy<3.0,>=1.26 in /opt/conda/lib/python3.11/site-packages (from awswrangler) (1.26.4)\n",
      "Requirement already satisfied: packaging<25.0,>=21.1 in /opt/conda/lib/python3.11/site-packages (from awswrangler) (24.2)\n",
      "Requirement already satisfied: pandas<3.0.0,>=1.2.0 in /opt/conda/lib/python3.11/site-packages (from awswrangler) (2.2.3)\n",
      "Requirement already satisfied: pyarrow<19.0.0,>=8.0.0 in /opt/conda/lib/python3.11/site-packages (from awswrangler) (17.0.0)\n",
      "Requirement already satisfied: typing-extensions<5.0.0,>=4.4.0 in /opt/conda/lib/python3.11/site-packages (from awswrangler) (4.12.2)\n",
      "Requirement already satisfied: jmespath<2.0.0,>=0.7.1 in /opt/conda/lib/python3.11/site-packages (from boto3<2.0.0,>=1.20.32->awswrangler) (0.10.0)\n",
      "Requirement already satisfied: s3transfer<0.12.0,>=0.11.0 in /opt/conda/lib/python3.11/site-packages (from boto3<2.0.0,>=1.20.32->awswrangler) (0.11.4)\n",
      "Requirement already satisfied: python-dateutil<3.0.0,>=2.1 in /opt/conda/lib/python3.11/site-packages (from botocore<2.0.0,>=1.23.32->awswrangler) (2.9.0.post0)\n",
      "Requirement already satisfied: urllib3!=2.2.0,<3,>=1.25.4 in /opt/conda/lib/python3.11/site-packages (from botocore<2.0.0,>=1.23.32->awswrangler) (1.26.20)\n",
      "Requirement already satisfied: pytz>=2020.1 in /opt/conda/lib/python3.11/site-packages (from pandas<3.0.0,>=1.2.0->awswrangler) (2024.1)\n",
      "Requirement already satisfied: tzdata>=2022.7 in /opt/conda/lib/python3.11/site-packages (from pandas<3.0.0,>=1.2.0->awswrangler) (2025.1)\n",
      "Requirement already satisfied: six>=1.5 in /opt/conda/lib/python3.11/site-packages (from python-dateutil<3.0.0,>=2.1->botocore<2.0.0,>=1.23.32->awswrangler) (1.17.0)\n"
     ]
    }
   ],
   "source": [
    "!pip install awswrangler"
   ]
  },
  {
   "cell_type": "code",
   "execution_count": 15,
   "execution_state": "idle",
   "id": "7a8523bd-e4a2-4f5a-86d2-7cb37c8947a8",
   "metadata": {},
   "outputs": [],
   "source": [
    "#import libraries for EDA\n",
    "import awswrangler as wr\n",
    "import pandas as pd\n",
    "import numpy as np\n",
    "import matplotlib.pyplot as plt\n",
    "import seaborn as sns"
   ]
  },
  {
   "cell_type": "markdown",
   "id": "f317a456-3273-4f8e-b493-52b3e1602672",
   "metadata": {},
   "source": [
    "## Arrest Data"
   ]
  },
  {
   "cell_type": "code",
   "execution_count": 16,
   "execution_state": "idle",
   "id": "e5d013fd-06ae-4c9e-9929-e63e082cfe7c",
   "metadata": {},
   "outputs": [
    {
     "name": "stderr",
     "output_type": "stream",
     "text": [
      "2025-03-26 03:43:48,033\tWARNING services.py:2022 -- WARNING: The object store is using /tmp instead of /dev/shm because /dev/shm has only 1895804928 bytes available. This will harm performance! You may be able to free up space by deleting files in /dev/shm. If you are inside a Docker container, you can increase /dev/shm size by passing '--shm-size=4.65gb' to 'docker run' (or add it to the run_options list in a Ray cluster config). Make sure to set this to more than 30% of available RAM.\n",
      "2025-03-26 03:43:48,194\tINFO worker.py:1786 -- Started a local Ray instance.\n"
     ]
    },
    {
     "ename": "OSError",
     "evalue": "When getting information for key 'ads508-group7/arrests/Arrest_Data_from_2020_to_Present.csv' in bucket 'sagemaker-us-east-1-643862913351': AWS Error ACCESS_DENIED during HeadObject operation: No response body.",
     "output_type": "error",
     "traceback": [
      "\u001b[0;31m---------------------------------------------------------------------------\u001b[0m",
      "\u001b[0;31mOSError\u001b[0m                                   Traceback (most recent call last)",
      "Cell \u001b[0;32mIn[16], line 2\u001b[0m\n\u001b[1;32m      1\u001b[0m \u001b[38;5;66;03m# Read the CSV file directly from S3\u001b[39;00m\n\u001b[0;32m----> 2\u001b[0m df_arrest \u001b[38;5;241m=\u001b[39m \u001b[43mwr\u001b[49m\u001b[38;5;241;43m.\u001b[39;49m\u001b[43ms3\u001b[49m\u001b[38;5;241;43m.\u001b[39;49m\u001b[43mread_csv\u001b[49m\u001b[43m(\u001b[49m\u001b[38;5;124;43m\"\u001b[39;49m\u001b[38;5;124;43ms3://sagemaker-us-east-1-643862913351/ads508-group7/arrests/Arrest_Data_from_2020_to_Present.csv\u001b[39;49m\u001b[38;5;124;43m\"\u001b[39;49m\u001b[43m)\u001b[49m\n\u001b[1;32m      4\u001b[0m \u001b[38;5;66;03m# Display the first few rows\u001b[39;00m\n\u001b[1;32m      5\u001b[0m df_arrest\u001b[38;5;241m.\u001b[39mhead()\n",
      "File \u001b[0;32m/opt/conda/lib/python3.11/site-packages/awswrangler/_utils.py:179\u001b[0m, in \u001b[0;36mvalidate_kwargs.<locals>.decorator.<locals>.inner\u001b[0;34m(*args, **kwargs)\u001b[0m\n\u001b[1;32m    176\u001b[0m \u001b[38;5;28;01mif\u001b[39;00m condition_fn() \u001b[38;5;129;01mand\u001b[39;00m \u001b[38;5;28mlen\u001b[39m(passed_unsupported_kwargs) \u001b[38;5;241m>\u001b[39m \u001b[38;5;241m0\u001b[39m:\n\u001b[1;32m    177\u001b[0m     \u001b[38;5;28;01mraise\u001b[39;00m exceptions\u001b[38;5;241m.\u001b[39mInvalidArgument(\u001b[38;5;124mf\u001b[39m\u001b[38;5;124m\"\u001b[39m\u001b[38;5;132;01m{\u001b[39;00mmessage\u001b[38;5;132;01m}\u001b[39;00m\u001b[38;5;124m `\u001b[39m\u001b[38;5;132;01m{\u001b[39;00m\u001b[38;5;124m'\u001b[39m\u001b[38;5;124m, \u001b[39m\u001b[38;5;124m'\u001b[39m\u001b[38;5;241m.\u001b[39mjoin(passed_unsupported_kwargs)\u001b[38;5;132;01m}\u001b[39;00m\u001b[38;5;124m`.\u001b[39m\u001b[38;5;124m\"\u001b[39m)\n\u001b[0;32m--> 179\u001b[0m \u001b[38;5;28;01mreturn\u001b[39;00m \u001b[43mfunc\u001b[49m\u001b[43m(\u001b[49m\u001b[38;5;241;43m*\u001b[39;49m\u001b[43margs\u001b[49m\u001b[43m,\u001b[49m\u001b[43m \u001b[49m\u001b[38;5;241;43m*\u001b[39;49m\u001b[38;5;241;43m*\u001b[39;49m\u001b[43mkwargs\u001b[49m\u001b[43m)\u001b[49m\n",
      "File \u001b[0;32m/opt/conda/lib/python3.11/site-packages/awswrangler/s3/_read_text.py:297\u001b[0m, in \u001b[0;36mread_csv\u001b[0;34m(path, path_suffix, path_ignore_suffix, version_id, ignore_empty, use_threads, last_modified_begin, last_modified_end, boto3_session, s3_additional_kwargs, dtype_backend, chunksize, dataset, partition_filter, ray_args, **pandas_kwargs)\u001b[0m\n\u001b[1;32m    295\u001b[0m s3_client \u001b[38;5;241m=\u001b[39m _utils\u001b[38;5;241m.\u001b[39mclient(service_name\u001b[38;5;241m=\u001b[39m\u001b[38;5;124m\"\u001b[39m\u001b[38;5;124ms3\u001b[39m\u001b[38;5;124m\"\u001b[39m, session\u001b[38;5;241m=\u001b[39mboto3_session)\n\u001b[1;32m    296\u001b[0m ignore_index: \u001b[38;5;28mbool\u001b[39m \u001b[38;5;241m=\u001b[39m \u001b[38;5;124m\"\u001b[39m\u001b[38;5;124mindex_col\u001b[39m\u001b[38;5;124m\"\u001b[39m \u001b[38;5;129;01mnot\u001b[39;00m \u001b[38;5;129;01min\u001b[39;00m pandas_kwargs\n\u001b[0;32m--> 297\u001b[0m \u001b[38;5;28;01mreturn\u001b[39;00m \u001b[43m_read_text_format\u001b[49m\u001b[43m(\u001b[49m\n\u001b[1;32m    298\u001b[0m \u001b[43m    \u001b[49m\u001b[43mread_format\u001b[49m\u001b[38;5;241;43m=\u001b[39;49m\u001b[38;5;124;43m\"\u001b[39;49m\u001b[38;5;124;43mcsv\u001b[39;49m\u001b[38;5;124;43m\"\u001b[39;49m\u001b[43m,\u001b[49m\n\u001b[1;32m    299\u001b[0m \u001b[43m    \u001b[49m\u001b[43mpath\u001b[49m\u001b[38;5;241;43m=\u001b[39;49m\u001b[43mpath\u001b[49m\u001b[43m,\u001b[49m\n\u001b[1;32m    300\u001b[0m \u001b[43m    \u001b[49m\u001b[43mpath_suffix\u001b[49m\u001b[38;5;241;43m=\u001b[39;49m\u001b[43mpath_suffix\u001b[49m\u001b[43m,\u001b[49m\n\u001b[1;32m    301\u001b[0m \u001b[43m    \u001b[49m\u001b[43mpath_ignore_suffix\u001b[49m\u001b[38;5;241;43m=\u001b[39;49m\u001b[43mpath_ignore_suffix\u001b[49m\u001b[43m,\u001b[49m\n\u001b[1;32m    302\u001b[0m \u001b[43m    \u001b[49m\u001b[43mversion_id\u001b[49m\u001b[38;5;241;43m=\u001b[39;49m\u001b[43mversion_id\u001b[49m\u001b[43m,\u001b[49m\n\u001b[1;32m    303\u001b[0m \u001b[43m    \u001b[49m\u001b[43mignore_empty\u001b[49m\u001b[38;5;241;43m=\u001b[39;49m\u001b[43mignore_empty\u001b[49m\u001b[43m,\u001b[49m\n\u001b[1;32m    304\u001b[0m \u001b[43m    \u001b[49m\u001b[43muse_threads\u001b[49m\u001b[38;5;241;43m=\u001b[39;49m\u001b[43muse_threads\u001b[49m\u001b[43m,\u001b[49m\n\u001b[1;32m    305\u001b[0m \u001b[43m    \u001b[49m\u001b[43ms3_client\u001b[49m\u001b[38;5;241;43m=\u001b[39;49m\u001b[43ms3_client\u001b[49m\u001b[43m,\u001b[49m\n\u001b[1;32m    306\u001b[0m \u001b[43m    \u001b[49m\u001b[43ms3_additional_kwargs\u001b[49m\u001b[38;5;241;43m=\u001b[39;49m\u001b[43ms3_additional_kwargs\u001b[49m\u001b[43m,\u001b[49m\n\u001b[1;32m    307\u001b[0m \u001b[43m    \u001b[49m\u001b[43mchunksize\u001b[49m\u001b[38;5;241;43m=\u001b[39;49m\u001b[43mchunksize\u001b[49m\u001b[43m,\u001b[49m\n\u001b[1;32m    308\u001b[0m \u001b[43m    \u001b[49m\u001b[43mdataset\u001b[49m\u001b[38;5;241;43m=\u001b[39;49m\u001b[43mdataset\u001b[49m\u001b[43m,\u001b[49m\n\u001b[1;32m    309\u001b[0m \u001b[43m    \u001b[49m\u001b[43mpartition_filter\u001b[49m\u001b[38;5;241;43m=\u001b[39;49m\u001b[43mpartition_filter\u001b[49m\u001b[43m,\u001b[49m\n\u001b[1;32m    310\u001b[0m \u001b[43m    \u001b[49m\u001b[43mlast_modified_begin\u001b[49m\u001b[38;5;241;43m=\u001b[39;49m\u001b[43mlast_modified_begin\u001b[49m\u001b[43m,\u001b[49m\n\u001b[1;32m    311\u001b[0m \u001b[43m    \u001b[49m\u001b[43mlast_modified_end\u001b[49m\u001b[38;5;241;43m=\u001b[39;49m\u001b[43mlast_modified_end\u001b[49m\u001b[43m,\u001b[49m\n\u001b[1;32m    312\u001b[0m \u001b[43m    \u001b[49m\u001b[43mignore_index\u001b[49m\u001b[38;5;241;43m=\u001b[39;49m\u001b[43mignore_index\u001b[49m\u001b[43m,\u001b[49m\n\u001b[1;32m    313\u001b[0m \u001b[43m    \u001b[49m\u001b[43mray_args\u001b[49m\u001b[38;5;241;43m=\u001b[39;49m\u001b[43mray_args\u001b[49m\u001b[43m,\u001b[49m\n\u001b[1;32m    314\u001b[0m \u001b[43m    \u001b[49m\u001b[38;5;241;43m*\u001b[39;49m\u001b[38;5;241;43m*\u001b[39;49m\u001b[43mpandas_kwargs\u001b[49m\u001b[43m,\u001b[49m\n\u001b[1;32m    315\u001b[0m \u001b[43m\u001b[49m\u001b[43m)\u001b[49m\n",
      "File \u001b[0;32m/opt/conda/lib/python3.11/site-packages/awswrangler/s3/_read_text.py:97\u001b[0m, in \u001b[0;36m_read_text_format\u001b[0;34m(read_format, path, path_suffix, path_ignore_suffix, ignore_empty, use_threads, last_modified_begin, last_modified_end, s3_client, s3_additional_kwargs, chunksize, dataset, partition_filter, ignore_index, ray_args, version_id, **pandas_kwargs)\u001b[0m\n\u001b[1;32m     95\u001b[0m \u001b[38;5;28;01mif\u001b[39;00m \u001b[38;5;124m\"\u001b[39m\u001b[38;5;124miterator\u001b[39m\u001b[38;5;124m\"\u001b[39m \u001b[38;5;129;01min\u001b[39;00m pandas_kwargs:\n\u001b[1;32m     96\u001b[0m     \u001b[38;5;28;01mraise\u001b[39;00m exceptions\u001b[38;5;241m.\u001b[39mInvalidArgument(\u001b[38;5;124m\"\u001b[39m\u001b[38;5;124mPlease, use the chunksize argument instead of iterator.\u001b[39m\u001b[38;5;124m\"\u001b[39m)\n\u001b[0;32m---> 97\u001b[0m paths: \u001b[38;5;28mlist\u001b[39m[\u001b[38;5;28mstr\u001b[39m] \u001b[38;5;241m=\u001b[39m \u001b[43m_path2list\u001b[49m\u001b[43m(\u001b[49m\n\u001b[1;32m     98\u001b[0m \u001b[43m    \u001b[49m\u001b[43mpath\u001b[49m\u001b[38;5;241;43m=\u001b[39;49m\u001b[43mpath\u001b[49m\u001b[43m,\u001b[49m\n\u001b[1;32m     99\u001b[0m \u001b[43m    \u001b[49m\u001b[43ms3_client\u001b[49m\u001b[38;5;241;43m=\u001b[39;49m\u001b[43ms3_client\u001b[49m\u001b[43m,\u001b[49m\n\u001b[1;32m    100\u001b[0m \u001b[43m    \u001b[49m\u001b[43msuffix\u001b[49m\u001b[38;5;241;43m=\u001b[39;49m\u001b[43mpath_suffix\u001b[49m\u001b[43m,\u001b[49m\n\u001b[1;32m    101\u001b[0m \u001b[43m    \u001b[49m\u001b[43mignore_suffix\u001b[49m\u001b[38;5;241;43m=\u001b[39;49m\u001b[43m_get_path_ignore_suffix\u001b[49m\u001b[43m(\u001b[49m\u001b[43mpath_ignore_suffix\u001b[49m\u001b[38;5;241;43m=\u001b[39;49m\u001b[43mpath_ignore_suffix\u001b[49m\u001b[43m)\u001b[49m\u001b[43m,\u001b[49m\n\u001b[1;32m    102\u001b[0m \u001b[43m    \u001b[49m\u001b[43mignore_empty\u001b[49m\u001b[38;5;241;43m=\u001b[39;49m\u001b[43mignore_empty\u001b[49m\u001b[43m,\u001b[49m\n\u001b[1;32m    103\u001b[0m \u001b[43m    \u001b[49m\u001b[43mlast_modified_begin\u001b[49m\u001b[38;5;241;43m=\u001b[39;49m\u001b[43mlast_modified_begin\u001b[49m\u001b[43m,\u001b[49m\n\u001b[1;32m    104\u001b[0m \u001b[43m    \u001b[49m\u001b[43mlast_modified_end\u001b[49m\u001b[38;5;241;43m=\u001b[39;49m\u001b[43mlast_modified_end\u001b[49m\u001b[43m,\u001b[49m\n\u001b[1;32m    105\u001b[0m \u001b[43m    \u001b[49m\u001b[43ms3_additional_kwargs\u001b[49m\u001b[38;5;241;43m=\u001b[39;49m\u001b[43ms3_additional_kwargs\u001b[49m\u001b[43m,\u001b[49m\n\u001b[1;32m    106\u001b[0m \u001b[43m\u001b[49m\u001b[43m)\u001b[49m\n\u001b[1;32m    108\u001b[0m path_root: \u001b[38;5;28mstr\u001b[39m \u001b[38;5;241m|\u001b[39m \u001b[38;5;28;01mNone\u001b[39;00m \u001b[38;5;241m=\u001b[39m _get_path_root(path\u001b[38;5;241m=\u001b[39mpath, dataset\u001b[38;5;241m=\u001b[39mdataset)\n\u001b[1;32m    109\u001b[0m \u001b[38;5;28;01mif\u001b[39;00m path_root \u001b[38;5;129;01mis\u001b[39;00m \u001b[38;5;129;01mnot\u001b[39;00m \u001b[38;5;28;01mNone\u001b[39;00m:\n",
      "File \u001b[0;32m/opt/conda/lib/python3.11/site-packages/awswrangler/s3/_list.py:37\u001b[0m, in \u001b[0;36m_path2list\u001b[0;34m(path, s3_client, s3_additional_kwargs, last_modified_begin, last_modified_end, suffix, ignore_suffix, ignore_empty)\u001b[0m\n\u001b[1;32m     35\u001b[0m _ignore_suffix: \u001b[38;5;28mlist\u001b[39m[\u001b[38;5;28mstr\u001b[39m] \u001b[38;5;241m|\u001b[39m \u001b[38;5;28;01mNone\u001b[39;00m \u001b[38;5;241m=\u001b[39m [ignore_suffix] \u001b[38;5;28;01mif\u001b[39;00m \u001b[38;5;28misinstance\u001b[39m(ignore_suffix, \u001b[38;5;28mstr\u001b[39m) \u001b[38;5;28;01melse\u001b[39;00m ignore_suffix\n\u001b[1;32m     36\u001b[0m \u001b[38;5;28;01mif\u001b[39;00m \u001b[38;5;28misinstance\u001b[39m(path, \u001b[38;5;28mstr\u001b[39m):  \u001b[38;5;66;03m# prefix\u001b[39;00m\n\u001b[0;32m---> 37\u001b[0m     paths: \u001b[38;5;28mlist\u001b[39m[\u001b[38;5;28mstr\u001b[39m] \u001b[38;5;241m=\u001b[39m \u001b[43m[\u001b[49m\n\u001b[1;32m     38\u001b[0m \u001b[43m        \u001b[49m\u001b[43mpath\u001b[49m\n\u001b[1;32m     39\u001b[0m \u001b[43m        \u001b[49m\u001b[38;5;28;43;01mfor\u001b[39;49;00m\u001b[43m \u001b[49m\u001b[43mpaths\u001b[49m\u001b[43m \u001b[49m\u001b[38;5;129;43;01min\u001b[39;49;00m\u001b[43m \u001b[49m\u001b[43m_list_objects\u001b[49m\u001b[43m(\u001b[49m\n\u001b[1;32m     40\u001b[0m \u001b[43m            \u001b[49m\u001b[43mpath\u001b[49m\u001b[38;5;241;43m=\u001b[39;49m\u001b[43mpath\u001b[49m\u001b[43m,\u001b[49m\n\u001b[1;32m     41\u001b[0m \u001b[43m            \u001b[49m\u001b[43ms3_client\u001b[49m\u001b[38;5;241;43m=\u001b[39;49m\u001b[43ms3_client\u001b[49m\u001b[43m,\u001b[49m\n\u001b[1;32m     42\u001b[0m \u001b[43m            \u001b[49m\u001b[43msuffix\u001b[49m\u001b[38;5;241;43m=\u001b[39;49m\u001b[43m_suffix\u001b[49m\u001b[43m,\u001b[49m\n\u001b[1;32m     43\u001b[0m \u001b[43m            \u001b[49m\u001b[43mignore_suffix\u001b[49m\u001b[38;5;241;43m=\u001b[39;49m\u001b[43m_ignore_suffix\u001b[49m\u001b[43m,\u001b[49m\n\u001b[1;32m     44\u001b[0m \u001b[43m            \u001b[49m\u001b[43mlast_modified_begin\u001b[49m\u001b[38;5;241;43m=\u001b[39;49m\u001b[43mlast_modified_begin\u001b[49m\u001b[43m,\u001b[49m\n\u001b[1;32m     45\u001b[0m \u001b[43m            \u001b[49m\u001b[43mlast_modified_end\u001b[49m\u001b[38;5;241;43m=\u001b[39;49m\u001b[43mlast_modified_end\u001b[49m\u001b[43m,\u001b[49m\n\u001b[1;32m     46\u001b[0m \u001b[43m            \u001b[49m\u001b[43mignore_empty\u001b[49m\u001b[38;5;241;43m=\u001b[39;49m\u001b[43mignore_empty\u001b[49m\u001b[43m,\u001b[49m\n\u001b[1;32m     47\u001b[0m \u001b[43m            \u001b[49m\u001b[43ms3_additional_kwargs\u001b[49m\u001b[38;5;241;43m=\u001b[39;49m\u001b[43ms3_additional_kwargs\u001b[49m\u001b[43m,\u001b[49m\n\u001b[1;32m     48\u001b[0m \u001b[43m        \u001b[49m\u001b[43m)\u001b[49m\n\u001b[1;32m     49\u001b[0m \u001b[43m        \u001b[49m\u001b[38;5;28;43;01mfor\u001b[39;49;00m\u001b[43m \u001b[49m\u001b[43mpath\u001b[49m\u001b[43m \u001b[49m\u001b[38;5;129;43;01min\u001b[39;49;00m\u001b[43m \u001b[49m\u001b[43mpaths\u001b[49m\n\u001b[1;32m     50\u001b[0m \u001b[43m    \u001b[49m\u001b[43m]\u001b[49m\n\u001b[1;32m     51\u001b[0m     _logger\u001b[38;5;241m.\u001b[39mdebug(\u001b[38;5;124m\"\u001b[39m\u001b[38;5;124mListed \u001b[39m\u001b[38;5;132;01m%s\u001b[39;00m\u001b[38;5;124m paths\u001b[39m\u001b[38;5;124m\"\u001b[39m, \u001b[38;5;28mlen\u001b[39m(paths))\n\u001b[1;32m     52\u001b[0m \u001b[38;5;28;01melif\u001b[39;00m \u001b[38;5;28misinstance\u001b[39m(path, \u001b[38;5;28mlist\u001b[39m):\n",
      "File \u001b[0;32m/opt/conda/lib/python3.11/site-packages/awswrangler/s3/_list.py:37\u001b[0m, in \u001b[0;36m<listcomp>\u001b[0;34m(.0)\u001b[0m\n\u001b[1;32m     35\u001b[0m _ignore_suffix: \u001b[38;5;28mlist\u001b[39m[\u001b[38;5;28mstr\u001b[39m] \u001b[38;5;241m|\u001b[39m \u001b[38;5;28;01mNone\u001b[39;00m \u001b[38;5;241m=\u001b[39m [ignore_suffix] \u001b[38;5;28;01mif\u001b[39;00m \u001b[38;5;28misinstance\u001b[39m(ignore_suffix, \u001b[38;5;28mstr\u001b[39m) \u001b[38;5;28;01melse\u001b[39;00m ignore_suffix\n\u001b[1;32m     36\u001b[0m \u001b[38;5;28;01mif\u001b[39;00m \u001b[38;5;28misinstance\u001b[39m(path, \u001b[38;5;28mstr\u001b[39m):  \u001b[38;5;66;03m# prefix\u001b[39;00m\n\u001b[0;32m---> 37\u001b[0m     paths: \u001b[38;5;28mlist\u001b[39m[\u001b[38;5;28mstr\u001b[39m] \u001b[38;5;241m=\u001b[39m \u001b[43m[\u001b[49m\n\u001b[1;32m     38\u001b[0m \u001b[43m        \u001b[49m\u001b[43mpath\u001b[49m\n\u001b[1;32m     39\u001b[0m \u001b[43m        \u001b[49m\u001b[38;5;28;43;01mfor\u001b[39;49;00m\u001b[43m \u001b[49m\u001b[43mpaths\u001b[49m\u001b[43m \u001b[49m\u001b[38;5;129;43;01min\u001b[39;49;00m\u001b[43m \u001b[49m\u001b[43m_list_objects\u001b[49m\u001b[43m(\u001b[49m\n\u001b[1;32m     40\u001b[0m \u001b[43m            \u001b[49m\u001b[43mpath\u001b[49m\u001b[38;5;241;43m=\u001b[39;49m\u001b[43mpath\u001b[49m\u001b[43m,\u001b[49m\n\u001b[1;32m     41\u001b[0m \u001b[43m            \u001b[49m\u001b[43ms3_client\u001b[49m\u001b[38;5;241;43m=\u001b[39;49m\u001b[43ms3_client\u001b[49m\u001b[43m,\u001b[49m\n\u001b[1;32m     42\u001b[0m \u001b[43m            \u001b[49m\u001b[43msuffix\u001b[49m\u001b[38;5;241;43m=\u001b[39;49m\u001b[43m_suffix\u001b[49m\u001b[43m,\u001b[49m\n\u001b[1;32m     43\u001b[0m \u001b[43m            \u001b[49m\u001b[43mignore_suffix\u001b[49m\u001b[38;5;241;43m=\u001b[39;49m\u001b[43m_ignore_suffix\u001b[49m\u001b[43m,\u001b[49m\n\u001b[1;32m     44\u001b[0m \u001b[43m            \u001b[49m\u001b[43mlast_modified_begin\u001b[49m\u001b[38;5;241;43m=\u001b[39;49m\u001b[43mlast_modified_begin\u001b[49m\u001b[43m,\u001b[49m\n\u001b[1;32m     45\u001b[0m \u001b[43m            \u001b[49m\u001b[43mlast_modified_end\u001b[49m\u001b[38;5;241;43m=\u001b[39;49m\u001b[43mlast_modified_end\u001b[49m\u001b[43m,\u001b[49m\n\u001b[1;32m     46\u001b[0m \u001b[43m            \u001b[49m\u001b[43mignore_empty\u001b[49m\u001b[38;5;241;43m=\u001b[39;49m\u001b[43mignore_empty\u001b[49m\u001b[43m,\u001b[49m\n\u001b[1;32m     47\u001b[0m \u001b[43m            \u001b[49m\u001b[43ms3_additional_kwargs\u001b[49m\u001b[38;5;241;43m=\u001b[39;49m\u001b[43ms3_additional_kwargs\u001b[49m\u001b[43m,\u001b[49m\n\u001b[1;32m     48\u001b[0m \u001b[43m        \u001b[49m\u001b[43m)\u001b[49m\n\u001b[1;32m     49\u001b[0m \u001b[43m        \u001b[49m\u001b[38;5;28;43;01mfor\u001b[39;49;00m\u001b[43m \u001b[49m\u001b[43mpath\u001b[49m\u001b[43m \u001b[49m\u001b[38;5;129;43;01min\u001b[39;49;00m\u001b[43m \u001b[49m\u001b[43mpaths\u001b[49m\n\u001b[1;32m     50\u001b[0m \u001b[43m    \u001b[49m\u001b[43m]\u001b[49m\n\u001b[1;32m     51\u001b[0m     _logger\u001b[38;5;241m.\u001b[39mdebug(\u001b[38;5;124m\"\u001b[39m\u001b[38;5;124mListed \u001b[39m\u001b[38;5;132;01m%s\u001b[39;00m\u001b[38;5;124m paths\u001b[39m\u001b[38;5;124m\"\u001b[39m, \u001b[38;5;28mlen\u001b[39m(paths))\n\u001b[1;32m     52\u001b[0m \u001b[38;5;28;01melif\u001b[39;00m \u001b[38;5;28misinstance\u001b[39m(path, \u001b[38;5;28mlist\u001b[39m):\n",
      "File \u001b[0;32m/opt/conda/lib/python3.11/site-packages/awswrangler/distributed/ray/s3/_list.py:35\u001b[0m, in \u001b[0;36m_list_objects_s3fs\u001b[0;34m(bucket, pattern, prefix, s3_client, delimiter, s3_additional_kwargs, suffix, ignore_suffix, last_modified_begin, last_modified_end, ignore_empty)\u001b[0m\n\u001b[1;32m     32\u001b[0m resolved_filesystem, resolved_path \u001b[38;5;241m=\u001b[39m _resolve_filesystem_and_path(\u001b[38;5;124mf\u001b[39m\u001b[38;5;124m\"\u001b[39m\u001b[38;5;124ms3://\u001b[39m\u001b[38;5;132;01m{\u001b[39;00mbucket\u001b[38;5;132;01m}\u001b[39;00m\u001b[38;5;124m/\u001b[39m\u001b[38;5;132;01m{\u001b[39;00mprefix\u001b[38;5;132;01m}\u001b[39;00m\u001b[38;5;124m\"\u001b[39m, \u001b[38;5;28;01mNone\u001b[39;00m)\n\u001b[1;32m     33\u001b[0m paths: \u001b[38;5;28mlist\u001b[39m[\u001b[38;5;28mstr\u001b[39m] \u001b[38;5;241m=\u001b[39m []\n\u001b[0;32m---> 35\u001b[0m path_info \u001b[38;5;241m=\u001b[39m \u001b[43mresolved_filesystem\u001b[49m\u001b[38;5;241;43m.\u001b[39;49m\u001b[43mget_file_info\u001b[49m\u001b[43m(\u001b[49m\u001b[43mresolved_path\u001b[49m\u001b[43m)\u001b[49m\n\u001b[1;32m     37\u001b[0m \u001b[38;5;28;01mif\u001b[39;00m path_info\u001b[38;5;241m.\u001b[39mtype \u001b[38;5;129;01min\u001b[39;00m (FileType\u001b[38;5;241m.\u001b[39mFile, FileType\u001b[38;5;241m.\u001b[39mDirectory):\n\u001b[1;32m     38\u001b[0m     \u001b[38;5;28;01mif\u001b[39;00m path_info\u001b[38;5;241m.\u001b[39mtype \u001b[38;5;241m==\u001b[39m FileType\u001b[38;5;241m.\u001b[39mFile:\n",
      "File \u001b[0;32m/opt/conda/lib/python3.11/site-packages/pyarrow/_fs.pyx:590\u001b[0m, in \u001b[0;36mpyarrow._fs.FileSystem.get_file_info\u001b[0;34m()\u001b[0m\n",
      "File \u001b[0;32m/opt/conda/lib/python3.11/site-packages/pyarrow/error.pxi:155\u001b[0m, in \u001b[0;36mpyarrow.lib.pyarrow_internal_check_status\u001b[0;34m()\u001b[0m\n",
      "File \u001b[0;32m/opt/conda/lib/python3.11/site-packages/pyarrow/error.pxi:92\u001b[0m, in \u001b[0;36mpyarrow.lib.check_status\u001b[0;34m()\u001b[0m\n",
      "\u001b[0;31mOSError\u001b[0m: When getting information for key 'ads508-group7/arrests/Arrest_Data_from_2020_to_Present.csv' in bucket 'sagemaker-us-east-1-643862913351': AWS Error ACCESS_DENIED during HeadObject operation: No response body."
     ]
    }
   ],
   "source": [
    "# Read the CSV file directly from S3\n",
    "df_arrest = wr.s3.read_csv(\"s3://sagemaker-us-east-1-643862913351/ads508-group7/arrests/Arrest_Data_from_2020_to_Present.csv\")\n",
    "\n",
    "# Display the first few rows\n",
    "df_arrest.head()"
   ]
  },
  {
   "cell_type": "markdown",
   "id": "8ee18f00-cdb4-4ad3-ac4e-530b58b6c753",
   "metadata": {},
   "source": [
    "### Basic Data Information"
   ]
  },
  {
   "cell_type": "code",
   "execution_count": null,
   "execution_state": "idle",
   "id": "3fec0ca2-343b-4fb1-bae0-8b094fedfbd0",
   "metadata": {},
   "outputs": [],
   "source": [
    "df_arrest.shape"
   ]
  },
  {
   "cell_type": "code",
   "execution_count": null,
   "execution_state": "idle",
   "id": "6cb3c481-b60a-4649-8828-fb51074fc50d",
   "metadata": {},
   "outputs": [],
   "source": [
    "#are there duplicates?\n",
    "df_arrest.duplicated().sum()"
   ]
  },
  {
   "cell_type": "code",
   "execution_count": null,
   "execution_state": "idle",
   "id": "88e653c8-d3c3-4863-9f71-6ce1c9e8cf51",
   "metadata": {},
   "outputs": [],
   "source": [
    "#get datatypes\n",
    "df_arrest.dtypes"
   ]
  },
  {
   "cell_type": "markdown",
   "id": "4531caf2-d9a3-4491-94f8-10cb927c89d7",
   "metadata": {},
   "source": [
    "### Data Quality Report - Continous"
   ]
  },
  {
   "cell_type": "code",
   "execution_count": null,
   "execution_state": "idle",
   "id": "3906044c-7a68-48c8-929c-1ebd7d605b36",
   "metadata": {},
   "outputs": [],
   "source": [
    "#identify continuous features\n",
    "conf = df_arrest.select_dtypes(include=['float64', 'int64']).columns.tolist()\n",
    "conf"
   ]
  },
  {
   "cell_type": "code",
   "execution_count": null,
   "execution_state": "idle",
   "id": "9b80abf8-dd9a-4cc7-a27d-1f88c471ed5a",
   "metadata": {},
   "outputs": [],
   "source": [
    "dqr_conf = pd.DataFrame({\n",
    "    'Feature': conf,\n",
    "    'Count': df_arrest[conf].count().values,\n",
    "    'Missing Values': df_arrest[conf].isnull().sum().values,\n",
    "    'Cardinality': df_arrest[conf].nunique().values,\n",
    "    'Min': df_arrest[conf].min().values,\n",
    "    '1st Quartile': df_arrest[conf].quantile(0.25).values,\n",
    "    'Mean': df_arrest[conf].mean().values,\n",
    "    'Median': df_arrest[conf].median().values,\n",
    "    '3rd Quartile': df_arrest[conf].quantile(0.75).values,\n",
    "    'Max': df_arrest[conf].max().values,\n",
    "    'Standard Deviation': df_arrest[conf].std().values,\n",
    "})\n",
    "dqr_conf"
   ]
  },
  {
   "cell_type": "markdown",
   "id": "5fdcf22b-b4ab-485d-9c40-9184d2f6511b",
   "metadata": {},
   "source": [
    "### Data Quality Report - Categorical"
   ]
  },
  {
   "cell_type": "code",
   "execution_count": null,
   "execution_state": "idle",
   "id": "dfd39c99-fbc0-4ac1-915b-e449a306ad94",
   "metadata": {},
   "outputs": [],
   "source": [
    "#identify categorical features\n",
    "catf = df_arrest.select_dtypes(include=['object']).columns.tolist()\n",
    "catf"
   ]
  },
  {
   "cell_type": "code",
   "execution_count": null,
   "execution_state": "idle",
   "id": "3a44a5c5-7658-4a4f-bcdd-bfd72b138135",
   "metadata": {},
   "outputs": [],
   "source": [
    "#create list to store modes and frequencies\n",
    "modes = []\n",
    "mode_freqs = []\n",
    "second_modes = []\n",
    "second_mode_freqs = []\n",
    "mode_percentages = []\n",
    "second_mode_percentages = []"
   ]
  },
  {
   "cell_type": "code",
   "execution_count": null,
   "execution_state": "idle",
   "id": "ee199b06-b8d7-4444-a2df-a34d51b651d5",
   "metadata": {},
   "outputs": [],
   "source": [
    "# Calculate mode and frequency for each categorical feature\n",
    "for feature in catf:\n",
    "    count = df_arrest[feature].count()\n",
    "    mode = df_arrest[feature].mode().iloc[0]\n",
    "    mode_freq = df_arrest[feature].value_counts().iloc[0]\n",
    "    modes.append(mode)\n",
    "    mode_freqs.append(mode_freq)\n",
    "    mode_percentages.append((mode_freq / count) * 100 if count > 0 else 0)\n",
    "\n",
    "    # Calculate second mode and its frequency\n",
    "    if len(df_arrest[feature].value_counts()) > 1:\n",
    "        second_mode = df_arrest[feature].value_counts().index[1]\n",
    "        second_mode_freq = df_arrest[feature].value_counts().iloc[1]\n",
    "    else:\n",
    "        second_mode = None\n",
    "        second_mode_freq = 0\n",
    "\n",
    "    second_modes.append(second_mode)\n",
    "    second_mode_freqs.append(second_mode_freq)\n",
    "    second_mode_percentages.append((second_mode_freq / count) * 100 if count > 0 else 0)"
   ]
  },
  {
   "cell_type": "markdown",
   "id": "e8a81a7d-b266-4160-b976-b027905560c4",
   "metadata": {
    "jp-MarkdownHeadingCollapsed": true
   },
   "source": [
    "# Setup Athena Database"
   ]
  },
  {
   "cell_type": "markdown",
   "id": "af84b1bc-23c8-429d-a336-a21d4aceb52e",
   "metadata": {},
   "source": [
    "## Create Database"
   ]
  },
  {
   "cell_type": "code",
   "execution_count": null,
   "id": "58d70e49-7cd5-4a4b-baca-3e3193932047",
   "metadata": {},
   "outputs": [],
   "source": [
    "#setup pyathena\n",
    "!pip install --disable-pip-version-check -q PyAthena==2.1.0\n",
    "from pyathena import connect"
   ]
  },
  {
   "cell_type": "code",
   "execution_count": null,
   "id": "84dfed8d-f19c-4b11-8d0c-2e66e30c5d8f",
   "metadata": {},
   "outputs": [],
   "source": [
    "database_name = \"crime_foreclosure_db\"\n",
    "# Set S3 staging directory -- this is a temporary directory used for Athena queries\n",
    "s3_staging_dir = \"s3://{0}/athena/staging\".format(bucket)\n",
    "conn = connect(region_name=region, s3_staging_dir=s3_staging_dir)\n",
    "statement = \"CREATE DATABASE IF NOT EXISTS {}\".format(database_name)\n",
    "print(statement)"
   ]
  },
  {
   "cell_type": "code",
   "execution_count": null,
   "id": "dce95e3f-3125-4c23-a2d2-f2004df3082e",
   "metadata": {},
   "outputs": [],
   "source": [
    "pd.read_sql(statement, conn)"
   ]
  },
  {
   "cell_type": "markdown",
   "id": "ee9a515e-5659-45f4-a65c-666643ac8dbd",
   "metadata": {},
   "source": [
    "## Validate Database Set Up Correctly"
   ]
  },
  {
   "cell_type": "code",
   "execution_count": null,
   "id": "8169fdfb-1e35-4458-a65c-0d7af2e00045",
   "metadata": {},
   "outputs": [],
   "source": [
    "statement = \"SHOW DATABASES\"\n",
    "\n",
    "df_show = pd.read_sql(statement, conn)\n",
    "df_show.head(5)"
   ]
  },
  {
   "cell_type": "code",
   "execution_count": null,
   "id": "0f90a530-918c-4ba3-b603-4ba491829298",
   "metadata": {},
   "outputs": [],
   "source": [
    "if database_name in df_show.values:\n",
    "    ingest_create_athena_db_passed = True"
   ]
  },
  {
   "cell_type": "code",
   "execution_count": null,
   "id": "fff9ddb7-2f71-4b5a-bcbb-a3731c9aff52",
   "metadata": {},
   "outputs": [],
   "source": [
    "%store ingest_create_athena_db_passed"
   ]
  },
  {
   "cell_type": "code",
   "execution_count": null,
   "id": "7aaef97a-9608-4e14-a3ce-859d4d9b365d",
   "metadata": {},
   "outputs": [],
   "source": [
    "# Store Variables for the Next Notebooks\n",
    "%store"
   ]
  },
  {
   "cell_type": "markdown",
   "id": "288b8e08-6324-47b5-bd4d-aec610538964",
   "metadata": {},
   "source": [
    "## Create tables in Athena"
   ]
  },
  {
   "cell_type": "markdown",
   "id": "423f2f39-5744-49e4-9ff4-bedbb6a90b84",
   "metadata": {},
   "source": [
    "### Arrest Data"
   ]
  },
  {
   "cell_type": "code",
   "execution_count": null,
   "id": "baed8d2b-4aba-40ee-9d4d-9a4ab67da9e4",
   "metadata": {},
   "outputs": [],
   "source": [
    "#used ChatGPT for SERDEPROPERTIES refinement. Recieved errors for nulls, ChatGPT used to troubleshoot.\n",
    "from pyathena import connect\n",
    "\n",
    "# connection\n",
    "database_name = \"crime_foreclosure_db\"\n",
    "table_name = \"arrests\"\n",
    "s3_data_location = \"s3://sagemaker-us-east-1-643862913351/ads508-group7/arrests/\"\n",
    "s3_staging_dir = \"s3://sagemaker-us-east-1-643862913351/ads508-group7/query-results/\"  # Athena’s output\n",
    "conn = connect(\n",
    "    s3_staging_dir=s3_staging_dir,\n",
    "    region_name=\"us-east-1\"\n",
    ")\n",
    "cursor = conn.cursor()\n",
    "\n",
    "#SQL Create table, created all as strings to ensure everything loaded. Received errors with int. \n",
    "statement = f\"\"\"\n",
    "CREATE EXTERNAL TABLE IF NOT EXISTS {database_name}.{table_name} (\n",
    "    report_id string,\n",
    "    report_type string,\n",
    "    arrest_date string,\n",
    "    time string,\n",
    "    area_id string,\n",
    "    area_name string,\n",
    "    reporting_district string,\n",
    "    age string,\n",
    "    sex_code string,\n",
    "    descent_code string,\n",
    "    charge_group_code string,\n",
    "    charge_group_description string,\n",
    "    arrest_type_code string,\n",
    "    charge string,\n",
    "    charge_description string,\n",
    "    disposition_description string,\n",
    "    address string,\n",
    "    cross_street string,\n",
    "    lat string,\n",
    "    lon string,\n",
    "    location string,\n",
    "    booking_date string,\n",
    "    booking_time string,\n",
    "    booking_location string,\n",
    "    booking_location_code string\n",
    ")\n",
    "ROW FORMAT SERDE 'org.apache.hadoop.hive.serde2.OpenCSVSerde'\n",
    "WITH SERDEPROPERTIES (\n",
    "  'separatorChar' = ',',\n",
    "  'quoteChar'     = '\\\"', \n",
    "  'serialization.null.format' = ''\n",
    "\n",
    ")\n",
    "LOCATION '{s3_data_location}'\n",
    "TBLPROPERTIES ('skip.header.line.count'='1')\n",
    "\"\"\"\n",
    "\n",
    "# execute sql\n",
    "cursor.execute(statement)"
   ]
  },
  {
   "cell_type": "code",
   "execution_count": null,
   "id": "879b5011-ea28-48ea-bcff-4ffe1017274c",
   "metadata": {},
   "outputs": [],
   "source": [
    "#validate table created\n",
    "statement = \"SHOW TABLES IN crime_foreclosure_db\"\n",
    "df_show = pd.read_sql(statement, conn)\n",
    "df_show"
   ]
  },
  {
   "cell_type": "code",
   "execution_count": null,
   "id": "e1487294-4d0b-43fa-b7ac-2776191aacd7",
   "metadata": {
    "scrolled": true
   },
   "outputs": [],
   "source": [
    "#validate that data loaded\n",
    "query = \"SELECT * FROM crime_foreclosure_db.arrests LIMIT 5\"\n",
    "arrest_sample = pd.read_sql(query, conn)\n",
    "arrest_sample"
   ]
  },
  {
   "cell_type": "code",
   "execution_count": null,
   "id": "501b3566-8e72-44eb-a64f-9621749ad6ed",
   "metadata": {},
   "outputs": [],
   "source": [
    "if table_name in df_show.values:\n",
    "    ingest_create_athena_table_arrests_passed = True"
   ]
  },
  {
   "cell_type": "code",
   "execution_count": null,
   "id": "07ed349c-f018-49c0-96ec-7dd90078afa0",
   "metadata": {},
   "outputs": [],
   "source": [
    "%store ingest_create_athena_table_arrests_passed"
   ]
  },
  {
   "cell_type": "code",
   "execution_count": null,
   "id": "a765e592-c16b-4299-a7d9-d0bd84f0d479",
   "metadata": {},
   "outputs": [],
   "source": [
    "#AWS Glue Catalog\n",
    "from IPython.core.display import display, HTML\n",
    "\n",
    "display(\n",
    "    HTML(\n",
    "        '<b>Review <a target=\"top\" href=\"https://us-east-1.console.aws.amazon.com/glue/home?region=us-east-1#/v2/data-catalog/databases/view/crime_foreclosure_db?catalogId=643862913351\">AWS Glue Catalog</a></b>'.format(\n",
    "            region\n",
    "        )\n",
    "    )\n",
    ")\n",
    "\n"
   ]
  },
  {
   "cell_type": "code",
   "execution_count": null,
   "execution_state": "idle",
   "id": "ce051539-1455-4976-bbd2-498878f2180e",
   "metadata": {},
   "outputs": [],
   "source": [
    "#build quality report table\n",
    "# Build the quality report DataFrame\n",
    "dqr_catf = pd.DataFrame({\n",
    "    'Feature': catf,\n",
    "    'Count': df_arrest[catf].count().values,\n",
    "    'Missing Values': df_arrest[catf].isnull().sum().values,\n",
    "    'Cardinality': df_arrest[catf].nunique().values,\n",
    "    'Mode': modes,\n",
    "    'Mode Frequency': mode_freqs,\n",
    "    'Mode %': mode_percentages,\n",
    "    '2nd Mode': second_modes,\n",
    "    '2nd Mode Frequency': second_mode_freqs,\n",
    "    '2nd Mode %': second_mode_percentages,\n",
    "})\n",
    "dqr_catf"
   ]
  }
 ],
 "metadata": {
  "kernelspec": {
   "display_name": "Python 3 (ipykernel)",
   "language": "python",
   "name": "python3"
  },
  "language_info": {
   "codemirror_mode": {
    "name": "ipython",
    "version": 3
   },
   "file_extension": ".py",
   "mimetype": "text/x-python",
   "name": "python",
   "nbconvert_exporter": "python",
   "pygments_lexer": "ipython3",
   "version": "3.11.11"
  }
 },
 "nbformat": 4,
 "nbformat_minor": 5
}
