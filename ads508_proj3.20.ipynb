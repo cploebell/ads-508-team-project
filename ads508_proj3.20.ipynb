{
 "cells": [
  {
   "cell_type": "markdown",
   "id": "e7cb8e7a-4d91-45c6-9335-f6f18159ebbd",
   "metadata": {},
   "source": [
    "# Setup S3 Buckets"
   ]
  },
  {
   "cell_type": "code",
   "execution_count": 4,
   "execution_state": "idle",
   "id": "768b9c19-6b85-401d-b5ee-e0d807b9e015",
   "metadata": {},
   "outputs": [
    {
     "name": "stdout",
     "output_type": "stream",
     "text": [
      "                           PRE Unsaved/\n",
      "2025-03-15 21:02:43     546709 2023_Registered_Foreclosure_Properties.csv\n",
      "2025-03-15 21:02:44     552165 2024_Registered_Foreclosure_Properties.csv\n",
      "2025-03-15 21:40:42   92038326 Arrest_Data_from_2020_to_Present.csv\n",
      "2025-03-15 21:40:42  255509498 Crime_Data_from_2020_to_Present.csv\n"
     ]
    }
   ],
   "source": [
    "# List the S3 public bucket content\n",
    "!aws s3 ls s3://ads508-group7/"
   ]
  },
  {
   "cell_type": "code",
   "execution_count": 5,
   "execution_state": "idle",
   "id": "32be1e43-bf2f-45f0-a763-277750014830",
   "metadata": {},
   "outputs": [
    {
     "name": "stderr",
     "output_type": "stream",
     "text": [
      "/opt/conda/lib/python3.11/site-packages/pydantic/_internal/_fields.py:192: UserWarning: Field name \"json\" in \"MonitoringDatasetFormat\" shadows an attribute in parent \"Base\"\n",
      "  warnings.warn(\n"
     ]
    },
    {
     "name": "stdout",
     "output_type": "stream",
     "text": [
      "sagemaker.config INFO - Not applying SDK defaults from location: /etc/xdg/sagemaker/config.yaml\n",
      "sagemaker.config INFO - Not applying SDK defaults from location: /home/sagemaker-user/.config/sagemaker/config.yaml\n"
     ]
    }
   ],
   "source": [
    "import boto3\n",
    "import sagemaker\n",
    "import pandas as pd\n",
    "\n",
    "# create sagemaker session\n",
    "sess =  sagemaker.Session()\n",
    "bucket = sess.default_bucket()\n",
    "role = sagemaker.get_execution_role()\n",
    "region = boto3.Session().region_name\n",
    "account_id = boto3.client(\"sts\").get_caller_identity().get(\"Account\")\n",
    "\n",
    "sm = boto3.Session().client(service_name=\"sagemaker\", region_name=region)"
   ]
  },
  {
   "cell_type": "code",
   "execution_count": 6,
   "execution_state": "idle",
   "id": "b317ba91-4ba4-4578-b2e4-891b2af49824",
   "metadata": {},
   "outputs": [],
   "source": [
    "# Set S3 Source Location (Public S3 Bucket)\n",
    "s3_public_path = \"s3://ads508-group7\""
   ]
  },
  {
   "cell_type": "code",
   "execution_count": 7,
   "execution_state": "idle",
   "id": "6f05470b-3ac5-410c-88a3-bf3b150418e0",
   "metadata": {},
   "outputs": [
    {
     "name": "stdout",
     "output_type": "stream",
     "text": [
      "Stored 's3_public_path' (str)\n"
     ]
    }
   ],
   "source": [
    "%store s3_public_path"
   ]
  },
  {
   "cell_type": "code",
   "execution_count": 8,
   "execution_state": "idle",
   "id": "298a8ce1-a2cc-4857-b064-f8adacd5a061",
   "metadata": {},
   "outputs": [
    {
     "name": "stdout",
     "output_type": "stream",
     "text": [
      "s3://sagemaker-us-east-1-643862913351/ads508-group7\n"
     ]
    }
   ],
   "source": [
    "# Set S3 Destination Location (Private S3 Bucket)\n",
    "s3_private_path = \"s3://{}/ads508-group7\".format(bucket)\n",
    "print(s3_private_path)"
   ]
  },
  {
   "cell_type": "code",
   "execution_count": 9,
   "execution_state": "idle",
   "id": "0105d94a-4e25-4476-b591-7f068679cf2a",
   "metadata": {},
   "outputs": [
    {
     "name": "stdout",
     "output_type": "stream",
     "text": [
      "Stored 's3_private_path' (str)\n"
     ]
    }
   ],
   "source": [
    "%store s3_private_path"
   ]
  },
  {
   "cell_type": "code",
   "execution_count": 10,
   "execution_state": "idle",
   "id": "6a48a57e-f562-4e23-b13e-9d6c55d2fb3a",
   "metadata": {},
   "outputs": [],
   "source": [
    "#Copy Data From the Public S3 Bucket to our Private S3 Bucket in this Account"
   ]
  },
  {
   "cell_type": "code",
   "execution_count": 11,
   "execution_state": "idle",
   "id": "5f3d23e8-0e65-4644-9dfe-f831effb4b83",
   "metadata": {},
   "outputs": [
    {
     "name": "stdout",
     "output_type": "stream",
     "text": [
      "copy: s3://ads508-group7/2023_Registered_Foreclosure_Properties.csv to s3://sagemaker-us-east-1-643862913351/ads508-group7/2023_Registered_Foreclosure_Properties.csv\n",
      "copy: s3://ads508-group7/2024_Registered_Foreclosure_Properties.csv to s3://sagemaker-us-east-1-643862913351/ads508-group7/2024_Registered_Foreclosure_Properties.csv\n",
      "copy: s3://ads508-group7/Arrest_Data_from_2020_to_Present.csv to s3://sagemaker-us-east-1-643862913351/ads508-group7/Arrest_Data_from_2020_to_Present.csv\n",
      "copy: s3://ads508-group7/Crime_Data_from_2020_to_Present.csv to s3://sagemaker-us-east-1-643862913351/ads508-group7/Crime_Data_from_2020_to_Present.csv\n"
     ]
    }
   ],
   "source": [
    "!aws s3 cp --recursive $s3_public_path/ $s3_private_path/ --exclude \"*\" --include \"2023_Registered_Foreclosure_Properties.csv\"\n",
    "!aws s3 cp --recursive $s3_public_path/ $s3_private_path/ --exclude \"*\" --include \"2024_Registered_Foreclosure_Properties.csv\"\n",
    "!aws s3 cp --recursive $s3_public_path/ $s3_private_path/ --exclude \"*\" --include \"Arrest_Data_from_2020_to_Present.csv\"\n",
    "!aws s3 cp --recursive $s3_public_path/ $s3_private_path/ --exclude \"*\" --include \"Crime_Data_from_2020_to_Present.csv\""
   ]
  },
  {
   "cell_type": "code",
   "execution_count": 12,
   "execution_state": "idle",
   "id": "fa8b28c5-9841-49b1-9e85-de9b2647773d",
   "metadata": {},
   "outputs": [
    {
     "name": "stdout",
     "output_type": "stream",
     "text": [
      "s3://sagemaker-us-east-1-643862913351/ads508-group7\n"
     ]
    }
   ],
   "source": [
    "# List Files in our Private S3 Bucket in this Account\n",
    "print(s3_private_path)"
   ]
  },
  {
   "cell_type": "code",
   "execution_count": 13,
   "execution_state": "idle",
   "id": "43f4f313-56ae-4db6-8409-61f2fe79e457",
   "metadata": {},
   "outputs": [
    {
     "name": "stdout",
     "output_type": "stream",
     "text": [
      "                           PRE arrests/\n",
      "2025-03-21 01:01:57     546709 2023_Registered_Foreclosure_Properties.csv\n",
      "2025-03-21 01:01:59     552165 2024_Registered_Foreclosure_Properties.csv\n",
      "2025-03-21 01:02:01   92038326 Arrest_Data_from_2020_to_Present.csv\n",
      "2025-03-21 01:02:04  255509498 Crime_Data_from_2020_to_Present.csv\n"
     ]
    }
   ],
   "source": [
    "!aws s3 ls $s3_private_path/"
   ]
  },
  {
   "cell_type": "code",
   "execution_count": 14,
   "execution_state": "idle",
   "id": "a161b099-bddd-4d06-a6e9-42d2d2f179db",
   "metadata": {},
   "outputs": [
    {
     "name": "stderr",
     "output_type": "stream",
     "text": [
      "/tmp/ipykernel_151/288684959.py:1: DeprecationWarning: Importing display from IPython.core.display is deprecated since IPython 7.14, please import from IPython.display\n",
      "  from IPython.core.display import display, HTML\n"
     ]
    },
    {
     "data": {
      "text/html": [
       "<b>Review <a target=\"blank\" href=\"https://s3.console.aws.amazon.com/s3/buckets/sagemaker-us-east-1-643862913351/ads508-group7/?region=us-east-1&tab=overview\">S3 Bucket</a></b>"
      ],
      "text/plain": [
       "<IPython.core.display.HTML object>"
      ]
     },
     "metadata": {},
     "output_type": "display_data"
    }
   ],
   "source": [
    "from IPython.core.display import display, HTML\n",
    "\n",
    "display(\n",
    "    HTML(\n",
    "        '<b>Review <a target=\"blank\" href=\"https://s3.console.aws.amazon.com/s3/buckets/sagemaker-{}-{}/ads508-group7/?region={}&tab=overview\">S3 Bucket</a></b>'.format(\n",
    "            region, account_id, region\n",
    "        )\n",
    "    )\n",
    ")"
   ]
  },
  {
   "cell_type": "code",
   "execution_count": 15,
   "execution_state": "idle",
   "id": "07eaae0c-49e3-43b0-930d-d880e7da96c0",
   "metadata": {},
   "outputs": [
    {
     "name": "stdout",
     "output_type": "stream",
     "text": [
      "Stored variables and their in-db values:\n",
      "ingest_create_athena_db_passed             -> True\n",
      "s3_private_path                            -> 's3://sagemaker-us-east-1-643862913351/ads508-grou\n",
      "s3_public_path                             -> 's3://ads508-group7'\n"
     ]
    }
   ],
   "source": [
    "# store variables for the next notebook\n",
    "%store"
   ]
  },
  {
   "cell_type": "markdown",
   "id": "e8a81a7d-b266-4160-b976-b027905560c4",
   "metadata": {},
   "source": [
    "# Setup Athena Database"
   ]
  },
  {
   "cell_type": "markdown",
   "id": "af84b1bc-23c8-429d-a336-a21d4aceb52e",
   "metadata": {},
   "source": [
    "## Create Database"
   ]
  },
  {
   "cell_type": "code",
   "execution_count": 25,
   "execution_state": "idle",
   "id": "58d70e49-7cd5-4a4b-baca-3e3193932047",
   "metadata": {},
   "outputs": [],
   "source": [
    "#setup pyathena\n",
    "!pip install --disable-pip-version-check -q PyAthena==2.1.0\n",
    "from pyathena import connect"
   ]
  },
  {
   "cell_type": "code",
   "execution_count": 26,
   "execution_state": "idle",
   "id": "84dfed8d-f19c-4b11-8d0c-2e66e30c5d8f",
   "metadata": {},
   "outputs": [
    {
     "name": "stdout",
     "output_type": "stream",
     "text": [
      "CREATE DATABASE IF NOT EXISTS crime_foreclosure_db\n"
     ]
    }
   ],
   "source": [
    "database_name = \"crime_foreclosure_db\"\n",
    "# Set S3 staging directory -- this is a temporary directory used for Athena queries\n",
    "s3_staging_dir = \"s3://{0}/athena/staging\".format(bucket)\n",
    "conn = connect(region_name=region, s3_staging_dir=s3_staging_dir)\n",
    "statement = \"CREATE DATABASE IF NOT EXISTS {}\".format(database_name)\n",
    "print(statement)"
   ]
  },
  {
   "cell_type": "code",
   "execution_count": 27,
   "execution_state": "idle",
   "id": "dce95e3f-3125-4c23-a2d2-f2004df3082e",
   "metadata": {},
   "outputs": [
    {
     "name": "stderr",
     "output_type": "stream",
     "text": [
      "/tmp/ipykernel_151/618921652.py:1: UserWarning: pandas only supports SQLAlchemy connectable (engine/connection) or database string URI or sqlite3 DBAPI2 connection. Other DBAPI2 objects are not tested. Please consider using SQLAlchemy.\n",
      "  pd.read_sql(statement, conn)\n"
     ]
    },
    {
     "data": {
      "text/html": [
       "<div>\n",
       "<style scoped>\n",
       "    .dataframe tbody tr th:only-of-type {\n",
       "        vertical-align: middle;\n",
       "    }\n",
       "\n",
       "    .dataframe tbody tr th {\n",
       "        vertical-align: top;\n",
       "    }\n",
       "\n",
       "    .dataframe thead th {\n",
       "        text-align: right;\n",
       "    }\n",
       "</style>\n",
       "<table border=\"1\" class=\"dataframe\">\n",
       "  <thead>\n",
       "    <tr style=\"text-align: right;\">\n",
       "      <th></th>\n",
       "    </tr>\n",
       "  </thead>\n",
       "  <tbody>\n",
       "  </tbody>\n",
       "</table>\n",
       "</div>"
      ],
      "text/plain": [
       "Empty DataFrame\n",
       "Columns: []\n",
       "Index: []"
      ]
     },
     "execution_count": 27,
     "metadata": {},
     "output_type": "execute_result"
    }
   ],
   "source": [
    "pd.read_sql(statement, conn)"
   ]
  },
  {
   "cell_type": "markdown",
   "id": "ee9a515e-5659-45f4-a65c-666643ac8dbd",
   "metadata": {},
   "source": [
    "## Validate Database Set Up Correctly"
   ]
  },
  {
   "cell_type": "code",
   "execution_count": 28,
   "execution_state": "idle",
   "id": "8169fdfb-1e35-4458-a65c-0d7af2e00045",
   "metadata": {},
   "outputs": [
    {
     "name": "stderr",
     "output_type": "stream",
     "text": [
      "/tmp/ipykernel_151/3999478089.py:3: UserWarning: pandas only supports SQLAlchemy connectable (engine/connection) or database string URI or sqlite3 DBAPI2 connection. Other DBAPI2 objects are not tested. Please consider using SQLAlchemy.\n",
      "  df_show = pd.read_sql(statement, conn)\n"
     ]
    },
    {
     "data": {
      "text/html": [
       "<div>\n",
       "<style scoped>\n",
       "    .dataframe tbody tr th:only-of-type {\n",
       "        vertical-align: middle;\n",
       "    }\n",
       "\n",
       "    .dataframe tbody tr th {\n",
       "        vertical-align: top;\n",
       "    }\n",
       "\n",
       "    .dataframe thead th {\n",
       "        text-align: right;\n",
       "    }\n",
       "</style>\n",
       "<table border=\"1\" class=\"dataframe\">\n",
       "  <thead>\n",
       "    <tr style=\"text-align: right;\">\n",
       "      <th></th>\n",
       "      <th>database_name</th>\n",
       "    </tr>\n",
       "  </thead>\n",
       "  <tbody>\n",
       "    <tr>\n",
       "      <th>0</th>\n",
       "      <td>crime_foreclosure_db</td>\n",
       "    </tr>\n",
       "    <tr>\n",
       "      <th>1</th>\n",
       "      <td>default</td>\n",
       "    </tr>\n",
       "  </tbody>\n",
       "</table>\n",
       "</div>"
      ],
      "text/plain": [
       "          database_name\n",
       "0  crime_foreclosure_db\n",
       "1               default"
      ]
     },
     "execution_count": 28,
     "metadata": {},
     "output_type": "execute_result"
    }
   ],
   "source": [
    "statement = \"SHOW DATABASES\"\n",
    "\n",
    "df_show = pd.read_sql(statement, conn)\n",
    "df_show.head(5)"
   ]
  },
  {
   "cell_type": "code",
   "execution_count": 29,
   "execution_state": "idle",
   "id": "0f90a530-918c-4ba3-b603-4ba491829298",
   "metadata": {},
   "outputs": [],
   "source": [
    "if database_name in df_show.values:\n",
    "    ingest_create_athena_db_passed = True"
   ]
  },
  {
   "cell_type": "code",
   "execution_count": 30,
   "execution_state": "idle",
   "id": "fff9ddb7-2f71-4b5a-bcbb-a3731c9aff52",
   "metadata": {},
   "outputs": [
    {
     "name": "stdout",
     "output_type": "stream",
     "text": [
      "Stored 'ingest_create_athena_db_passed' (bool)\n"
     ]
    }
   ],
   "source": [
    "%store ingest_create_athena_db_passed"
   ]
  },
  {
   "cell_type": "code",
   "execution_count": 31,
   "execution_state": "idle",
   "id": "7aaef97a-9608-4e14-a3ce-859d4d9b365d",
   "metadata": {},
   "outputs": [
    {
     "name": "stdout",
     "output_type": "stream",
     "text": [
      "Stored variables and their in-db values:\n",
      "ingest_create_athena_db_passed             -> True\n",
      "s3_private_path                            -> 's3://sagemaker-us-east-1-643862913351/ads508-grou\n",
      "s3_public_path                             -> 's3://ads508-group7'\n"
     ]
    }
   ],
   "source": [
    "# Store Variables for the Next Notebooks\n",
    "%store"
   ]
  },
  {
   "cell_type": "markdown",
   "id": "288b8e08-6324-47b5-bd4d-aec610538964",
   "metadata": {},
   "source": [
    "## Create tables in Athena"
   ]
  },
  {
   "cell_type": "markdown",
   "id": "423f2f39-5744-49e4-9ff4-bedbb6a90b84",
   "metadata": {},
   "source": [
    "### Arrest Data"
   ]
  },
  {
   "cell_type": "code",
   "execution_count": 61,
   "execution_state": "idle",
   "id": "baed8d2b-4aba-40ee-9d4d-9a4ab67da9e4",
   "metadata": {},
   "outputs": [
    {
     "data": {
      "text/plain": [
       "<pyathena.cursor.Cursor at 0x7fa2595e40d0>"
      ]
     },
     "execution_count": 61,
     "metadata": {},
     "output_type": "execute_result"
    }
   ],
   "source": [
    "#used ChatGPT for SERDEPROPERTIES refinement. Recieved errors for nulls, ChatGPT used to troubleshoot.\n",
    "from pyathena import connect\n",
    "\n",
    "# connection\n",
    "database_name = \"crime_foreclosure_db\"\n",
    "table_name = \"arrests\"\n",
    "s3_data_location = \"s3://sagemaker-us-east-1-643862913351/ads508-group7/arrests/\"\n",
    "s3_staging_dir = \"s3://sagemaker-us-east-1-643862913351/ads508-group7/query-results/\"  # Athena’s output\n",
    "conn = connect(\n",
    "    s3_staging_dir=s3_staging_dir,\n",
    "    region_name=\"us-east-1\"\n",
    ")\n",
    "cursor = conn.cursor()\n",
    "\n",
    "#SQL Create table, created all as strings to ensure everything loaded. Received errors with int. \n",
    "statement = f\"\"\"\n",
    "CREATE EXTERNAL TABLE IF NOT EXISTS {database_name}.{table_name} (\n",
    "    report_id string,\n",
    "    report_type string,\n",
    "    arrest_date string,\n",
    "    time string,\n",
    "    area_id string,\n",
    "    area_name string,\n",
    "    reporting_district string,\n",
    "    age string,\n",
    "    sex_code string,\n",
    "    descent_code string,\n",
    "    charge_group_code string,\n",
    "    charge_group_description string,\n",
    "    arrest_type_code string,\n",
    "    charge string,\n",
    "    charge_description string,\n",
    "    disposition_description string,\n",
    "    address string,\n",
    "    cross_street string,\n",
    "    lat string,\n",
    "    lon string,\n",
    "    location string,\n",
    "    booking_date string,\n",
    "    booking_time string,\n",
    "    booking_location string,\n",
    "    booking_location_code string\n",
    ")\n",
    "ROW FORMAT SERDE 'org.apache.hadoop.hive.serde2.OpenCSVSerde'\n",
    "WITH SERDEPROPERTIES (\n",
    "  'separatorChar' = ',',\n",
    "  'quoteChar'     = '\\\"', \n",
    "  'serialization.null.format' = ''\n",
    "\n",
    ")\n",
    "LOCATION '{s3_data_location}'\n",
    "TBLPROPERTIES ('skip.header.line.count'='1')\n",
    "\"\"\"\n",
    "\n",
    "# execute sql\n",
    "cursor.execute(statement)"
   ]
  },
  {
   "cell_type": "code",
   "execution_count": 59,
   "execution_state": "idle",
   "id": "879b5011-ea28-48ea-bcff-4ffe1017274c",
   "metadata": {},
   "outputs": [
    {
     "name": "stderr",
     "output_type": "stream",
     "text": [
      "/tmp/ipykernel_151/2343679411.py:3: UserWarning: pandas only supports SQLAlchemy connectable (engine/connection) or database string URI or sqlite3 DBAPI2 connection. Other DBAPI2 objects are not tested. Please consider using SQLAlchemy.\n",
      "  df_show = pd.read_sql(statement, conn)\n"
     ]
    },
    {
     "data": {
      "text/html": [
       "<div>\n",
       "<style scoped>\n",
       "    .dataframe tbody tr th:only-of-type {\n",
       "        vertical-align: middle;\n",
       "    }\n",
       "\n",
       "    .dataframe tbody tr th {\n",
       "        vertical-align: top;\n",
       "    }\n",
       "\n",
       "    .dataframe thead th {\n",
       "        text-align: right;\n",
       "    }\n",
       "</style>\n",
       "<table border=\"1\" class=\"dataframe\">\n",
       "  <thead>\n",
       "    <tr style=\"text-align: right;\">\n",
       "      <th></th>\n",
       "      <th>tab_name</th>\n",
       "    </tr>\n",
       "  </thead>\n",
       "  <tbody>\n",
       "    <tr>\n",
       "      <th>0</th>\n",
       "      <td>arrests</td>\n",
       "    </tr>\n",
       "  </tbody>\n",
       "</table>\n",
       "</div>"
      ],
      "text/plain": [
       "  tab_name\n",
       "0  arrests"
      ]
     },
     "execution_count": 59,
     "metadata": {},
     "output_type": "execute_result"
    }
   ],
   "source": [
    "#validate table created\n",
    "statement = \"SHOW TABLES IN crime_foreclosure_db\"\n",
    "df_show = pd.read_sql(statement, conn)\n",
    "df_show"
   ]
  },
  {
   "cell_type": "code",
   "execution_count": 60,
   "execution_state": "idle",
   "id": "e1487294-4d0b-43fa-b7ac-2776191aacd7",
   "metadata": {
    "scrolled": true
   },
   "outputs": [
    {
     "name": "stderr",
     "output_type": "stream",
     "text": [
      "/tmp/ipykernel_151/3842108231.py:3: UserWarning: pandas only supports SQLAlchemy connectable (engine/connection) or database string URI or sqlite3 DBAPI2 connection. Other DBAPI2 objects are not tested. Please consider using SQLAlchemy.\n",
      "  arrest_sample = pd.read_sql(query, conn)\n"
     ]
    },
    {
     "data": {
      "text/html": [
       "<div>\n",
       "<style scoped>\n",
       "    .dataframe tbody tr th:only-of-type {\n",
       "        vertical-align: middle;\n",
       "    }\n",
       "\n",
       "    .dataframe tbody tr th {\n",
       "        vertical-align: top;\n",
       "    }\n",
       "\n",
       "    .dataframe thead th {\n",
       "        text-align: right;\n",
       "    }\n",
       "</style>\n",
       "<table border=\"1\" class=\"dataframe\">\n",
       "  <thead>\n",
       "    <tr style=\"text-align: right;\">\n",
       "      <th></th>\n",
       "      <th>report_id</th>\n",
       "      <th>report_type</th>\n",
       "      <th>arrest_date</th>\n",
       "      <th>time</th>\n",
       "      <th>area_id</th>\n",
       "      <th>area_name</th>\n",
       "      <th>reporting_district</th>\n",
       "      <th>age</th>\n",
       "      <th>sex_code</th>\n",
       "      <th>descent_code</th>\n",
       "      <th>...</th>\n",
       "      <th>disposition_description</th>\n",
       "      <th>address</th>\n",
       "      <th>cross_street</th>\n",
       "      <th>lat</th>\n",
       "      <th>lon</th>\n",
       "      <th>location</th>\n",
       "      <th>booking_date</th>\n",
       "      <th>booking_time</th>\n",
       "      <th>booking_location</th>\n",
       "      <th>booking_location_code</th>\n",
       "    </tr>\n",
       "  </thead>\n",
       "  <tbody>\n",
       "    <tr>\n",
       "      <th>0</th>\n",
       "      <td>6185369</td>\n",
       "      <td>BOOKING</td>\n",
       "      <td>05/24/2021 12:00:00 AM</td>\n",
       "      <td>1400</td>\n",
       "      <td>05</td>\n",
       "      <td>Harbor</td>\n",
       "      <td>0585</td>\n",
       "      <td>29</td>\n",
       "      <td>M</td>\n",
       "      <td>H</td>\n",
       "      <td>...</td>\n",
       "      <td>OTHER (REQUIRES ADDITION ACTION)</td>\n",
       "      <td>500 W  21ST                         ST</td>\n",
       "      <td></td>\n",
       "      <td>33.7252</td>\n",
       "      <td>-118.2885</td>\n",
       "      <td>POINT (-118.2885 33.7252)</td>\n",
       "      <td>05/24/2021 12:00:00 AM</td>\n",
       "      <td>1613</td>\n",
       "      <td>77TH ST</td>\n",
       "      <td>4212</td>\n",
       "    </tr>\n",
       "    <tr>\n",
       "      <th>1</th>\n",
       "      <td>221900608</td>\n",
       "      <td>RFC</td>\n",
       "      <td>04/17/2022 12:00:00 AM</td>\n",
       "      <td>0900</td>\n",
       "      <td>19</td>\n",
       "      <td>Mission</td>\n",
       "      <td>1998</td>\n",
       "      <td>37</td>\n",
       "      <td>M</td>\n",
       "      <td>O</td>\n",
       "      <td>...</td>\n",
       "      <td>DISTRICT ATTORNEY REJECT</td>\n",
       "      <td>13900    SATICOY                      ST</td>\n",
       "      <td></td>\n",
       "      <td>34.2104</td>\n",
       "      <td>-118.4355</td>\n",
       "      <td>POINT (-118.4355 34.2104)</td>\n",
       "      <td></td>\n",
       "      <td></td>\n",
       "      <td></td>\n",
       "      <td></td>\n",
       "    </tr>\n",
       "    <tr>\n",
       "      <th>2</th>\n",
       "      <td>6298541</td>\n",
       "      <td>BOOKING</td>\n",
       "      <td>12/26/2021 12:00:00 AM</td>\n",
       "      <td>1445</td>\n",
       "      <td>21</td>\n",
       "      <td>Topanga</td>\n",
       "      <td>2118</td>\n",
       "      <td>25</td>\n",
       "      <td>M</td>\n",
       "      <td>H</td>\n",
       "      <td>...</td>\n",
       "      <td>CITY ATTORNEY REJECT</td>\n",
       "      <td>20100    ROSCOE                       BL</td>\n",
       "      <td></td>\n",
       "      <td>34.2202</td>\n",
       "      <td>-118.5714</td>\n",
       "      <td>POINT (-118.5714 34.2202)</td>\n",
       "      <td>12/26/2021 12:00:00 AM</td>\n",
       "      <td>1919</td>\n",
       "      <td>VALLEY - JAIL DIV</td>\n",
       "      <td>4279</td>\n",
       "    </tr>\n",
       "    <tr>\n",
       "      <th>3</th>\n",
       "      <td>5928943</td>\n",
       "      <td>BOOKING</td>\n",
       "      <td>05/09/2020 12:00:00 AM</td>\n",
       "      <td>1730</td>\n",
       "      <td>06</td>\n",
       "      <td>Hollywood</td>\n",
       "      <td>0642</td>\n",
       "      <td>35</td>\n",
       "      <td>M</td>\n",
       "      <td>B</td>\n",
       "      <td>...</td>\n",
       "      <td>CITY ATTORNEY REJECT</td>\n",
       "      <td>7600 W  SUNSET                       BL</td>\n",
       "      <td></td>\n",
       "      <td>34.0981</td>\n",
       "      <td>-118.355</td>\n",
       "      <td>POINT (-118.355 34.0981)</td>\n",
       "      <td>05/09/2020 12:00:00 AM</td>\n",
       "      <td>1900</td>\n",
       "      <td>HOLLYWOOD</td>\n",
       "      <td>4206</td>\n",
       "    </tr>\n",
       "    <tr>\n",
       "      <th>4</th>\n",
       "      <td>221413759</td>\n",
       "      <td>RFC</td>\n",
       "      <td>06/29/2022 12:00:00 AM</td>\n",
       "      <td>0130</td>\n",
       "      <td>14</td>\n",
       "      <td>Pacific</td>\n",
       "      <td>1431</td>\n",
       "      <td>36</td>\n",
       "      <td>M</td>\n",
       "      <td>W</td>\n",
       "      <td>...</td>\n",
       "      <td>MISDEMEANOR COMPLAINT FILED</td>\n",
       "      <td>OCEAN FRONT                  WK</td>\n",
       "      <td>MARKET                       ST</td>\n",
       "      <td>33.9874</td>\n",
       "      <td>-118.4741</td>\n",
       "      <td>POINT (-118.4741 33.9874)</td>\n",
       "      <td></td>\n",
       "      <td></td>\n",
       "      <td></td>\n",
       "      <td></td>\n",
       "    </tr>\n",
       "  </tbody>\n",
       "</table>\n",
       "<p>5 rows × 25 columns</p>\n",
       "</div>"
      ],
      "text/plain": [
       "   report_id report_type             arrest_date  time area_id  area_name  \\\n",
       "0    6185369     BOOKING  05/24/2021 12:00:00 AM  1400      05     Harbor   \n",
       "1  221900608         RFC  04/17/2022 12:00:00 AM  0900      19    Mission   \n",
       "2    6298541     BOOKING  12/26/2021 12:00:00 AM  1445      21    Topanga   \n",
       "3    5928943     BOOKING  05/09/2020 12:00:00 AM  1730      06  Hollywood   \n",
       "4  221413759         RFC  06/29/2022 12:00:00 AM  0130      14    Pacific   \n",
       "\n",
       "  reporting_district age sex_code descent_code  ...  \\\n",
       "0               0585  29        M            H  ...   \n",
       "1               1998  37        M            O  ...   \n",
       "2               2118  25        M            H  ...   \n",
       "3               0642  35        M            B  ...   \n",
       "4               1431  36        M            W  ...   \n",
       "\n",
       "            disposition_description                                   address  \\\n",
       "0  OTHER (REQUIRES ADDITION ACTION)    500 W  21ST                         ST   \n",
       "1          DISTRICT ATTORNEY REJECT  13900    SATICOY                      ST   \n",
       "2              CITY ATTORNEY REJECT  20100    ROSCOE                       BL   \n",
       "3              CITY ATTORNEY REJECT   7600 W  SUNSET                       BL   \n",
       "4       MISDEMEANOR COMPLAINT FILED           OCEAN FRONT                  WK   \n",
       "\n",
       "                      cross_street      lat        lon  \\\n",
       "0                                   33.7252  -118.2885   \n",
       "1                                   34.2104  -118.4355   \n",
       "2                                   34.2202  -118.5714   \n",
       "3                                   34.0981   -118.355   \n",
       "4  MARKET                       ST  33.9874  -118.4741   \n",
       "\n",
       "                    location            booking_date booking_time  \\\n",
       "0  POINT (-118.2885 33.7252)  05/24/2021 12:00:00 AM         1613   \n",
       "1  POINT (-118.4355 34.2104)                                        \n",
       "2  POINT (-118.5714 34.2202)  12/26/2021 12:00:00 AM         1919   \n",
       "3   POINT (-118.355 34.0981)  05/09/2020 12:00:00 AM         1900   \n",
       "4  POINT (-118.4741 33.9874)                                        \n",
       "\n",
       "    booking_location booking_location_code  \n",
       "0            77TH ST                  4212  \n",
       "1                                           \n",
       "2  VALLEY - JAIL DIV                  4279  \n",
       "3          HOLLYWOOD                  4206  \n",
       "4                                           \n",
       "\n",
       "[5 rows x 25 columns]"
      ]
     },
     "execution_count": 60,
     "metadata": {},
     "output_type": "execute_result"
    }
   ],
   "source": [
    "#validate that data loaded\n",
    "query = \"SELECT * FROM crime_foreclosure_db.arrests LIMIT 5\"\n",
    "arrest_sample = pd.read_sql(query, conn)\n",
    "arrest_sample"
   ]
  },
  {
   "cell_type": "code",
   "execution_count": 63,
   "execution_state": "idle",
   "id": "501b3566-8e72-44eb-a64f-9621749ad6ed",
   "metadata": {},
   "outputs": [],
   "source": [
    "if table_name in df_show.values:\n",
    "    ingest_create_athena_table_arrests_passed = True"
   ]
  },
  {
   "cell_type": "code",
   "execution_count": 64,
   "execution_state": "idle",
   "id": "07ed349c-f018-49c0-96ec-7dd90078afa0",
   "metadata": {},
   "outputs": [
    {
     "name": "stdout",
     "output_type": "stream",
     "text": [
      "Stored 'ingest_create_athena_table_arrests_passed' (bool)\n"
     ]
    }
   ],
   "source": [
    "%store ingest_create_athena_table_arrests_passed"
   ]
  },
  {
   "cell_type": "code",
   "execution_count": 73,
   "execution_state": "idle",
   "id": "a765e592-c16b-4299-a7d9-d0bd84f0d479",
   "metadata": {},
   "outputs": [
    {
     "name": "stderr",
     "output_type": "stream",
     "text": [
      "/tmp/ipykernel_151/3782172119.py:2: DeprecationWarning: Importing display from IPython.core.display is deprecated since IPython 7.14, please import from IPython.display\n",
      "  from IPython.core.display import display, HTML\n"
     ]
    },
    {
     "data": {
      "text/html": [
       "<b>Review <a target=\"top\" href=\"https://us-east-1.console.aws.amazon.com/glue/home?region=us-east-1#/v2/data-catalog/databases/view/crime_foreclosure_db?catalogId=643862913351\">AWS Glue Catalog</a></b>"
      ],
      "text/plain": [
       "<IPython.core.display.HTML object>"
      ]
     },
     "metadata": {},
     "output_type": "display_data"
    }
   ],
   "source": [
    "#AWS Glue Catalog\n",
    "from IPython.core.display import display, HTML\n",
    "\n",
    "display(\n",
    "    HTML(\n",
    "        '<b>Review <a target=\"top\" href=\"https://us-east-1.console.aws.amazon.com/glue/home?region=us-east-1#/v2/data-catalog/databases/view/crime_foreclosure_db?catalogId=643862913351\">AWS Glue Catalog</a></b>'.format(\n",
    "            region\n",
    "        )\n",
    "    )\n",
    ")\n",
    "\n"
   ]
  },
  {
   "cell_type": "markdown",
   "id": "0de05c88-09a7-486a-9b75-1023fbea47e0",
   "metadata": {},
   "source": [
    "# EDA"
   ]
  },
  {
   "cell_type": "code",
   "execution_count": 66,
   "execution_state": "idle",
   "id": "50631102-5d09-4a45-8609-454dc538ece1",
   "metadata": {},
   "outputs": [
    {
     "name": "stdout",
     "output_type": "stream",
     "text": [
      "Collecting awswrangler\n",
      "  Using cached awswrangler-3.11.0-py3-none-any.whl.metadata (17 kB)\n",
      "Requirement already satisfied: boto3<2.0.0,>=1.20.32 in /opt/conda/lib/python3.11/site-packages (from awswrangler) (1.36.23)\n",
      "Requirement already satisfied: botocore<2.0.0,>=1.23.32 in /opt/conda/lib/python3.11/site-packages (from awswrangler) (1.36.23)\n",
      "Requirement already satisfied: numpy<3.0,>=1.26 in /opt/conda/lib/python3.11/site-packages (from awswrangler) (1.26.4)\n",
      "Requirement already satisfied: packaging<25.0,>=21.1 in /opt/conda/lib/python3.11/site-packages (from awswrangler) (24.2)\n",
      "Requirement already satisfied: pandas<3.0.0,>=1.2.0 in /opt/conda/lib/python3.11/site-packages (from awswrangler) (2.2.3)\n",
      "Requirement already satisfied: pyarrow<19.0.0,>=8.0.0 in /opt/conda/lib/python3.11/site-packages (from awswrangler) (17.0.0)\n",
      "Requirement already satisfied: typing-extensions<5.0.0,>=4.4.0 in /opt/conda/lib/python3.11/site-packages (from awswrangler) (4.12.2)\n",
      "Requirement already satisfied: jmespath<2.0.0,>=0.7.1 in /opt/conda/lib/python3.11/site-packages (from boto3<2.0.0,>=1.20.32->awswrangler) (1.0.1)\n",
      "Requirement already satisfied: s3transfer<0.12.0,>=0.11.0 in /opt/conda/lib/python3.11/site-packages (from boto3<2.0.0,>=1.20.32->awswrangler) (0.11.3)\n",
      "Requirement already satisfied: python-dateutil<3.0.0,>=2.1 in /opt/conda/lib/python3.11/site-packages (from botocore<2.0.0,>=1.23.32->awswrangler) (2.9.0.post0)\n",
      "Requirement already satisfied: urllib3!=2.2.0,<3,>=1.25.4 in /opt/conda/lib/python3.11/site-packages (from botocore<2.0.0,>=1.23.32->awswrangler) (2.3.0)\n",
      "Requirement already satisfied: pytz>=2020.1 in /opt/conda/lib/python3.11/site-packages (from pandas<3.0.0,>=1.2.0->awswrangler) (2024.1)\n",
      "Requirement already satisfied: tzdata>=2022.7 in /opt/conda/lib/python3.11/site-packages (from pandas<3.0.0,>=1.2.0->awswrangler) (2025.1)\n",
      "Requirement already satisfied: six>=1.5 in /opt/conda/lib/python3.11/site-packages (from python-dateutil<3.0.0,>=2.1->botocore<2.0.0,>=1.23.32->awswrangler) (1.17.0)\n",
      "Using cached awswrangler-3.11.0-py3-none-any.whl (379 kB)\n",
      "Installing collected packages: awswrangler\n",
      "Successfully installed awswrangler-3.11.0\n"
     ]
    }
   ],
   "source": [
    "!pip install awswrangler"
   ]
  },
  {
   "cell_type": "code",
   "execution_count": 74,
   "execution_state": "idle",
   "id": "7a8523bd-e4a2-4f5a-86d2-7cb37c8947a8",
   "metadata": {},
   "outputs": [],
   "source": [
    "#import libraries for EDA\n",
    "import awswrangler as wr\n",
    "import pandas as pd\n",
    "import numpy as np\n",
    "import matplotlib.pyplot as plt\n",
    "import seaborn as sns"
   ]
  },
  {
   "cell_type": "markdown",
   "id": "f317a456-3273-4f8e-b493-52b3e1602672",
   "metadata": {},
   "source": [
    "## Arrest Data"
   ]
  },
  {
   "cell_type": "code",
   "execution_count": 67,
   "execution_state": "idle",
   "id": "e5d013fd-06ae-4c9e-9929-e63e082cfe7c",
   "metadata": {},
   "outputs": [
    {
     "data": {
      "text/html": [
       "<pre style=\"white-space:pre;overflow-x:auto;line-height:normal;font-family:Menlo,'DejaVu Sans Mono',consolas,'Courier New',monospace\"><span style=\"color: #7fbfbf; text-decoration-color: #7fbfbf\">[03/21/25 01:31:16] </span><span style=\"color: #0069ff; text-decoration-color: #0069ff; font-weight: bold\">INFO    </span> Initializing a Ray instance                                               <a href=\"file:///opt/conda/lib/python3.11/site-packages/awswrangler/distributed/ray/_core.py\" target=\"_blank\"><span style=\"color: #7f7f7f; text-decoration-color: #7f7f7f\">_core.py</span></a><span style=\"color: #7f7f7f; text-decoration-color: #7f7f7f\">:</span><a href=\"file:///opt/conda/lib/python3.11/site-packages/awswrangler/distributed/ray/_core.py#202\" target=\"_blank\"><span style=\"color: #7f7f7f; text-decoration-color: #7f7f7f\">202</span></a>\n",
       "</pre>\n"
      ],
      "text/plain": [
       "\u001b[2;36m[03/21/25 01:31:16]\u001b[0m\u001b[2;36m \u001b[0m\u001b[1;38;2;0;105;255mINFO    \u001b[0m Initializing a Ray instance                                               \u001b]8;id=752719;file:///opt/conda/lib/python3.11/site-packages/awswrangler/distributed/ray/_core.py\u001b\\\u001b[2m_core.py\u001b[0m\u001b]8;;\u001b\\\u001b[2m:\u001b[0m\u001b]8;id=673289;file:///opt/conda/lib/python3.11/site-packages/awswrangler/distributed/ray/_core.py#202\u001b\\\u001b[2m202\u001b[0m\u001b]8;;\u001b\\\n"
      ]
     },
     "metadata": {},
     "output_type": "display_data"
    },
    {
     "name": "stderr",
     "output_type": "stream",
     "text": [
      "2025-03-21 01:31:19,024\tWARNING services.py:2022 -- WARNING: The object store is using /tmp instead of /dev/shm because /dev/shm has only 411021312 bytes available. This will harm performance! You may be able to free up space by deleting files in /dev/shm. If you are inside a Docker container, you can increase /dev/shm size by passing '--shm-size=0.80gb' to 'docker run' (or add it to the run_options list in a Ray cluster config). Make sure to set this to more than 30% of available RAM.\n",
      "2025-03-21 01:31:20,328\tINFO worker.py:1786 -- Started a local Ray instance.\n"
     ]
    },
    {
     "data": {
      "text/html": [
       "<div>\n",
       "<style scoped>\n",
       "    .dataframe tbody tr th:only-of-type {\n",
       "        vertical-align: middle;\n",
       "    }\n",
       "\n",
       "    .dataframe tbody tr th {\n",
       "        vertical-align: top;\n",
       "    }\n",
       "\n",
       "    .dataframe thead th {\n",
       "        text-align: right;\n",
       "    }\n",
       "</style>\n",
       "<table border=\"1\" class=\"dataframe\">\n",
       "  <thead>\n",
       "    <tr style=\"text-align: right;\">\n",
       "      <th></th>\n",
       "      <th>Report ID</th>\n",
       "      <th>Report Type</th>\n",
       "      <th>Arrest Date</th>\n",
       "      <th>Time</th>\n",
       "      <th>Area ID</th>\n",
       "      <th>Area Name</th>\n",
       "      <th>Reporting District</th>\n",
       "      <th>Age</th>\n",
       "      <th>Sex Code</th>\n",
       "      <th>Descent Code</th>\n",
       "      <th>...</th>\n",
       "      <th>Disposition Description</th>\n",
       "      <th>Address</th>\n",
       "      <th>Cross Street</th>\n",
       "      <th>LAT</th>\n",
       "      <th>LON</th>\n",
       "      <th>Location</th>\n",
       "      <th>Booking Date</th>\n",
       "      <th>Booking Time</th>\n",
       "      <th>Booking Location</th>\n",
       "      <th>Booking Location Code</th>\n",
       "    </tr>\n",
       "  </thead>\n",
       "  <tbody>\n",
       "    <tr>\n",
       "      <th>0</th>\n",
       "      <td>6636966</td>\n",
       "      <td>BOOKING</td>\n",
       "      <td>07/06/2023 12:00:00 AM</td>\n",
       "      <td>2250.0</td>\n",
       "      <td>8</td>\n",
       "      <td>West LA</td>\n",
       "      <td>817</td>\n",
       "      <td>46</td>\n",
       "      <td>M</td>\n",
       "      <td>B</td>\n",
       "      <td>...</td>\n",
       "      <td>MISDEMEANOR COMPLAINT FILED</td>\n",
       "      <td>900    GAYLEY                       AV</td>\n",
       "      <td>NaN</td>\n",
       "      <td>34.0637</td>\n",
       "      <td>-118.4482</td>\n",
       "      <td>POINT (-118.4482 34.0637)</td>\n",
       "      <td>07/07/2023 12:00:00 AM</td>\n",
       "      <td>143.0</td>\n",
       "      <td>METRO - JAIL DIVISION</td>\n",
       "      <td>4273.0</td>\n",
       "    </tr>\n",
       "    <tr>\n",
       "      <th>1</th>\n",
       "      <td>6637119</td>\n",
       "      <td>BOOKING</td>\n",
       "      <td>07/07/2023 12:00:00 AM</td>\n",
       "      <td>1000.0</td>\n",
       "      <td>3</td>\n",
       "      <td>Southwest</td>\n",
       "      <td>396</td>\n",
       "      <td>39</td>\n",
       "      <td>M</td>\n",
       "      <td>B</td>\n",
       "      <td>...</td>\n",
       "      <td>MISDEMEANOR COMPLAINT FILED</td>\n",
       "      <td>40TH                         PL</td>\n",
       "      <td>VERMONT</td>\n",
       "      <td>34.0100</td>\n",
       "      <td>-118.2915</td>\n",
       "      <td>POINT (-118.2915 34.01)</td>\n",
       "      <td>07/07/2023 12:00:00 AM</td>\n",
       "      <td>1156.0</td>\n",
       "      <td>77TH ST</td>\n",
       "      <td>4212.0</td>\n",
       "    </tr>\n",
       "    <tr>\n",
       "      <th>2</th>\n",
       "      <td>6624479</td>\n",
       "      <td>BOOKING</td>\n",
       "      <td>06/15/2023 12:00:00 AM</td>\n",
       "      <td>1850.0</td>\n",
       "      <td>7</td>\n",
       "      <td>Wilshire</td>\n",
       "      <td>724</td>\n",
       "      <td>33</td>\n",
       "      <td>F</td>\n",
       "      <td>H</td>\n",
       "      <td>...</td>\n",
       "      <td>MISDEMEANOR COMPLAINT FILED</td>\n",
       "      <td>100    THE GROVE                    DR</td>\n",
       "      <td>NaN</td>\n",
       "      <td>34.0736</td>\n",
       "      <td>-118.3563</td>\n",
       "      <td>POINT (-118.3563 34.0736)</td>\n",
       "      <td>06/15/2023 12:00:00 AM</td>\n",
       "      <td>2251.0</td>\n",
       "      <td>77TH ST</td>\n",
       "      <td>4212.0</td>\n",
       "    </tr>\n",
       "    <tr>\n",
       "      <th>3</th>\n",
       "      <td>6636128</td>\n",
       "      <td>BOOKING</td>\n",
       "      <td>07/05/2023 12:00:00 AM</td>\n",
       "      <td>1550.0</td>\n",
       "      <td>2</td>\n",
       "      <td>Rampart</td>\n",
       "      <td>218</td>\n",
       "      <td>30</td>\n",
       "      <td>F</td>\n",
       "      <td>B</td>\n",
       "      <td>...</td>\n",
       "      <td>MISDEMEANOR COMPLAINT FILED</td>\n",
       "      <td>1000    ECHO PARK                    AV</td>\n",
       "      <td>NaN</td>\n",
       "      <td>34.0741</td>\n",
       "      <td>-118.2590</td>\n",
       "      <td>POINT (-118.259 34.0741)</td>\n",
       "      <td>07/05/2023 12:00:00 AM</td>\n",
       "      <td>1940.0</td>\n",
       "      <td>METRO - JAIL DIVISION</td>\n",
       "      <td>4273.0</td>\n",
       "    </tr>\n",
       "    <tr>\n",
       "      <th>4</th>\n",
       "      <td>6636650</td>\n",
       "      <td>BOOKING</td>\n",
       "      <td>07/06/2023 12:00:00 AM</td>\n",
       "      <td>1335.0</td>\n",
       "      <td>12</td>\n",
       "      <td>77th Street</td>\n",
       "      <td>1258</td>\n",
       "      <td>31</td>\n",
       "      <td>M</td>\n",
       "      <td>H</td>\n",
       "      <td>...</td>\n",
       "      <td>NaN</td>\n",
       "      <td>7800 S  BROADWAY</td>\n",
       "      <td>NaN</td>\n",
       "      <td>33.9689</td>\n",
       "      <td>-118.2783</td>\n",
       "      <td>POINT (-118.2783 33.9689)</td>\n",
       "      <td>07/06/2023 12:00:00 AM</td>\n",
       "      <td>1345.0</td>\n",
       "      <td>77TH ST</td>\n",
       "      <td>4212.0</td>\n",
       "    </tr>\n",
       "  </tbody>\n",
       "</table>\n",
       "<p>5 rows × 25 columns</p>\n",
       "</div>"
      ],
      "text/plain": [
       "   Report ID Report Type             Arrest Date    Time  Area ID  \\\n",
       "0    6636966     BOOKING  07/06/2023 12:00:00 AM  2250.0        8   \n",
       "1    6637119     BOOKING  07/07/2023 12:00:00 AM  1000.0        3   \n",
       "2    6624479     BOOKING  06/15/2023 12:00:00 AM  1850.0        7   \n",
       "3    6636128     BOOKING  07/05/2023 12:00:00 AM  1550.0        2   \n",
       "4    6636650     BOOKING  07/06/2023 12:00:00 AM  1335.0       12   \n",
       "\n",
       "     Area Name  Reporting District  Age Sex Code Descent Code  ...  \\\n",
       "0      West LA                 817   46        M            B  ...   \n",
       "1    Southwest                 396   39        M            B  ...   \n",
       "2     Wilshire                 724   33        F            H  ...   \n",
       "3      Rampart                 218   30        F            B  ...   \n",
       "4  77th Street                1258   31        M            H  ...   \n",
       "\n",
       "       Disposition Description                                  Address  \\\n",
       "0  MISDEMEANOR COMPLAINT FILED   900    GAYLEY                       AV   \n",
       "1  MISDEMEANOR COMPLAINT FILED          40TH                         PL   \n",
       "2  MISDEMEANOR COMPLAINT FILED   100    THE GROVE                    DR   \n",
       "3  MISDEMEANOR COMPLAINT FILED  1000    ECHO PARK                    AV   \n",
       "4                          NaN                         7800 S  BROADWAY   \n",
       "\n",
       "  Cross Street      LAT       LON                   Location  \\\n",
       "0          NaN  34.0637 -118.4482  POINT (-118.4482 34.0637)   \n",
       "1      VERMONT  34.0100 -118.2915    POINT (-118.2915 34.01)   \n",
       "2          NaN  34.0736 -118.3563  POINT (-118.3563 34.0736)   \n",
       "3          NaN  34.0741 -118.2590   POINT (-118.259 34.0741)   \n",
       "4          NaN  33.9689 -118.2783  POINT (-118.2783 33.9689)   \n",
       "\n",
       "             Booking Date Booking Time       Booking Location  \\\n",
       "0  07/07/2023 12:00:00 AM        143.0  METRO - JAIL DIVISION   \n",
       "1  07/07/2023 12:00:00 AM       1156.0                77TH ST   \n",
       "2  06/15/2023 12:00:00 AM       2251.0                77TH ST   \n",
       "3  07/05/2023 12:00:00 AM       1940.0  METRO - JAIL DIVISION   \n",
       "4  07/06/2023 12:00:00 AM       1345.0                77TH ST   \n",
       "\n",
       "   Booking Location Code  \n",
       "0                 4273.0  \n",
       "1                 4212.0  \n",
       "2                 4212.0  \n",
       "3                 4273.0  \n",
       "4                 4212.0  \n",
       "\n",
       "[5 rows x 25 columns]"
      ]
     },
     "execution_count": 67,
     "metadata": {},
     "output_type": "execute_result"
    }
   ],
   "source": [
    "# Read the CSV file directly from S3\n",
    "df_arrest = wr.s3.read_csv(\"s3://sagemaker-us-east-1-643862913351/ads508-group7/arrests/Arrest_Data_from_2020_to_Present.csv\")\n",
    "\n",
    "# Display the first few rows\n",
    "df_arrest.head()"
   ]
  },
  {
   "cell_type": "markdown",
   "id": "8ee18f00-cdb4-4ad3-ac4e-530b58b6c753",
   "metadata": {},
   "source": [
    "### Basic Data Information"
   ]
  },
  {
   "cell_type": "code",
   "execution_count": 75,
   "execution_state": "idle",
   "id": "3fec0ca2-343b-4fb1-bae0-8b094fedfbd0",
   "metadata": {},
   "outputs": [
    {
     "data": {
      "text/plain": [
       "(338332, 25)"
      ]
     },
     "execution_count": 75,
     "metadata": {},
     "output_type": "execute_result"
    }
   ],
   "source": [
    "df_arrest.shape"
   ]
  },
  {
   "cell_type": "code",
   "execution_count": 77,
   "execution_state": "idle",
   "id": "6cb3c481-b60a-4649-8828-fb51074fc50d",
   "metadata": {},
   "outputs": [
    {
     "data": {
      "text/plain": [
       "0"
      ]
     },
     "execution_count": 77,
     "metadata": {},
     "output_type": "execute_result"
    }
   ],
   "source": [
    "#are there duplicates?\n",
    "df_arrest.duplicated().sum()"
   ]
  },
  {
   "cell_type": "code",
   "execution_count": 79,
   "execution_state": "idle",
   "id": "88e653c8-d3c3-4863-9f71-6ce1c9e8cf51",
   "metadata": {},
   "outputs": [
    {
     "data": {
      "text/plain": [
       "Report ID                     int64\n",
       "Report Type                  object\n",
       "Arrest Date                  object\n",
       "Time                        float64\n",
       "Area ID                       int64\n",
       "Area Name                    object\n",
       "Reporting District            int64\n",
       "Age                           int64\n",
       "Sex Code                     object\n",
       "Descent Code                 object\n",
       "Charge Group Code           float64\n",
       "Charge Group Description     object\n",
       "Arrest Type Code             object\n",
       "Charge                       object\n",
       "Charge Description           object\n",
       "Disposition Description      object\n",
       "Address                      object\n",
       "Cross Street                 object\n",
       "LAT                         float64\n",
       "LON                         float64\n",
       "Location                     object\n",
       "Booking Date                 object\n",
       "Booking Time                float64\n",
       "Booking Location             object\n",
       "Booking Location Code       float64\n",
       "dtype: object"
      ]
     },
     "execution_count": 79,
     "metadata": {},
     "output_type": "execute_result"
    }
   ],
   "source": [
    "#get datatypes\n",
    "df_arrest.dtypes"
   ]
  },
  {
   "cell_type": "markdown",
   "id": "4531caf2-d9a3-4491-94f8-10cb927c89d7",
   "metadata": {},
   "source": [
    "### Data Quality Report - Continous"
   ]
  },
  {
   "cell_type": "code",
   "execution_count": 80,
   "execution_state": "idle",
   "id": "3906044c-7a68-48c8-929c-1ebd7d605b36",
   "metadata": {},
   "outputs": [
    {
     "data": {
      "text/plain": [
       "['Report ID',\n",
       " 'Time',\n",
       " 'Area ID',\n",
       " 'Reporting District',\n",
       " 'Age',\n",
       " 'Charge Group Code',\n",
       " 'LAT',\n",
       " 'LON',\n",
       " 'Booking Time',\n",
       " 'Booking Location Code']"
      ]
     },
     "execution_count": 80,
     "metadata": {},
     "output_type": "execute_result"
    }
   ],
   "source": [
    "#identify continuous features\n",
    "conf = df_arrest.select_dtypes(include=['float64', 'int64']).columns.tolist()\n",
    "conf"
   ]
  },
  {
   "cell_type": "code",
   "execution_count": 81,
   "execution_state": "idle",
   "id": "9b80abf8-dd9a-4cc7-a27d-1f88c471ed5a",
   "metadata": {},
   "outputs": [
    {
     "data": {
      "text/html": [
       "<div>\n",
       "<style scoped>\n",
       "    .dataframe tbody tr th:only-of-type {\n",
       "        vertical-align: middle;\n",
       "    }\n",
       "\n",
       "    .dataframe tbody tr th {\n",
       "        vertical-align: top;\n",
       "    }\n",
       "\n",
       "    .dataframe thead th {\n",
       "        text-align: right;\n",
       "    }\n",
       "</style>\n",
       "<table border=\"1\" class=\"dataframe\">\n",
       "  <thead>\n",
       "    <tr style=\"text-align: right;\">\n",
       "      <th></th>\n",
       "      <th>Feature</th>\n",
       "      <th>Count</th>\n",
       "      <th>Missing Values</th>\n",
       "      <th>Cardinality</th>\n",
       "      <th>Min</th>\n",
       "      <th>1st Quartile</th>\n",
       "      <th>Mean</th>\n",
       "      <th>Median</th>\n",
       "      <th>3rd Quartile</th>\n",
       "      <th>Max</th>\n",
       "      <th>Standard Deviation</th>\n",
       "    </tr>\n",
       "  </thead>\n",
       "  <tbody>\n",
       "    <tr>\n",
       "      <th>0</th>\n",
       "      <td>Report ID</td>\n",
       "      <td>338332</td>\n",
       "      <td>0</td>\n",
       "      <td>338332</td>\n",
       "      <td>1.062984e+06</td>\n",
       "      <td>6.223094e+06</td>\n",
       "      <td>5.466523e+07</td>\n",
       "      <td>6.584762e+06</td>\n",
       "      <td>6.938162e+06</td>\n",
       "      <td>2.520041e+08</td>\n",
       "      <td>9.036857e+07</td>\n",
       "    </tr>\n",
       "    <tr>\n",
       "      <th>1</th>\n",
       "      <td>Time</td>\n",
       "      <td>338311</td>\n",
       "      <td>21</td>\n",
       "      <td>1440</td>\n",
       "      <td>1.000000e+00</td>\n",
       "      <td>9.150000e+02</td>\n",
       "      <td>1.352396e+03</td>\n",
       "      <td>1.430000e+03</td>\n",
       "      <td>1.900000e+03</td>\n",
       "      <td>2.400000e+03</td>\n",
       "      <td>6.531793e+02</td>\n",
       "    </tr>\n",
       "    <tr>\n",
       "      <th>2</th>\n",
       "      <td>Area ID</td>\n",
       "      <td>338332</td>\n",
       "      <td>0</td>\n",
       "      <td>21</td>\n",
       "      <td>1.000000e+00</td>\n",
       "      <td>5.000000e+00</td>\n",
       "      <td>1.047322e+01</td>\n",
       "      <td>1.100000e+01</td>\n",
       "      <td>1.600000e+01</td>\n",
       "      <td>2.100000e+01</td>\n",
       "      <td>6.278694e+00</td>\n",
       "    </tr>\n",
       "    <tr>\n",
       "      <th>3</th>\n",
       "      <td>Reporting District</td>\n",
       "      <td>338332</td>\n",
       "      <td>0</td>\n",
       "      <td>1281</td>\n",
       "      <td>1.000000e+02</td>\n",
       "      <td>5.130000e+02</td>\n",
       "      <td>1.093766e+03</td>\n",
       "      <td>1.149000e+03</td>\n",
       "      <td>1.601000e+03</td>\n",
       "      <td>2.199000e+03</td>\n",
       "      <td>6.271921e+02</td>\n",
       "    </tr>\n",
       "    <tr>\n",
       "      <th>4</th>\n",
       "      <td>Age</td>\n",
       "      <td>338332</td>\n",
       "      <td>0</td>\n",
       "      <td>96</td>\n",
       "      <td>0.000000e+00</td>\n",
       "      <td>2.600000e+01</td>\n",
       "      <td>3.521100e+01</td>\n",
       "      <td>3.300000e+01</td>\n",
       "      <td>4.200000e+01</td>\n",
       "      <td>9.600000e+01</td>\n",
       "      <td>1.230836e+01</td>\n",
       "    </tr>\n",
       "    <tr>\n",
       "      <th>5</th>\n",
       "      <td>Charge Group Code</td>\n",
       "      <td>306171</td>\n",
       "      <td>32161</td>\n",
       "      <td>29</td>\n",
       "      <td>1.000000e+00</td>\n",
       "      <td>6.000000e+00</td>\n",
       "      <td>1.333374e+01</td>\n",
       "      <td>1.200000e+01</td>\n",
       "      <td>2.200000e+01</td>\n",
       "      <td>9.900000e+01</td>\n",
       "      <td>7.569706e+00</td>\n",
       "    </tr>\n",
       "    <tr>\n",
       "      <th>6</th>\n",
       "      <td>LAT</td>\n",
       "      <td>338332</td>\n",
       "      <td>0</td>\n",
       "      <td>4884</td>\n",
       "      <td>0.000000e+00</td>\n",
       "      <td>3.400960e+01</td>\n",
       "      <td>3.361040e+01</td>\n",
       "      <td>3.405730e+01</td>\n",
       "      <td>3.417210e+01</td>\n",
       "      <td>3.433430e+01</td>\n",
       "      <td>3.961764e+00</td>\n",
       "    </tr>\n",
       "    <tr>\n",
       "      <th>7</th>\n",
       "      <td>LON</td>\n",
       "      <td>338332</td>\n",
       "      <td>0</td>\n",
       "      <td>4639</td>\n",
       "      <td>-1.186676e+02</td>\n",
       "      <td>-1.184313e+02</td>\n",
       "      <td>-1.167305e+02</td>\n",
       "      <td>-1.183092e+02</td>\n",
       "      <td>-1.182723e+02</td>\n",
       "      <td>0.000000e+00</td>\n",
       "      <td>1.375469e+01</td>\n",
       "    </tr>\n",
       "    <tr>\n",
       "      <th>8</th>\n",
       "      <td>Booking Time</td>\n",
       "      <td>262928</td>\n",
       "      <td>75404</td>\n",
       "      <td>1438</td>\n",
       "      <td>1.000000e+00</td>\n",
       "      <td>5.150000e+02</td>\n",
       "      <td>1.258309e+03</td>\n",
       "      <td>1.353000e+03</td>\n",
       "      <td>1.939000e+03</td>\n",
       "      <td>2.359000e+03</td>\n",
       "      <td>7.540066e+02</td>\n",
       "    </tr>\n",
       "    <tr>\n",
       "      <th>9</th>\n",
       "      <td>Booking Location Code</td>\n",
       "      <td>262924</td>\n",
       "      <td>75408</td>\n",
       "      <td>33</td>\n",
       "      <td>4.201000e+03</td>\n",
       "      <td>4.212000e+03</td>\n",
       "      <td>4.250837e+03</td>\n",
       "      <td>4.273000e+03</td>\n",
       "      <td>4.279000e+03</td>\n",
       "      <td>4.283000e+03</td>\n",
       "      <td>3.185549e+01</td>\n",
       "    </tr>\n",
       "  </tbody>\n",
       "</table>\n",
       "</div>"
      ],
      "text/plain": [
       "                 Feature   Count  Missing Values  Cardinality           Min  \\\n",
       "0              Report ID  338332               0       338332  1.062984e+06   \n",
       "1                   Time  338311              21         1440  1.000000e+00   \n",
       "2                Area ID  338332               0           21  1.000000e+00   \n",
       "3     Reporting District  338332               0         1281  1.000000e+02   \n",
       "4                    Age  338332               0           96  0.000000e+00   \n",
       "5      Charge Group Code  306171           32161           29  1.000000e+00   \n",
       "6                    LAT  338332               0         4884  0.000000e+00   \n",
       "7                    LON  338332               0         4639 -1.186676e+02   \n",
       "8           Booking Time  262928           75404         1438  1.000000e+00   \n",
       "9  Booking Location Code  262924           75408           33  4.201000e+03   \n",
       "\n",
       "   1st Quartile          Mean        Median  3rd Quartile           Max  \\\n",
       "0  6.223094e+06  5.466523e+07  6.584762e+06  6.938162e+06  2.520041e+08   \n",
       "1  9.150000e+02  1.352396e+03  1.430000e+03  1.900000e+03  2.400000e+03   \n",
       "2  5.000000e+00  1.047322e+01  1.100000e+01  1.600000e+01  2.100000e+01   \n",
       "3  5.130000e+02  1.093766e+03  1.149000e+03  1.601000e+03  2.199000e+03   \n",
       "4  2.600000e+01  3.521100e+01  3.300000e+01  4.200000e+01  9.600000e+01   \n",
       "5  6.000000e+00  1.333374e+01  1.200000e+01  2.200000e+01  9.900000e+01   \n",
       "6  3.400960e+01  3.361040e+01  3.405730e+01  3.417210e+01  3.433430e+01   \n",
       "7 -1.184313e+02 -1.167305e+02 -1.183092e+02 -1.182723e+02  0.000000e+00   \n",
       "8  5.150000e+02  1.258309e+03  1.353000e+03  1.939000e+03  2.359000e+03   \n",
       "9  4.212000e+03  4.250837e+03  4.273000e+03  4.279000e+03  4.283000e+03   \n",
       "\n",
       "   Standard Deviation  \n",
       "0        9.036857e+07  \n",
       "1        6.531793e+02  \n",
       "2        6.278694e+00  \n",
       "3        6.271921e+02  \n",
       "4        1.230836e+01  \n",
       "5        7.569706e+00  \n",
       "6        3.961764e+00  \n",
       "7        1.375469e+01  \n",
       "8        7.540066e+02  \n",
       "9        3.185549e+01  "
      ]
     },
     "execution_count": 81,
     "metadata": {},
     "output_type": "execute_result"
    }
   ],
   "source": [
    "dqr_conf = pd.DataFrame({\n",
    "    'Feature': conf,\n",
    "    'Count': df_arrest[conf].count().values,\n",
    "    'Missing Values': df_arrest[conf].isnull().sum().values,\n",
    "    'Cardinality': df_arrest[conf].nunique().values,\n",
    "    'Min': df_arrest[conf].min().values,\n",
    "    '1st Quartile': df_arrest[conf].quantile(0.25).values,\n",
    "    'Mean': df_arrest[conf].mean().values,\n",
    "    'Median': df_arrest[conf].median().values,\n",
    "    '3rd Quartile': df_arrest[conf].quantile(0.75).values,\n",
    "    'Max': df_arrest[conf].max().values,\n",
    "    'Standard Deviation': df_arrest[conf].std().values,\n",
    "})\n",
    "dqr_conf"
   ]
  },
  {
   "cell_type": "markdown",
   "id": "5fdcf22b-b4ab-485d-9c40-9184d2f6511b",
   "metadata": {},
   "source": [
    "### Data Quality Report - Categorical"
   ]
  },
  {
   "cell_type": "code",
   "execution_count": 89,
   "execution_state": "idle",
   "id": "dfd39c99-fbc0-4ac1-915b-e449a306ad94",
   "metadata": {},
   "outputs": [
    {
     "data": {
      "text/plain": [
       "['Report Type',\n",
       " 'Arrest Date',\n",
       " 'Area Name',\n",
       " 'Sex Code',\n",
       " 'Descent Code',\n",
       " 'Charge Group Description',\n",
       " 'Arrest Type Code',\n",
       " 'Charge',\n",
       " 'Charge Description',\n",
       " 'Disposition Description',\n",
       " 'Address',\n",
       " 'Cross Street',\n",
       " 'Location',\n",
       " 'Booking Date',\n",
       " 'Booking Location']"
      ]
     },
     "execution_count": 89,
     "metadata": {},
     "output_type": "execute_result"
    }
   ],
   "source": [
    "#identify categorical features\n",
    "catf = df_arrest.select_dtypes(include=['object']).columns.tolist()\n",
    "catf"
   ]
  },
  {
   "cell_type": "code",
   "execution_count": 90,
   "execution_state": "idle",
   "id": "3a44a5c5-7658-4a4f-bcdd-bfd72b138135",
   "metadata": {},
   "outputs": [],
   "source": [
    "#create list to store modes and frequencies\n",
    "modes = []\n",
    "mode_freqs = []\n",
    "second_modes = []\n",
    "second_mode_freqs = []\n",
    "mode_percentages = []\n",
    "second_mode_percentages = []"
   ]
  },
  {
   "cell_type": "code",
   "execution_count": 91,
   "execution_state": "idle",
   "id": "ee199b06-b8d7-4444-a2df-a34d51b651d5",
   "metadata": {},
   "outputs": [],
   "source": [
    "# Calculate mode and frequency for each categorical feature\n",
    "for feature in catf:\n",
    "    count = df_arrest[feature].count()\n",
    "    mode = df_arrest[feature].mode().iloc[0]\n",
    "    mode_freq = df_arrest[feature].value_counts().iloc[0]\n",
    "    modes.append(mode)\n",
    "    mode_freqs.append(mode_freq)\n",
    "    mode_percentages.append((mode_freq / count) * 100 if count > 0 else 0)\n",
    "\n",
    "    # Calculate second mode and its frequency\n",
    "    if len(df_arrest[feature].value_counts()) > 1:\n",
    "        second_mode = df_arrest[feature].value_counts().index[1]\n",
    "        second_mode_freq = df_arrest[feature].value_counts().iloc[1]\n",
    "    else:\n",
    "        second_mode = None\n",
    "        second_mode_freq = 0\n",
    "\n",
    "    second_modes.append(second_mode)\n",
    "    second_mode_freqs.append(second_mode_freq)\n",
    "    second_mode_percentages.append((second_mode_freq / count) * 100 if count > 0 else 0)"
   ]
  },
  {
   "cell_type": "code",
   "execution_count": 92,
   "execution_state": "idle",
   "id": "ce051539-1455-4976-bbd2-498878f2180e",
   "metadata": {},
   "outputs": [
    {
     "data": {
      "text/html": [
       "<div>\n",
       "<style scoped>\n",
       "    .dataframe tbody tr th:only-of-type {\n",
       "        vertical-align: middle;\n",
       "    }\n",
       "\n",
       "    .dataframe tbody tr th {\n",
       "        vertical-align: top;\n",
       "    }\n",
       "\n",
       "    .dataframe thead th {\n",
       "        text-align: right;\n",
       "    }\n",
       "</style>\n",
       "<table border=\"1\" class=\"dataframe\">\n",
       "  <thead>\n",
       "    <tr style=\"text-align: right;\">\n",
       "      <th></th>\n",
       "      <th>Feature</th>\n",
       "      <th>Count</th>\n",
       "      <th>Missing Values</th>\n",
       "      <th>Cardinality</th>\n",
       "      <th>Mode</th>\n",
       "      <th>Mode Frequency</th>\n",
       "      <th>Mode %</th>\n",
       "      <th>2nd Mode</th>\n",
       "      <th>2nd Mode Frequency</th>\n",
       "      <th>2nd Mode %</th>\n",
       "    </tr>\n",
       "  </thead>\n",
       "  <tbody>\n",
       "    <tr>\n",
       "      <th>0</th>\n",
       "      <td>Report Type</td>\n",
       "      <td>338332</td>\n",
       "      <td>0</td>\n",
       "      <td>2</td>\n",
       "      <td>BOOKING</td>\n",
       "      <td>262928</td>\n",
       "      <td>77.713016</td>\n",
       "      <td>RFC</td>\n",
       "      <td>75404</td>\n",
       "      <td>22.286984</td>\n",
       "    </tr>\n",
       "    <tr>\n",
       "      <th>1</th>\n",
       "      <td>Arrest Date</td>\n",
       "      <td>338332</td>\n",
       "      <td>0</td>\n",
       "      <td>1887</td>\n",
       "      <td>06/22/2023 12:00:00 AM</td>\n",
       "      <td>426</td>\n",
       "      <td>0.125912</td>\n",
       "      <td>06/01/2020 12:00:00 AM</td>\n",
       "      <td>362</td>\n",
       "      <td>0.106995</td>\n",
       "    </tr>\n",
       "    <tr>\n",
       "      <th>2</th>\n",
       "      <td>Area Name</td>\n",
       "      <td>338332</td>\n",
       "      <td>0</td>\n",
       "      <td>21</td>\n",
       "      <td>Central</td>\n",
       "      <td>27054</td>\n",
       "      <td>7.996288</td>\n",
       "      <td>Rampart</td>\n",
       "      <td>26842</td>\n",
       "      <td>7.933627</td>\n",
       "    </tr>\n",
       "    <tr>\n",
       "      <th>3</th>\n",
       "      <td>Sex Code</td>\n",
       "      <td>338332</td>\n",
       "      <td>0</td>\n",
       "      <td>2</td>\n",
       "      <td>M</td>\n",
       "      <td>269431</td>\n",
       "      <td>79.635092</td>\n",
       "      <td>F</td>\n",
       "      <td>68901</td>\n",
       "      <td>20.364908</td>\n",
       "    </tr>\n",
       "    <tr>\n",
       "      <th>4</th>\n",
       "      <td>Descent Code</td>\n",
       "      <td>338332</td>\n",
       "      <td>0</td>\n",
       "      <td>19</td>\n",
       "      <td>H</td>\n",
       "      <td>173742</td>\n",
       "      <td>51.352518</td>\n",
       "      <td>B</td>\n",
       "      <td>91854</td>\n",
       "      <td>27.149073</td>\n",
       "    </tr>\n",
       "    <tr>\n",
       "      <th>5</th>\n",
       "      <td>Charge Group Description</td>\n",
       "      <td>306117</td>\n",
       "      <td>32215</td>\n",
       "      <td>27</td>\n",
       "      <td>Miscellaneous Other Violations</td>\n",
       "      <td>45967</td>\n",
       "      <td>15.016154</td>\n",
       "      <td>Aggravated Assault</td>\n",
       "      <td>42702</td>\n",
       "      <td>13.949568</td>\n",
       "    </tr>\n",
       "    <tr>\n",
       "      <th>6</th>\n",
       "      <td>Arrest Type Code</td>\n",
       "      <td>338331</td>\n",
       "      <td>1</td>\n",
       "      <td>7</td>\n",
       "      <td>F</td>\n",
       "      <td>156816</td>\n",
       "      <td>46.349876</td>\n",
       "      <td>M</td>\n",
       "      <td>149969</td>\n",
       "      <td>44.326119</td>\n",
       "    </tr>\n",
       "    <tr>\n",
       "      <th>7</th>\n",
       "      <td>Charge</td>\n",
       "      <td>338332</td>\n",
       "      <td>0</td>\n",
       "      <td>4922</td>\n",
       "      <td>273.5(A)PC</td>\n",
       "      <td>20077</td>\n",
       "      <td>5.934112</td>\n",
       "      <td>23152(A)VC</td>\n",
       "      <td>19875</td>\n",
       "      <td>5.874407</td>\n",
       "    </tr>\n",
       "    <tr>\n",
       "      <th>8</th>\n",
       "      <td>Charge Description</td>\n",
       "      <td>306171</td>\n",
       "      <td>32161</td>\n",
       "      <td>1439</td>\n",
       "      <td>CORPORAL INJURY ON SPOUSE/COHABITANT/ETC</td>\n",
       "      <td>20077</td>\n",
       "      <td>6.557447</td>\n",
       "      <td>DRUNK DRIVING ALCOHOL/DRUGS</td>\n",
       "      <td>19749</td>\n",
       "      <td>6.450317</td>\n",
       "    </tr>\n",
       "    <tr>\n",
       "      <th>9</th>\n",
       "      <td>Disposition Description</td>\n",
       "      <td>307256</td>\n",
       "      <td>31076</td>\n",
       "      <td>22</td>\n",
       "      <td>MISDEMEANOR COMPLAINT FILED</td>\n",
       "      <td>172804</td>\n",
       "      <td>56.241050</td>\n",
       "      <td>FELONY COMPLAINT FILED</td>\n",
       "      <td>69069</td>\n",
       "      <td>22.479301</td>\n",
       "    </tr>\n",
       "    <tr>\n",
       "      <th>10</th>\n",
       "      <td>Address</td>\n",
       "      <td>338332</td>\n",
       "      <td>0</td>\n",
       "      <td>42276</td>\n",
       "      <td>2200 W  6TH                          ST</td>\n",
       "      <td>3291</td>\n",
       "      <td>0.972713</td>\n",
       "      <td>14400    ERWIN                        ST</td>\n",
       "      <td>2865</td>\n",
       "      <td>0.846801</td>\n",
       "    </tr>\n",
       "    <tr>\n",
       "      <th>11</th>\n",
       "      <td>Cross Street</td>\n",
       "      <td>154012</td>\n",
       "      <td>184320</td>\n",
       "      <td>9674</td>\n",
       "      <td>FIGUEROA</td>\n",
       "      <td>3218</td>\n",
       "      <td>2.089448</td>\n",
       "      <td>FIGUEROA                     ST</td>\n",
       "      <td>2327</td>\n",
       "      <td>1.510921</td>\n",
       "    </tr>\n",
       "    <tr>\n",
       "      <th>12</th>\n",
       "      <td>Location</td>\n",
       "      <td>338332</td>\n",
       "      <td>0</td>\n",
       "      <td>44436</td>\n",
       "      <td>POINT (0 0)</td>\n",
       "      <td>4633</td>\n",
       "      <td>1.369365</td>\n",
       "      <td>POINT (-118.2761 34.0601)</td>\n",
       "      <td>3315</td>\n",
       "      <td>0.979807</td>\n",
       "    </tr>\n",
       "    <tr>\n",
       "      <th>13</th>\n",
       "      <td>Booking Date</td>\n",
       "      <td>262928</td>\n",
       "      <td>75404</td>\n",
       "      <td>1898</td>\n",
       "      <td>01/29/2020 12:00:00 AM</td>\n",
       "      <td>240</td>\n",
       "      <td>0.091280</td>\n",
       "      <td>02/24/2020 12:00:00 AM</td>\n",
       "      <td>231</td>\n",
       "      <td>0.087857</td>\n",
       "    </tr>\n",
       "    <tr>\n",
       "      <th>14</th>\n",
       "      <td>Booking Location</td>\n",
       "      <td>262887</td>\n",
       "      <td>75445</td>\n",
       "      <td>24</td>\n",
       "      <td>METRO - JAIL DIVISION</td>\n",
       "      <td>81536</td>\n",
       "      <td>31.015607</td>\n",
       "      <td>VALLEY - JAIL DIV</td>\n",
       "      <td>79759</td>\n",
       "      <td>30.339652</td>\n",
       "    </tr>\n",
       "  </tbody>\n",
       "</table>\n",
       "</div>"
      ],
      "text/plain": [
       "                     Feature   Count  Missing Values  Cardinality  \\\n",
       "0                Report Type  338332               0            2   \n",
       "1                Arrest Date  338332               0         1887   \n",
       "2                  Area Name  338332               0           21   \n",
       "3                   Sex Code  338332               0            2   \n",
       "4               Descent Code  338332               0           19   \n",
       "5   Charge Group Description  306117           32215           27   \n",
       "6           Arrest Type Code  338331               1            7   \n",
       "7                     Charge  338332               0         4922   \n",
       "8         Charge Description  306171           32161         1439   \n",
       "9    Disposition Description  307256           31076           22   \n",
       "10                   Address  338332               0        42276   \n",
       "11              Cross Street  154012          184320         9674   \n",
       "12                  Location  338332               0        44436   \n",
       "13              Booking Date  262928           75404         1898   \n",
       "14          Booking Location  262887           75445           24   \n",
       "\n",
       "                                        Mode  Mode Frequency     Mode %  \\\n",
       "0                                    BOOKING          262928  77.713016   \n",
       "1                     06/22/2023 12:00:00 AM             426   0.125912   \n",
       "2                                    Central           27054   7.996288   \n",
       "3                                          M          269431  79.635092   \n",
       "4                                          H          173742  51.352518   \n",
       "5             Miscellaneous Other Violations           45967  15.016154   \n",
       "6                                          F          156816  46.349876   \n",
       "7                                 273.5(A)PC           20077   5.934112   \n",
       "8   CORPORAL INJURY ON SPOUSE/COHABITANT/ETC           20077   6.557447   \n",
       "9                MISDEMEANOR COMPLAINT FILED          172804  56.241050   \n",
       "10   2200 W  6TH                          ST            3291   0.972713   \n",
       "11                                  FIGUEROA            3218   2.089448   \n",
       "12                               POINT (0 0)            4633   1.369365   \n",
       "13                    01/29/2020 12:00:00 AM             240   0.091280   \n",
       "14                     METRO - JAIL DIVISION           81536  31.015607   \n",
       "\n",
       "                                    2nd Mode  2nd Mode Frequency  2nd Mode %  \n",
       "0                                        RFC               75404   22.286984  \n",
       "1                     06/01/2020 12:00:00 AM                 362    0.106995  \n",
       "2                                    Rampart               26842    7.933627  \n",
       "3                                          F               68901   20.364908  \n",
       "4                                          B               91854   27.149073  \n",
       "5                         Aggravated Assault               42702   13.949568  \n",
       "6                                          M              149969   44.326119  \n",
       "7                                 23152(A)VC               19875    5.874407  \n",
       "8                DRUNK DRIVING ALCOHOL/DRUGS               19749    6.450317  \n",
       "9                     FELONY COMPLAINT FILED               69069   22.479301  \n",
       "10  14400    ERWIN                        ST                2865    0.846801  \n",
       "11           FIGUEROA                     ST                2327    1.510921  \n",
       "12                 POINT (-118.2761 34.0601)                3315    0.979807  \n",
       "13                    02/24/2020 12:00:00 AM                 231    0.087857  \n",
       "14                         VALLEY - JAIL DIV               79759   30.339652  "
      ]
     },
     "execution_count": 92,
     "metadata": {},
     "output_type": "execute_result"
    }
   ],
   "source": [
    "#build quality report table\n",
    "# Build the quality report DataFrame\n",
    "dqr_catf = pd.DataFrame({\n",
    "    'Feature': catf,\n",
    "    'Count': df_arrest[catf].count().values,\n",
    "    'Missing Values': df_arrest[catf].isnull().sum().values,\n",
    "    'Cardinality': df_arrest[catf].nunique().values,\n",
    "    'Mode': modes,\n",
    "    'Mode Frequency': mode_freqs,\n",
    "    'Mode %': mode_percentages,\n",
    "    '2nd Mode': second_modes,\n",
    "    '2nd Mode Frequency': second_mode_freqs,\n",
    "    '2nd Mode %': second_mode_percentages,\n",
    "})\n",
    "dqr_catf"
   ]
  }
 ],
 "metadata": {
  "kernelspec": {
   "display_name": "Python 3 (ipykernel)",
   "language": "python",
   "name": "python3"
  },
  "language_info": {
   "codemirror_mode": {
    "name": "ipython",
    "version": 3
   },
   "file_extension": ".py",
   "mimetype": "text/x-python",
   "name": "python",
   "nbconvert_exporter": "python",
   "pygments_lexer": "ipython3",
   "version": "3.11.11"
  }
 },
 "nbformat": 4,
 "nbformat_minor": 5
}
