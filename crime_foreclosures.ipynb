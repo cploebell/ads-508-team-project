{
 "cells": [
  {
   "cell_type": "markdown",
   "id": "e7cb8e7a-4d91-45c6-9335-f6f18159ebbd",
   "metadata": {},
   "source": [
    "# Setup S3 Buckets"
   ]
  },
  {
   "cell_type": "code",
   "execution_count": 10,
   "id": "768b9c19-6b85-401d-b5ee-e0d807b9e015",
   "metadata": {},
   "outputs": [
    {
     "name": "stdout",
     "output_type": "stream",
     "text": [
      "2025-03-15 21:02:43     546709 2023_Registered_Foreclosure_Properties.csv\n",
      "2025-03-15 21:02:44     552165 2024_Registered_Foreclosure_Properties.csv\n",
      "2025-03-15 21:40:42   92038326 Arrest_Data_from_2020_to_Present.csv\n",
      "2025-03-15 21:40:42  255509498 Crime_Data_from_2020_to_Present.csv\n"
     ]
    }
   ],
   "source": [
    "# List the S3 public bucket content\n",
    "!aws s3 ls s3://ads508-group7/"
   ]
  },
  {
   "cell_type": "code",
   "execution_count": 11,
   "id": "32be1e43-bf2f-45f0-a763-277750014830",
   "metadata": {},
   "outputs": [],
   "source": [
    "import boto3\n",
    "import sagemaker\n",
    "import pandas as pd\n",
    "\n",
    "# create sagemaker session\n",
    "sess =  sagemaker.Session()\n",
    "bucket = sess.default_bucket()\n",
    "role = sagemaker.get_execution_role()\n",
    "region = boto3.Session().region_name\n",
    "account_id = boto3.client(\"sts\").get_caller_identity().get(\"Account\")\n",
    "\n",
    "sm = boto3.Session().client(service_name=\"sagemaker\", region_name=region)"
   ]
  },
  {
   "cell_type": "code",
   "execution_count": 12,
   "id": "b317ba91-4ba4-4578-b2e4-891b2af49824",
   "metadata": {},
   "outputs": [],
   "source": [
    "# Set S3 Source Location (Public S3 Bucket)\n",
    "s3_public_path = \"s3://ads508-group7\""
   ]
  },
  {
   "cell_type": "code",
   "execution_count": 13,
   "id": "6f05470b-3ac5-410c-88a3-bf3b150418e0",
   "metadata": {},
   "outputs": [
    {
     "name": "stdout",
     "output_type": "stream",
     "text": [
      "Stored 's3_public_path' (str)\n"
     ]
    }
   ],
   "source": [
    "%store s3_public_path"
   ]
  },
  {
   "cell_type": "code",
   "execution_count": 14,
   "id": "298a8ce1-a2cc-4857-b064-f8adacd5a061",
   "metadata": {},
   "outputs": [
    {
     "name": "stdout",
     "output_type": "stream",
     "text": [
      "s3://sagemaker-us-east-1-026652244786/ads508-group7\n"
     ]
    }
   ],
   "source": [
    "# Set S3 Destination Location (Private S3 Bucket)\n",
    "s3_private_path = \"s3://{}/ads508-group7\".format(bucket)\n",
    "print(s3_private_path)"
   ]
  },
  {
   "cell_type": "code",
   "execution_count": 15,
   "id": "0105d94a-4e25-4476-b591-7f068679cf2a",
   "metadata": {},
   "outputs": [
    {
     "name": "stdout",
     "output_type": "stream",
     "text": [
      "Stored 's3_private_path' (str)\n"
     ]
    }
   ],
   "source": [
    "%store s3_private_path"
   ]
  },
  {
   "cell_type": "code",
   "execution_count": null,
   "id": "6a48a57e-f562-4e23-b13e-9d6c55d2fb3a",
   "metadata": {},
   "outputs": [],
   "source": [
    "#Copy Data From the Public S3 Bucket to our Private S3 Bucket in this Account"
   ]
  },
  {
   "cell_type": "code",
   "execution_count": 16,
   "id": "5f3d23e8-0e65-4644-9dfe-f831effb4b83",
   "metadata": {},
   "outputs": [
    {
     "name": "stdout",
     "output_type": "stream",
     "text": [
      "copy: s3://ads508-group7/2023_Registered_Foreclosure_Properties.csv to s3://sagemaker-us-east-1-026652244786/ads508-group7/2023_Registered_Foreclosure_Properties.csv\n",
      "copy: s3://ads508-group7/2024_Registered_Foreclosure_Properties.csv to s3://sagemaker-us-east-1-026652244786/ads508-group7/2024_Registered_Foreclosure_Properties.csv\n",
      "copy: s3://ads508-group7/Arrest_Data_from_2020_to_Present.csv to s3://sagemaker-us-east-1-026652244786/ads508-group7/Arrest_Data_from_2020_to_Present.csv\n",
      "copy: s3://ads508-group7/Crime_Data_from_2020_to_Present.csv to s3://sagemaker-us-east-1-026652244786/ads508-group7/Crime_Data_from_2020_to_Present.csv\n"
     ]
    }
   ],
   "source": [
    "!aws s3 cp --recursive $s3_public_path/ $s3_private_path/ --exclude \"*\" --include \"2023_Registered_Foreclosure_Properties.csv\"\n",
    "!aws s3 cp --recursive $s3_public_path/ $s3_private_path/ --exclude \"*\" --include \"2024_Registered_Foreclosure_Properties.csv\"\n",
    "!aws s3 cp --recursive $s3_public_path/ $s3_private_path/ --exclude \"*\" --include \"Arrest_Data_from_2020_to_Present.csv\"\n",
    "!aws s3 cp --recursive $s3_public_path/ $s3_private_path/ --exclude \"*\" --include \"Crime_Data_from_2020_to_Present.csv\""
   ]
  },
  {
   "cell_type": "code",
   "execution_count": 17,
   "id": "fa8b28c5-9841-49b1-9e85-de9b2647773d",
   "metadata": {},
   "outputs": [
    {
     "name": "stdout",
     "output_type": "stream",
     "text": [
      "s3://sagemaker-us-east-1-026652244786/ads508-group7\n"
     ]
    }
   ],
   "source": [
    "# List Files in our Private S3 Bucket in this Account\n",
    "print(s3_private_path)"
   ]
  },
  {
   "cell_type": "code",
   "execution_count": 18,
   "id": "43f4f313-56ae-4db6-8409-61f2fe79e457",
   "metadata": {},
   "outputs": [
    {
     "name": "stdout",
     "output_type": "stream",
     "text": [
      "2025-03-17 07:52:19     546709 2023_Registered_Foreclosure_Properties.csv\n",
      "2025-03-17 07:52:20     552165 2024_Registered_Foreclosure_Properties.csv\n",
      "2025-03-17 07:52:21   92038326 Arrest_Data_from_2020_to_Present.csv\n",
      "2025-03-17 07:52:23  255509498 Crime_Data_from_2020_to_Present.csv\n"
     ]
    }
   ],
   "source": [
    "!aws s3 ls $s3_private_path/"
   ]
  },
  {
   "cell_type": "code",
   "execution_count": 21,
   "id": "a161b099-bddd-4d06-a6e9-42d2d2f179db",
   "metadata": {},
   "outputs": [
    {
     "name": "stderr",
     "output_type": "stream",
     "text": [
      "/tmp/ipykernel_131/288684959.py:1: DeprecationWarning: Importing display from IPython.core.display is deprecated since IPython 7.14, please import from IPython.display\n",
      "  from IPython.core.display import display, HTML\n"
     ]
    },
    {
     "data": {
      "text/html": [
       "<b>Review <a target=\"blank\" href=\"https://s3.console.aws.amazon.com/s3/buckets/sagemaker-us-east-1-026652244786/ads508-group7/?region=us-east-1&tab=overview\">S3 Bucket</a></b>"
      ],
      "text/plain": [
       "<IPython.core.display.HTML object>"
      ]
     },
     "metadata": {},
     "output_type": "display_data"
    }
   ],
   "source": [
    "from IPython.core.display import display, HTML\n",
    "\n",
    "display(\n",
    "    HTML(\n",
    "        '<b>Review <a target=\"blank\" href=\"https://s3.console.aws.amazon.com/s3/buckets/sagemaker-{}-{}/ads508-group7/?region={}&tab=overview\">S3 Bucket</a></b>'.format(\n",
    "            region, account_id, region\n",
    "        )\n",
    "    )\n",
    ")"
   ]
  },
  {
   "cell_type": "code",
   "execution_count": 24,
   "id": "07eaae0c-49e3-43b0-930d-d880e7da96c0",
   "metadata": {},
   "outputs": [
    {
     "name": "stdout",
     "output_type": "stream",
     "text": [
      "Stored variables and their in-db values:\n",
      "s3_private_path                       -> 's3://sagemaker-us-east-1-026652244786/ads508-grou\n",
      "s3_public_path                        -> 's3://ads508-group7'\n",
      "setup_dependencies_passed             -> True\n"
     ]
    }
   ],
   "source": [
    "# store variables for the next notebook\n",
    "%store"
   ]
  },
  {
   "cell_type": "markdown",
   "id": "0de05c88-09a7-486a-9b75-1023fbea47e0",
   "metadata": {},
   "source": [
    "# Create Athena Database Schema"
   ]
  },
  {
   "cell_type": "code",
   "execution_count": 25,
   "id": "e5d013fd-06ae-4c9e-9929-e63e082cfe7c",
   "metadata": {},
   "outputs": [],
   "source": [
    "ingest_create_athena_db_passed = False"
   ]
  },
  {
   "cell_type": "code",
   "execution_count": 26,
   "id": "aecb5477-5c52-46d1-b4e9-8c7987ebfc1b",
   "metadata": {},
   "outputs": [],
   "source": [
    "%store -r s3_public_path"
   ]
  },
  {
   "cell_type": "code",
   "execution_count": 27,
   "id": "75fe7355-a86c-4336-a841-2e85c283a3c4",
   "metadata": {},
   "outputs": [],
   "source": [
    "try:\n",
    "    s3_public_path\n",
    "except NameError:\n",
    "    print(\"*****************************************************************************\")\n",
    "    print(\"[ERROR] PLEASE RE-RUN THE PREVIOUS COPY TSV TO S3 NOTEBOOK ******************\")\n",
    "    print(\"[ERROR] THIS NOTEBOOK WILL NOT RUN PROPERLY. ********************************\")\n",
    "    print(\"*****************************************************************************\")"
   ]
  },
  {
   "cell_type": "code",
   "execution_count": 28,
   "id": "f41ac9f2-4aed-4fec-99dc-4dd73f2b8770",
   "metadata": {},
   "outputs": [
    {
     "name": "stdout",
     "output_type": "stream",
     "text": [
      "s3://ads508-group7\n"
     ]
    }
   ],
   "source": [
    "print(s3_public_path)"
   ]
  },
  {
   "cell_type": "code",
   "execution_count": 29,
   "id": "3fdfc022-2813-4be2-a4d9-f9ee7c3b2c2a",
   "metadata": {},
   "outputs": [],
   "source": [
    "%store -r s3_private_path"
   ]
  },
  {
   "cell_type": "code",
   "execution_count": 31,
   "id": "1b1f8e50-802b-4d03-ba17-8f1d0287a348",
   "metadata": {},
   "outputs": [],
   "source": [
    "try:\n",
    "    s3_private_path\n",
    "except NameError:\n",
    "    print(\"*****************************************************************************\")\n",
    "    print(\"[ERROR] PLEASE RE-RUN THE PREVIOUS COPY TSV TO S3 NOTEBOOK ******************\")\n",
    "    print(\"[ERROR] THIS NOTEBOOK WILL NOT RUN PROPERLY. ********************************\")\n",
    "    print(\"*****************************************************************************\")"
   ]
  },
  {
   "cell_type": "code",
   "execution_count": 33,
   "id": "bf2717be-d99c-4c57-9339-2162e1929936",
   "metadata": {},
   "outputs": [
    {
     "name": "stdout",
     "output_type": "stream",
     "text": [
      "s3://sagemaker-us-east-1-026652244786/ads508-group7\n"
     ]
    }
   ],
   "source": [
    "print(s3_private_path)"
   ]
  },
  {
   "cell_type": "markdown",
   "id": "c53b6c33-9147-4823-9833-d621d1026d2e",
   "metadata": {},
   "source": [
    "# Import PyAthena"
   ]
  },
  {
   "cell_type": "code",
   "execution_count": 34,
   "id": "085bfbf2-5fca-421f-bf61-8878aa280e59",
   "metadata": {},
   "outputs": [],
   "source": [
    "!pip install --disable-pip-version-check -q PyAthena==2.1.0\n",
    "from pyathena import connect"
   ]
  },
  {
   "cell_type": "markdown",
   "id": "09d3404b-cd86-4ca9-bb16-0199d6fdbfda",
   "metadata": {},
   "source": [
    "# Create Athena Database"
   ]
  },
  {
   "cell_type": "code",
   "execution_count": 35,
   "id": "086fcda1-4f43-40ba-a467-e2dfc27945ad",
   "metadata": {},
   "outputs": [],
   "source": [
    "database_name = \"crime_foreclosure_db\""
   ]
  },
  {
   "cell_type": "code",
   "execution_count": 36,
   "id": "0f29c353-aaa2-479e-b25d-5459d5dd281f",
   "metadata": {},
   "outputs": [],
   "source": [
    "# Set S3 staging directory -- this is a temporary directory used for Athena queries\n",
    "s3_staging_dir = \"s3://{0}/athena/staging\".format(bucket)"
   ]
  },
  {
   "cell_type": "code",
   "execution_count": 37,
   "id": "553289e8-21e1-4bbb-b796-18b07fb23675",
   "metadata": {},
   "outputs": [],
   "source": [
    "conn = connect(region_name=region, s3_staging_dir=s3_staging_dir)"
   ]
  },
  {
   "cell_type": "code",
   "execution_count": 38,
   "id": "36f61e9d-e08a-4f73-9d6e-5edebcf8296e",
   "metadata": {},
   "outputs": [
    {
     "name": "stdout",
     "output_type": "stream",
     "text": [
      "CREATE DATABASE IF NOT EXISTS crime_foreclosure_db\n"
     ]
    }
   ],
   "source": [
    "statement = \"CREATE DATABASE IF NOT EXISTS {}\".format(database_name)\n",
    "print(statement)"
   ]
  },
  {
   "cell_type": "code",
   "execution_count": 39,
   "id": "c1da5a4a-de0c-416d-b1a9-6a839755ff1d",
   "metadata": {},
   "outputs": [
    {
     "name": "stderr",
     "output_type": "stream",
     "text": [
      "/tmp/ipykernel_131/618921652.py:1: UserWarning: pandas only supports SQLAlchemy connectable (engine/connection) or database string URI or sqlite3 DBAPI2 connection. Other DBAPI2 objects are not tested. Please consider using SQLAlchemy.\n",
      "  pd.read_sql(statement, conn)\n"
     ]
    },
    {
     "data": {
      "text/html": [
       "<div>\n",
       "<style scoped>\n",
       "    .dataframe tbody tr th:only-of-type {\n",
       "        vertical-align: middle;\n",
       "    }\n",
       "\n",
       "    .dataframe tbody tr th {\n",
       "        vertical-align: top;\n",
       "    }\n",
       "\n",
       "    .dataframe thead th {\n",
       "        text-align: right;\n",
       "    }\n",
       "</style>\n",
       "<table border=\"1\" class=\"dataframe\">\n",
       "  <thead>\n",
       "    <tr style=\"text-align: right;\">\n",
       "      <th></th>\n",
       "    </tr>\n",
       "  </thead>\n",
       "  <tbody>\n",
       "  </tbody>\n",
       "</table>\n",
       "</div>"
      ],
      "text/plain": [
       "Empty DataFrame\n",
       "Columns: []\n",
       "Index: []"
      ]
     },
     "execution_count": 39,
     "metadata": {},
     "output_type": "execute_result"
    }
   ],
   "source": [
    "pd.read_sql(statement, conn)"
   ]
  },
  {
   "cell_type": "code",
   "execution_count": 40,
   "id": "0e30a46b-70ec-442e-9b3e-ae94945138a4",
   "metadata": {},
   "outputs": [
    {
     "name": "stderr",
     "output_type": "stream",
     "text": [
      "/tmp/ipykernel_131/3999478089.py:3: UserWarning: pandas only supports SQLAlchemy connectable (engine/connection) or database string URI or sqlite3 DBAPI2 connection. Other DBAPI2 objects are not tested. Please consider using SQLAlchemy.\n",
      "  df_show = pd.read_sql(statement, conn)\n"
     ]
    },
    {
     "data": {
      "text/html": [
       "<div>\n",
       "<style scoped>\n",
       "    .dataframe tbody tr th:only-of-type {\n",
       "        vertical-align: middle;\n",
       "    }\n",
       "\n",
       "    .dataframe tbody tr th {\n",
       "        vertical-align: top;\n",
       "    }\n",
       "\n",
       "    .dataframe thead th {\n",
       "        text-align: right;\n",
       "    }\n",
       "</style>\n",
       "<table border=\"1\" class=\"dataframe\">\n",
       "  <thead>\n",
       "    <tr style=\"text-align: right;\">\n",
       "      <th></th>\n",
       "      <th>database_name</th>\n",
       "    </tr>\n",
       "  </thead>\n",
       "  <tbody>\n",
       "    <tr>\n",
       "      <th>0</th>\n",
       "      <td>crime_foreclosure_db</td>\n",
       "    </tr>\n",
       "    <tr>\n",
       "      <th>1</th>\n",
       "      <td>default</td>\n",
       "    </tr>\n",
       "  </tbody>\n",
       "</table>\n",
       "</div>"
      ],
      "text/plain": [
       "          database_name\n",
       "0  crime_foreclosure_db\n",
       "1               default"
      ]
     },
     "execution_count": 40,
     "metadata": {},
     "output_type": "execute_result"
    }
   ],
   "source": [
    "statement = \"SHOW DATABASES\"\n",
    "\n",
    "df_show = pd.read_sql(statement, conn)\n",
    "df_show.head(5)"
   ]
  },
  {
   "cell_type": "code",
   "execution_count": 41,
   "id": "628fd2ec-b776-45d0-ba4d-d96bcd1cc282",
   "metadata": {},
   "outputs": [],
   "source": [
    "if database_name in df_show.values:\n",
    "    ingest_create_athena_db_passed = True"
   ]
  },
  {
   "cell_type": "code",
   "execution_count": 42,
   "id": "cb9accff-7a4e-4c63-a2c1-24604bbbf64a",
   "metadata": {},
   "outputs": [
    {
     "name": "stdout",
     "output_type": "stream",
     "text": [
      "Stored 'ingest_create_athena_db_passed' (bool)\n"
     ]
    }
   ],
   "source": [
    "%store ingest_create_athena_db_passed"
   ]
  },
  {
   "cell_type": "code",
   "execution_count": 44,
   "id": "4de5ebf8-7cc2-4584-b3d8-c16d893a389c",
   "metadata": {},
   "outputs": [
    {
     "name": "stdout",
     "output_type": "stream",
     "text": [
      "Stored variables and their in-db values:\n",
      "ingest_create_athena_db_passed             -> True\n",
      "s3_private_path                            -> 's3://sagemaker-us-east-1-026652244786/ads508-grou\n",
      "s3_public_path                             -> 's3://ads508-group7'\n",
      "setup_dependencies_passed                  -> True\n"
     ]
    }
   ],
   "source": [
    "# Store Variables for the Next Notebooks\n",
    "%store"
   ]
  },
  {
   "cell_type": "code",
   "execution_count": null,
   "id": "b8e82146-aeef-4774-bd2e-6a2fe5bc0682",
   "metadata": {},
   "outputs": [],
   "source": []
  }
 ],
 "metadata": {
  "kernelspec": {
   "display_name": "Python 3 (ipykernel)",
   "language": "python",
   "name": "python3"
  },
  "language_info": {
   "codemirror_mode": {
    "name": "ipython",
    "version": 3
   },
   "file_extension": ".py",
   "mimetype": "text/x-python",
   "name": "python",
   "nbconvert_exporter": "python",
   "pygments_lexer": "ipython3",
   "version": "3.11.11"
  }
 },
 "nbformat": 4,
 "nbformat_minor": 5
}
