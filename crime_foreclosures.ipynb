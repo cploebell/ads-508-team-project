{
 "cells": [
  {
   "cell_type": "code",
   "execution_count": 36,
   "id": "768b9c19-6b85-401d-b5ee-e0d807b9e015",
   "metadata": {},
   "outputs": [
    {
     "name": "stdout",
     "output_type": "stream",
     "text": [
      "2025-03-15 21:02:43     546709 2023_Registered_Foreclosure_Properties.csv\n",
      "2025-03-15 21:02:44     552165 2024_Registered_Foreclosure_Properties.csv\n",
      "2025-03-15 21:40:42   92038326 Arrest_Data_from_2020_to_Present.csv\n",
      "2025-03-15 21:40:42  255509498 Crime_Data_from_2020_to_Present.csv\n"
     ]
    }
   ],
   "source": [
    "# List the S3 public bucket content\n",
    "!aws s3 ls s3://ads508-group7/"
   ]
  },
  {
   "cell_type": "code",
   "execution_count": 37,
   "id": "32be1e43-bf2f-45f0-a763-277750014830",
   "metadata": {},
   "outputs": [],
   "source": [
    "import boto3\n",
    "import sagemaker\n",
    "import pandas as pd\n",
    "\n",
    "# create sagemaker session\n",
    "sess =  sagemaker.Session()\n",
    "bucket = sess.default_bucket()\n",
    "role = sagemaker.get_execution_role()\n",
    "region = boto3.Session().region_name\n",
    "account_id = boto3.client(\"sts\").get_caller_identity().get(\"Account\")\n",
    "\n",
    "sm = boto3.Session().client(service_name=\"sagemaker\", region_name=region)"
   ]
  },
  {
   "cell_type": "code",
   "execution_count": 38,
   "id": "b317ba91-4ba4-4578-b2e4-891b2af49824",
   "metadata": {},
   "outputs": [],
   "source": [
    "# Set S3 Source Location (Public S3 Bucket)\n",
    "s3_public_path = \"s3://ads508-group7/\""
   ]
  },
  {
   "cell_type": "code",
   "execution_count": 39,
   "id": "6f05470b-3ac5-410c-88a3-bf3b150418e0",
   "metadata": {},
   "outputs": [
    {
     "name": "stdout",
     "output_type": "stream",
     "text": [
      "Stored 's3_public_path' (str)\n"
     ]
    }
   ],
   "source": [
    "%store s3_public_path"
   ]
  },
  {
   "cell_type": "code",
   "execution_count": 7,
   "id": "ce1106ad-69e6-4145-a143-abc34c8b381a",
   "metadata": {},
   "outputs": [
    {
     "name": "stdout",
     "output_type": "stream",
     "text": [
      "make_bucket: ads508-group7-private\n"
     ]
    }
   ],
   "source": [
    "##create S3 private bucket\n",
    "##!aws s3 mb s3://ads508-group7-private"
   ]
  },
  {
   "cell_type": "code",
   "execution_count": 40,
   "id": "298a8ce1-a2cc-4857-b064-f8adacd5a061",
   "metadata": {},
   "outputs": [
    {
     "name": "stdout",
     "output_type": "stream",
     "text": [
      "s3://sagemaker-us-east-1-026652244786/ads508-group7/\n"
     ]
    }
   ],
   "source": [
    "# Set S3 Destination Location (Private S3 Bucket)\n",
    "s3_private_path = \"s3://{}/ads508-group7/\".format(bucket)\n",
    "print(s3_private_path)"
   ]
  },
  {
   "cell_type": "code",
   "execution_count": 41,
   "id": "0105d94a-4e25-4476-b591-7f068679cf2a",
   "metadata": {},
   "outputs": [
    {
     "name": "stdout",
     "output_type": "stream",
     "text": [
      "Stored 's3_private_path' (str)\n"
     ]
    }
   ],
   "source": [
    "%store s3_private_path"
   ]
  },
  {
   "cell_type": "code",
   "execution_count": null,
   "id": "6a48a57e-f562-4e23-b13e-9d6c55d2fb3a",
   "metadata": {},
   "outputs": [],
   "source": [
    "#Copy Data From the Public S3 Bucket to our Private S3 Bucket in this Account"
   ]
  },
  {
   "cell_type": "code",
   "execution_count": 42,
   "id": "5f3d23e8-0e65-4644-9dfe-f831effb4b83",
   "metadata": {},
   "outputs": [],
   "source": [
    "!aws s3 cp --recursive $s3_public_path/ $s3_private_path/ --exclude \"*\" --include \"2023_Registered_Foreclosure_Properties.csv\"\n",
    "!aws s3 cp --recursive $s3_public_path/ $s3_private_path/ --exclude \"*\" --include \"2024_Registered_Foreclosure_Properties.csv\"\n",
    "!aws s3 cp --recursive $s3_public_path/ $s3_private_path/ --exclude \"*\" --include \"Arrest_Data_from_2020_to_Present.csv\"\n",
    "!aws s3 cp --recursive $s3_public_path/ $s3_private_path/ --exclude \"*\" --include \"Crime_Data_from_2020_to_Present.csv\""
   ]
  },
  {
   "cell_type": "code",
   "execution_count": 43,
   "id": "fa8b28c5-9841-49b1-9e85-de9b2647773d",
   "metadata": {},
   "outputs": [
    {
     "name": "stdout",
     "output_type": "stream",
     "text": [
      "s3://sagemaker-us-east-1-026652244786/ads508-group7/\n"
     ]
    }
   ],
   "source": [
    "# List Files in our Private S3 Bucket in this Account\n",
    "print(s3_private_path)"
   ]
  },
  {
   "cell_type": "code",
   "execution_count": 44,
   "id": "43f4f313-56ae-4db6-8409-61f2fe79e457",
   "metadata": {},
   "outputs": [],
   "source": [
    "!aws s3 ls $s3_private_path/"
   ]
  },
  {
   "cell_type": "code",
   "execution_count": null,
   "id": "07eaae0c-49e3-43b0-930d-d880e7da96c0",
   "metadata": {},
   "outputs": [],
   "source": [
    "# store variables for the next notebook"
   ]
  },
  {
   "cell_type": "code",
   "execution_count": 24,
   "id": "a161b099-bddd-4d06-a6e9-42d2d2f179db",
   "metadata": {},
   "outputs": [
    {
     "name": "stderr",
     "output_type": "stream",
     "text": [
      "/tmp/ipykernel_366/288684959.py:1: DeprecationWarning: Importing display from IPython.core.display is deprecated since IPython 7.14, please import from IPython.display\n",
      "  from IPython.core.display import display, HTML\n"
     ]
    },
    {
     "data": {
      "text/html": [
       "<b>Review <a target=\"blank\" href=\"https://s3.console.aws.amazon.com/s3/buckets/sagemaker-us-east-1-026652244786/ads508-group7/?region=us-east-1&tab=overview\">S3 Bucket</a></b>"
      ],
      "text/plain": [
       "<IPython.core.display.HTML object>"
      ]
     },
     "metadata": {},
     "output_type": "display_data"
    }
   ],
   "source": [
    "from IPython.core.display import display, HTML\n",
    "\n",
    "display(\n",
    "    HTML(\n",
    "        '<b>Review <a target=\"blank\" href=\"https://s3.console.aws.amazon.com/s3/buckets/sagemaker-{}-{}/ads508-group7/?region={}&tab=overview\">S3 Bucket</a></b>'.format(\n",
    "            region, account_id, region\n",
    "        )\n",
    "    )\n",
    ")"
   ]
  },
  {
   "cell_type": "code",
   "execution_count": 45,
   "id": "944a7aa9-b137-4d06-8da9-3356d207d805",
   "metadata": {},
   "outputs": [],
   "source": [
    "#testing"
   ]
  },
  {
   "cell_type": "code",
   "execution_count": null,
   "id": "00363602-679c-4cf7-a94e-4284b36d4b41",
   "metadata": {},
   "outputs": [],
   "source": []
  }
 ],
 "metadata": {
  "kernelspec": {
   "display_name": "Python 3 (ipykernel)",
   "language": "python",
   "name": "python3"
  },
  "language_info": {
   "codemirror_mode": {
    "name": "ipython",
    "version": 3
   },
   "file_extension": ".py",
   "mimetype": "text/x-python",
   "name": "python",
   "nbconvert_exporter": "python",
   "pygments_lexer": "ipython3",
   "version": "3.11.11"
  }
 },
 "nbformat": 4,
 "nbformat_minor": 5
}
