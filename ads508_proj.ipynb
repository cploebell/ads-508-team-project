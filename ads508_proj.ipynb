{
 "cells": [
  {
   "cell_type": "markdown",
   "id": "e7cb8e7a-4d91-45c6-9335-f6f18159ebbd",
   "metadata": {
    "jp-MarkdownHeadingCollapsed": true
   },
   "source": [
    "# Setup S3 Buckets"
   ]
  },
  {
   "cell_type": "code",
   "execution_count": 1,
   "execution_state": "idle",
   "id": "afb68af2-0b92-4d1d-8ddd-a3737a89f7a5",
   "metadata": {},
   "outputs": [],
   "source": [
    "import boto3\n",
    "import sagemaker\n",
    "import pandas as pd\n",
    "from io import StringIO\n",
    "from pyathena import connect\n",
    "import seaborn as sns\n",
    "import matplotlib.pyplot as plt\n",
    "import numpy as np"
   ]
  },
  {
   "cell_type": "code",
   "execution_count": 2,
   "execution_state": "idle",
   "id": "768b9c19-6b85-401d-b5ee-e0d807b9e015",
   "metadata": {},
   "outputs": [
    {
     "name": "stdout",
     "output_type": "stream",
     "text": [
      "                           PRE Arrest/\n",
      "                           PRE Crime/\n",
      "                           PRE Foreclosures/\n",
      "                           PRE LAPD/\n",
      "                           PRE Unsaved/\n",
      "                           PRE query-results/\n",
      "2025-03-15 21:02:43     546709 2023_Registered_Foreclosure_Properties.csv\n",
      "2025-03-15 21:02:44     552165 2024_Registered_Foreclosure_Properties.csv\n",
      "2025-03-15 21:40:42   92038326 Arrest_Data_from_2020_to_Present.csv\n",
      "2025-03-15 21:40:42  255509498 Crime_Data_from_2020_to_Present.csv\n"
     ]
    }
   ],
   "source": [
    "# List the S3 public bucket content\n",
    "!aws s3 ls s3://ads508-group7/"
   ]
  },
  {
   "cell_type": "code",
   "execution_count": 3,
   "execution_state": "idle",
   "id": "32be1e43-bf2f-45f0-a763-277750014830",
   "metadata": {},
   "outputs": [],
   "source": [
    "# create sagemaker session\n",
    "sess =  sagemaker.Session()\n",
    "bucket = sess.default_bucket()\n",
    "role = sagemaker.get_execution_role()\n",
    "region = boto3.Session().region_name\n",
    "account_id = boto3.client(\"sts\").get_caller_identity().get(\"Account\")\n",
    "\n",
    "sm = boto3.Session().client(service_name=\"sagemaker\", region_name=region)\n",
    "\n",
    "s3 = boto3.client('s3')"
   ]
  },
  {
   "cell_type": "code",
   "execution_count": 4,
   "execution_state": "idle",
   "id": "b317ba91-4ba4-4578-b2e4-891b2af49824",
   "metadata": {},
   "outputs": [],
   "source": [
    "# Set S3 Source Location (Public S3 Bucket)\n",
    "s3_public_path = \"s3://ads508-group7\""
   ]
  },
  {
   "cell_type": "code",
   "execution_count": 5,
   "execution_state": "idle",
   "id": "6f05470b-3ac5-410c-88a3-bf3b150418e0",
   "metadata": {},
   "outputs": [
    {
     "name": "stdout",
     "output_type": "stream",
     "text": [
      "Stored 's3_public_path' (str)\n"
     ]
    }
   ],
   "source": [
    "%store s3_public_path"
   ]
  },
  {
   "cell_type": "code",
   "execution_count": 6,
   "execution_state": "idle",
   "id": "298a8ce1-a2cc-4857-b064-f8adacd5a061",
   "metadata": {},
   "outputs": [
    {
     "name": "stdout",
     "output_type": "stream",
     "text": [
      "s3://sagemaker-us-east-1-817789163072/ads508-group7\n"
     ]
    }
   ],
   "source": [
    "# Set S3 Destination Location (Private S3 Bucket)\n",
    "s3_private_path = \"s3://{}/ads508-group7\".format(bucket)\n",
    "print(s3_private_path)"
   ]
  },
  {
   "cell_type": "code",
   "execution_count": 7,
   "execution_state": "idle",
   "id": "0105d94a-4e25-4476-b591-7f068679cf2a",
   "metadata": {},
   "outputs": [
    {
     "name": "stdout",
     "output_type": "stream",
     "text": [
      "Stored 's3_private_path' (str)\n"
     ]
    }
   ],
   "source": [
    "%store s3_private_path"
   ]
  },
  {
   "cell_type": "code",
   "execution_count": 8,
   "execution_state": "idle",
   "id": "6a48a57e-f562-4e23-b13e-9d6c55d2fb3a",
   "metadata": {},
   "outputs": [],
   "source": [
    "#Copy Data From the Public S3 Bucket to our Private S3 Bucket in this Account"
   ]
  },
  {
   "cell_type": "code",
   "execution_count": 9,
   "execution_state": "idle",
   "id": "5f3d23e8-0e65-4644-9dfe-f831effb4b83",
   "metadata": {},
   "outputs": [
    {
     "name": "stdout",
     "output_type": "stream",
     "text": [
      "copy: s3://ads508-group7/2023_Registered_Foreclosure_Properties.csv to s3://sagemaker-us-east-1-817789163072/ads508-group7/2023_Registered_Foreclosure_Properties.csv\n",
      "copy: s3://ads508-group7/2024_Registered_Foreclosure_Properties.csv to s3://sagemaker-us-east-1-817789163072/ads508-group7/2024_Registered_Foreclosure_Properties.csv\n",
      "copy: s3://ads508-group7/Arrest_Data_from_2020_to_Present.csv to s3://sagemaker-us-east-1-817789163072/ads508-group7/Arrest_Data_from_2020_to_Present.csv\n",
      "copy: s3://ads508-group7/Crime_Data_from_2020_to_Present.csv to s3://sagemaker-us-east-1-817789163072/ads508-group7/Crime_Data_from_2020_to_Present.csv\n"
     ]
    }
   ],
   "source": [
    "!aws s3 cp --recursive $s3_public_path/ $s3_private_path/ --exclude \"*\" --include \"2023_Registered_Foreclosure_Properties.csv\"\n",
    "!aws s3 cp --recursive $s3_public_path/ $s3_private_path/ --exclude \"*\" --include \"2024_Registered_Foreclosure_Properties.csv\"\n",
    "!aws s3 cp --recursive $s3_public_path/ $s3_private_path/ --exclude \"*\" --include \"Arrest_Data_from_2020_to_Present.csv\"\n",
    "!aws s3 cp --recursive $s3_public_path/ $s3_private_path/ --exclude \"*\" --include \"Crime_Data_from_2020_to_Present.csv\""
   ]
  },
  {
   "cell_type": "code",
   "execution_count": 10,
   "execution_state": "idle",
   "id": "fa8b28c5-9841-49b1-9e85-de9b2647773d",
   "metadata": {},
   "outputs": [
    {
     "name": "stdout",
     "output_type": "stream",
     "text": [
      "s3://sagemaker-us-east-1-817789163072/ads508-group7\n"
     ]
    }
   ],
   "source": [
    "# List Files in our Private S3 Bucket in this Account\n",
    "print(s3_private_path)"
   ]
  },
  {
   "cell_type": "code",
   "execution_count": 11,
   "execution_state": "idle",
   "id": "43f4f313-56ae-4db6-8409-61f2fe79e457",
   "metadata": {},
   "outputs": [
    {
     "name": "stdout",
     "output_type": "stream",
     "text": [
      "2025-03-27 02:34:10     546709 2023_Registered_Foreclosure_Properties.csv\n",
      "2025-03-27 02:34:11     552165 2024_Registered_Foreclosure_Properties.csv\n",
      "2025-03-27 02:34:12   92038326 Arrest_Data_from_2020_to_Present.csv\n",
      "2025-03-27 02:34:14  255509498 Crime_Data_from_2020_to_Present.csv\n"
     ]
    }
   ],
   "source": [
    "!aws s3 ls $s3_private_path/"
   ]
  },
  {
   "cell_type": "code",
   "execution_count": 12,
   "execution_state": "idle",
   "id": "a161b099-bddd-4d06-a6e9-42d2d2f179db",
   "metadata": {},
   "outputs": [
    {
     "name": "stderr",
     "output_type": "stream",
     "text": [
      "/tmp/ipykernel_8274/288684959.py:1: DeprecationWarning: Importing display from IPython.core.display is deprecated since IPython 7.14, please import from IPython.display\n",
      "  from IPython.core.display import display, HTML\n"
     ]
    },
    {
     "data": {
      "text/html": [
       "<b>Review <a target=\"blank\" href=\"https://s3.console.aws.amazon.com/s3/buckets/sagemaker-us-east-1-817789163072/ads508-group7/?region=us-east-1&tab=overview\">S3 Bucket</a></b>"
      ],
      "text/plain": [
       "<IPython.core.display.HTML object>"
      ]
     },
     "metadata": {},
     "output_type": "display_data"
    }
   ],
   "source": [
    "from IPython.core.display import display, HTML\n",
    "\n",
    "display(\n",
    "    HTML(\n",
    "        '<b>Review <a target=\"blank\" href=\"https://s3.console.aws.amazon.com/s3/buckets/sagemaker-{}-{}/ads508-group7/?region={}&tab=overview\">S3 Bucket</a></b>'.format(\n",
    "            region, account_id, region\n",
    "        )\n",
    "    )\n",
    ")"
   ]
  },
  {
   "cell_type": "code",
   "execution_count": 13,
   "execution_state": "idle",
   "id": "07eaae0c-49e3-43b0-930d-d880e7da96c0",
   "metadata": {},
   "outputs": [
    {
     "name": "stdout",
     "output_type": "stream",
     "text": [
      "Stored variables and their in-db values:\n",
      "s3_private_path                         -> 's3://sagemaker-us-east-1-817789163072/ads508-grou\n",
      "s3_public_path                          -> 's3://ads508-group7'\n",
      "setup_dependencies_passed               -> True\n",
      "setup_instance_check_passed             -> True\n"
     ]
    }
   ],
   "source": [
    "# store variables for the next notebook\n",
    "%store"
   ]
  },
  {
   "cell_type": "markdown",
   "id": "0de05c88-09a7-486a-9b75-1023fbea47e0",
   "metadata": {
    "jp-MarkdownHeadingCollapsed": true
   },
   "source": [
    "# EDA"
   ]
  },
  {
   "cell_type": "code",
   "execution_count": 14,
   "execution_state": "idle",
   "id": "50631102-5d09-4a45-8609-454dc538ece1",
   "metadata": {},
   "outputs": [
    {
     "name": "stdout",
     "output_type": "stream",
     "text": [
      "Requirement already satisfied: awswrangler in /opt/conda/lib/python3.11/site-packages (3.11.0)\n",
      "Requirement already satisfied: boto3<2.0.0,>=1.20.32 in /opt/conda/lib/python3.11/site-packages (from awswrangler) (1.37.20)\n",
      "Requirement already satisfied: botocore<2.0.0,>=1.23.32 in /opt/conda/lib/python3.11/site-packages (from awswrangler) (1.37.20)\n",
      "Requirement already satisfied: numpy<3.0,>=1.26 in /opt/conda/lib/python3.11/site-packages (from awswrangler) (1.26.4)\n",
      "Requirement already satisfied: packaging<25.0,>=21.1 in /opt/conda/lib/python3.11/site-packages (from awswrangler) (24.2)\n",
      "Requirement already satisfied: pandas<3.0.0,>=1.2.0 in /opt/conda/lib/python3.11/site-packages (from awswrangler) (2.2.3)\n",
      "Requirement already satisfied: pyarrow<19.0.0,>=8.0.0 in /opt/conda/lib/python3.11/site-packages (from awswrangler) (17.0.0)\n",
      "Requirement already satisfied: typing-extensions<5.0.0,>=4.4.0 in /opt/conda/lib/python3.11/site-packages (from awswrangler) (4.12.2)\n",
      "Requirement already satisfied: jmespath<2.0.0,>=0.7.1 in /opt/conda/lib/python3.11/site-packages (from boto3<2.0.0,>=1.20.32->awswrangler) (0.10.0)\n",
      "Requirement already satisfied: s3transfer<0.12.0,>=0.11.0 in /opt/conda/lib/python3.11/site-packages (from boto3<2.0.0,>=1.20.32->awswrangler) (0.11.4)\n",
      "Requirement already satisfied: python-dateutil<3.0.0,>=2.1 in /opt/conda/lib/python3.11/site-packages (from botocore<2.0.0,>=1.23.32->awswrangler) (2.9.0.post0)\n",
      "Requirement already satisfied: urllib3!=2.2.0,<3,>=1.25.4 in /opt/conda/lib/python3.11/site-packages (from botocore<2.0.0,>=1.23.32->awswrangler) (1.26.20)\n",
      "Requirement already satisfied: pytz>=2020.1 in /opt/conda/lib/python3.11/site-packages (from pandas<3.0.0,>=1.2.0->awswrangler) (2024.1)\n",
      "Requirement already satisfied: tzdata>=2022.7 in /opt/conda/lib/python3.11/site-packages (from pandas<3.0.0,>=1.2.0->awswrangler) (2025.1)\n",
      "Requirement already satisfied: six>=1.5 in /opt/conda/lib/python3.11/site-packages (from python-dateutil<3.0.0,>=2.1->botocore<2.0.0,>=1.23.32->awswrangler) (1.17.0)\n"
     ]
    }
   ],
   "source": [
    "!pip install awswrangler"
   ]
  },
  {
   "cell_type": "code",
   "execution_count": 15,
   "execution_state": "idle",
   "id": "7a8523bd-e4a2-4f5a-86d2-7cb37c8947a8",
   "metadata": {},
   "outputs": [],
   "source": [
    "#import libraries for EDA\n",
    "import awswrangler as wr\n",
    "import pandas as pd\n",
    "import numpy as np\n",
    "import matplotlib.pyplot as plt\n",
    "import seaborn as sns"
   ]
  },
  {
   "cell_type": "code",
   "execution_count": 16,
   "execution_state": "idle",
   "id": "49e877c9-13d5-425b-98f7-6cfa9683975b",
   "metadata": {},
   "outputs": [],
   "source": [
    "#create Data quality report function for continous data \n",
    "\n",
    "def dqr_cont(df): \n",
    "    # Identify continuous features based on numeric data types\n",
    "    conf = df.select_dtypes(include=['float64', 'int64']).columns.tolist()\n",
    "    # Create the report DataFrame\n",
    "    report = pd.DataFrame({\n",
    "        'Feature': conf,\n",
    "        'Count': df[conf].count().values,\n",
    "        'Missing Values': df[conf].isnull().sum().values,\n",
    "        'Cardinality': df[conf].nunique().values,\n",
    "        'Min': df[conf].min().values,\n",
    "        '1st Quartile': df[conf].quantile(0.25).values,\n",
    "        'Mean': df[conf].mean().values,\n",
    "        'Median': df[conf].median().values,\n",
    "        '3rd Quartile': df[conf].quantile(0.75).values,\n",
    "        'Max': df[conf].max().values,\n",
    "        'Standard Deviation': df[conf].std().values,\n",
    "    }) \n",
    "    return report"
   ]
  },
  {
   "cell_type": "code",
   "execution_count": 17,
   "execution_state": "idle",
   "id": "09ee718f-73e2-4a9c-b14b-0bbb0ae2c76f",
   "metadata": {},
   "outputs": [],
   "source": [
    "#create data qualtiy report for categorical data\n",
    "def dqr_cat(df):\n",
    "    # Identify categorical features (object dtype)\n",
    "    catf = df.select_dtypes(include=['object']).columns.tolist()\n",
    "    \n",
    "    # Initialize lists to store mode and frequency metrics for each categorical feature\n",
    "    modes = []\n",
    "    mode_freqs = []\n",
    "    second_modes = []\n",
    "    second_mode_freqs = []\n",
    "    mode_percentages = []\n",
    "    second_mode_percentages = []\n",
    "    \n",
    "    # Calculate metrics for each categorical feature\n",
    "    for feature in catf:\n",
    "        count = df[feature].count()\n",
    "        # Compute mode and frequency of mode\n",
    "        mode = df[feature].mode().iloc[0] if count > 0 else None\n",
    "        mode_freq = df[feature].value_counts().iloc[0] if count > 0 else 0\n",
    "        \n",
    "        modes.append(mode)\n",
    "        mode_freqs.append(mode_freq)\n",
    "        mode_percentages.append((mode_freq / count) * 100 if count > 0 else 0)\n",
    "        \n",
    "        # Calculate second mode and its frequency if it exists\n",
    "        value_counts = df[feature].value_counts()\n",
    "        if len(value_counts) > 1:\n",
    "            second_mode = value_counts.index[1]\n",
    "            second_mode_freq = value_counts.iloc[1]\n",
    "        else:\n",
    "            second_mode = None\n",
    "            second_mode_freq = 0\n",
    "        \n",
    "        second_modes.append(second_mode)\n",
    "        second_mode_freqs.append(second_mode_freq)\n",
    "        second_mode_percentages.append((second_mode_freq / count) * 100 if count > 0 else 0)\n",
    "    \n",
    "    # Build the quality report DataFrame\n",
    "    report = pd.DataFrame({\n",
    "        'Feature': catf,\n",
    "        'Count': df[catf].count().values,\n",
    "        'Missing Values': df[catf].isnull().sum().values,\n",
    "        'Cardinality': df[catf].nunique().values,\n",
    "        'Mode': modes,\n",
    "        'Mode Frequency': mode_freqs,\n",
    "        'Mode %': mode_percentages,\n",
    "        '2nd Mode': second_modes,\n",
    "        '2nd Mode Frequency': second_mode_freqs,\n",
    "        '2nd Mode %': second_mode_percentages,\n",
    "    })\n",
    "    \n",
    "    return report"
   ]
  },
  {
   "cell_type": "markdown",
   "id": "f317a456-3273-4f8e-b493-52b3e1602672",
   "metadata": {},
   "source": [
    "## Arrest Data"
   ]
  },
  {
   "cell_type": "code",
   "execution_count": 18,
   "execution_state": "idle",
   "id": "e5d013fd-06ae-4c9e-9929-e63e082cfe7c",
   "metadata": {},
   "outputs": [
    {
     "name": "stderr",
     "output_type": "stream",
     "text": [
      "2025-03-27 02:34:19,208\tWARNING services.py:2022 -- WARNING: The object store is using /tmp instead of /dev/shm because /dev/shm has only 1926213632 bytes available. This will harm performance! You may be able to free up space by deleting files in /dev/shm. If you are inside a Docker container, you can increase /dev/shm size by passing '--shm-size=4.46gb' to 'docker run' (or add it to the run_options list in a Ray cluster config). Make sure to set this to more than 30% of available RAM.\n",
      "2025-03-27 02:34:19,369\tINFO worker.py:1786 -- Started a local Ray instance.\n"
     ]
    },
    {
     "data": {
      "text/html": [
       "<div>\n",
       "<style scoped>\n",
       "    .dataframe tbody tr th:only-of-type {\n",
       "        vertical-align: middle;\n",
       "    }\n",
       "\n",
       "    .dataframe tbody tr th {\n",
       "        vertical-align: top;\n",
       "    }\n",
       "\n",
       "    .dataframe thead th {\n",
       "        text-align: right;\n",
       "    }\n",
       "</style>\n",
       "<table border=\"1\" class=\"dataframe\">\n",
       "  <thead>\n",
       "    <tr style=\"text-align: right;\">\n",
       "      <th></th>\n",
       "      <th>Report ID</th>\n",
       "      <th>Report Type</th>\n",
       "      <th>Arrest Date</th>\n",
       "      <th>Time</th>\n",
       "      <th>Area ID</th>\n",
       "      <th>Area Name</th>\n",
       "      <th>Reporting District</th>\n",
       "      <th>Age</th>\n",
       "      <th>Sex Code</th>\n",
       "      <th>Descent Code</th>\n",
       "      <th>...</th>\n",
       "      <th>Disposition Description</th>\n",
       "      <th>Address</th>\n",
       "      <th>Cross Street</th>\n",
       "      <th>LAT</th>\n",
       "      <th>LON</th>\n",
       "      <th>Location</th>\n",
       "      <th>Booking Date</th>\n",
       "      <th>Booking Time</th>\n",
       "      <th>Booking Location</th>\n",
       "      <th>Booking Location Code</th>\n",
       "    </tr>\n",
       "  </thead>\n",
       "  <tbody>\n",
       "    <tr>\n",
       "      <th>0</th>\n",
       "      <td>6636966</td>\n",
       "      <td>BOOKING</td>\n",
       "      <td>07/06/2023 12:00:00 AM</td>\n",
       "      <td>2250.0</td>\n",
       "      <td>8</td>\n",
       "      <td>West LA</td>\n",
       "      <td>817</td>\n",
       "      <td>46</td>\n",
       "      <td>M</td>\n",
       "      <td>B</td>\n",
       "      <td>...</td>\n",
       "      <td>MISDEMEANOR COMPLAINT FILED</td>\n",
       "      <td>900    GAYLEY                       AV</td>\n",
       "      <td>NaN</td>\n",
       "      <td>34.0637</td>\n",
       "      <td>-118.4482</td>\n",
       "      <td>POINT (-118.4482 34.0637)</td>\n",
       "      <td>07/07/2023 12:00:00 AM</td>\n",
       "      <td>143.0</td>\n",
       "      <td>METRO - JAIL DIVISION</td>\n",
       "      <td>4273.0</td>\n",
       "    </tr>\n",
       "    <tr>\n",
       "      <th>1</th>\n",
       "      <td>6637119</td>\n",
       "      <td>BOOKING</td>\n",
       "      <td>07/07/2023 12:00:00 AM</td>\n",
       "      <td>1000.0</td>\n",
       "      <td>3</td>\n",
       "      <td>Southwest</td>\n",
       "      <td>396</td>\n",
       "      <td>39</td>\n",
       "      <td>M</td>\n",
       "      <td>B</td>\n",
       "      <td>...</td>\n",
       "      <td>MISDEMEANOR COMPLAINT FILED</td>\n",
       "      <td>40TH                         PL</td>\n",
       "      <td>VERMONT</td>\n",
       "      <td>34.0100</td>\n",
       "      <td>-118.2915</td>\n",
       "      <td>POINT (-118.2915 34.01)</td>\n",
       "      <td>07/07/2023 12:00:00 AM</td>\n",
       "      <td>1156.0</td>\n",
       "      <td>77TH ST</td>\n",
       "      <td>4212.0</td>\n",
       "    </tr>\n",
       "    <tr>\n",
       "      <th>2</th>\n",
       "      <td>6624479</td>\n",
       "      <td>BOOKING</td>\n",
       "      <td>06/15/2023 12:00:00 AM</td>\n",
       "      <td>1850.0</td>\n",
       "      <td>7</td>\n",
       "      <td>Wilshire</td>\n",
       "      <td>724</td>\n",
       "      <td>33</td>\n",
       "      <td>F</td>\n",
       "      <td>H</td>\n",
       "      <td>...</td>\n",
       "      <td>MISDEMEANOR COMPLAINT FILED</td>\n",
       "      <td>100    THE GROVE                    DR</td>\n",
       "      <td>NaN</td>\n",
       "      <td>34.0736</td>\n",
       "      <td>-118.3563</td>\n",
       "      <td>POINT (-118.3563 34.0736)</td>\n",
       "      <td>06/15/2023 12:00:00 AM</td>\n",
       "      <td>2251.0</td>\n",
       "      <td>77TH ST</td>\n",
       "      <td>4212.0</td>\n",
       "    </tr>\n",
       "    <tr>\n",
       "      <th>3</th>\n",
       "      <td>6636128</td>\n",
       "      <td>BOOKING</td>\n",
       "      <td>07/05/2023 12:00:00 AM</td>\n",
       "      <td>1550.0</td>\n",
       "      <td>2</td>\n",
       "      <td>Rampart</td>\n",
       "      <td>218</td>\n",
       "      <td>30</td>\n",
       "      <td>F</td>\n",
       "      <td>B</td>\n",
       "      <td>...</td>\n",
       "      <td>MISDEMEANOR COMPLAINT FILED</td>\n",
       "      <td>1000    ECHO PARK                    AV</td>\n",
       "      <td>NaN</td>\n",
       "      <td>34.0741</td>\n",
       "      <td>-118.2590</td>\n",
       "      <td>POINT (-118.259 34.0741)</td>\n",
       "      <td>07/05/2023 12:00:00 AM</td>\n",
       "      <td>1940.0</td>\n",
       "      <td>METRO - JAIL DIVISION</td>\n",
       "      <td>4273.0</td>\n",
       "    </tr>\n",
       "    <tr>\n",
       "      <th>4</th>\n",
       "      <td>6636650</td>\n",
       "      <td>BOOKING</td>\n",
       "      <td>07/06/2023 12:00:00 AM</td>\n",
       "      <td>1335.0</td>\n",
       "      <td>12</td>\n",
       "      <td>77th Street</td>\n",
       "      <td>1258</td>\n",
       "      <td>31</td>\n",
       "      <td>M</td>\n",
       "      <td>H</td>\n",
       "      <td>...</td>\n",
       "      <td>NaN</td>\n",
       "      <td>7800 S  BROADWAY</td>\n",
       "      <td>NaN</td>\n",
       "      <td>33.9689</td>\n",
       "      <td>-118.2783</td>\n",
       "      <td>POINT (-118.2783 33.9689)</td>\n",
       "      <td>07/06/2023 12:00:00 AM</td>\n",
       "      <td>1345.0</td>\n",
       "      <td>77TH ST</td>\n",
       "      <td>4212.0</td>\n",
       "    </tr>\n",
       "  </tbody>\n",
       "</table>\n",
       "<p>5 rows × 25 columns</p>\n",
       "</div>"
      ],
      "text/plain": [
       "   Report ID Report Type             Arrest Date    Time  Area ID  \\\n",
       "0    6636966     BOOKING  07/06/2023 12:00:00 AM  2250.0        8   \n",
       "1    6637119     BOOKING  07/07/2023 12:00:00 AM  1000.0        3   \n",
       "2    6624479     BOOKING  06/15/2023 12:00:00 AM  1850.0        7   \n",
       "3    6636128     BOOKING  07/05/2023 12:00:00 AM  1550.0        2   \n",
       "4    6636650     BOOKING  07/06/2023 12:00:00 AM  1335.0       12   \n",
       "\n",
       "     Area Name  Reporting District  Age Sex Code Descent Code  ...  \\\n",
       "0      West LA                 817   46        M            B  ...   \n",
       "1    Southwest                 396   39        M            B  ...   \n",
       "2     Wilshire                 724   33        F            H  ...   \n",
       "3      Rampart                 218   30        F            B  ...   \n",
       "4  77th Street                1258   31        M            H  ...   \n",
       "\n",
       "       Disposition Description                                  Address  \\\n",
       "0  MISDEMEANOR COMPLAINT FILED   900    GAYLEY                       AV   \n",
       "1  MISDEMEANOR COMPLAINT FILED          40TH                         PL   \n",
       "2  MISDEMEANOR COMPLAINT FILED   100    THE GROVE                    DR   \n",
       "3  MISDEMEANOR COMPLAINT FILED  1000    ECHO PARK                    AV   \n",
       "4                          NaN                         7800 S  BROADWAY   \n",
       "\n",
       "  Cross Street      LAT       LON                   Location  \\\n",
       "0          NaN  34.0637 -118.4482  POINT (-118.4482 34.0637)   \n",
       "1      VERMONT  34.0100 -118.2915    POINT (-118.2915 34.01)   \n",
       "2          NaN  34.0736 -118.3563  POINT (-118.3563 34.0736)   \n",
       "3          NaN  34.0741 -118.2590   POINT (-118.259 34.0741)   \n",
       "4          NaN  33.9689 -118.2783  POINT (-118.2783 33.9689)   \n",
       "\n",
       "             Booking Date Booking Time       Booking Location  \\\n",
       "0  07/07/2023 12:00:00 AM        143.0  METRO - JAIL DIVISION   \n",
       "1  07/07/2023 12:00:00 AM       1156.0                77TH ST   \n",
       "2  06/15/2023 12:00:00 AM       2251.0                77TH ST   \n",
       "3  07/05/2023 12:00:00 AM       1940.0  METRO - JAIL DIVISION   \n",
       "4  07/06/2023 12:00:00 AM       1345.0                77TH ST   \n",
       "\n",
       "   Booking Location Code  \n",
       "0                 4273.0  \n",
       "1                 4212.0  \n",
       "2                 4212.0  \n",
       "3                 4273.0  \n",
       "4                 4212.0  \n",
       "\n",
       "[5 rows x 25 columns]"
      ]
     },
     "execution_count": 18,
     "metadata": {},
     "output_type": "execute_result"
    }
   ],
   "source": [
    "# Read the CSV file directly from S3\n",
    "### FOR SASHA DF ###\n",
    "# df_arrest = wr.s3.read_csv(\"s3://sagemaker-us-east-1-643862913351/ads508-group7/arrests/Arrest_Data_from_2020_to_Present.csv\")\n",
    "\n",
    "### FOR CYNTHIA DF ###\n",
    "df_arrest = wr.s3.read_csv(\"s3://ads508-group7/Arrest_Data_from_2020_to_Present.csv\")\n",
    "\n",
    "# Display the first few rows\n",
    "df_arrest.head()"
   ]
  },
  {
   "cell_type": "markdown",
   "id": "8ee18f00-cdb4-4ad3-ac4e-530b58b6c753",
   "metadata": {},
   "source": [
    "### Basic Data Information"
   ]
  },
  {
   "cell_type": "code",
   "execution_count": 19,
   "execution_state": "idle",
   "id": "3fec0ca2-343b-4fb1-bae0-8b094fedfbd0",
   "metadata": {},
   "outputs": [
    {
     "data": {
      "text/plain": [
       "(338332, 25)"
      ]
     },
     "execution_count": 19,
     "metadata": {},
     "output_type": "execute_result"
    }
   ],
   "source": [
    "df_arrest.shape"
   ]
  },
  {
   "cell_type": "code",
   "execution_count": 20,
   "execution_state": "idle",
   "id": "6cb3c481-b60a-4649-8828-fb51074fc50d",
   "metadata": {},
   "outputs": [
    {
     "data": {
      "text/plain": [
       "0"
      ]
     },
     "execution_count": 20,
     "metadata": {},
     "output_type": "execute_result"
    }
   ],
   "source": [
    "#are there duplicates?\n",
    "df_arrest.duplicated().sum()"
   ]
  },
  {
   "cell_type": "code",
   "execution_count": 21,
   "execution_state": "idle",
   "id": "88e653c8-d3c3-4863-9f71-6ce1c9e8cf51",
   "metadata": {},
   "outputs": [
    {
     "data": {
      "text/plain": [
       "Report ID                     int64\n",
       "Report Type                  object\n",
       "Arrest Date                  object\n",
       "Time                        float64\n",
       "Area ID                       int64\n",
       "Area Name                    object\n",
       "Reporting District            int64\n",
       "Age                           int64\n",
       "Sex Code                     object\n",
       "Descent Code                 object\n",
       "Charge Group Code           float64\n",
       "Charge Group Description     object\n",
       "Arrest Type Code             object\n",
       "Charge                       object\n",
       "Charge Description           object\n",
       "Disposition Description      object\n",
       "Address                      object\n",
       "Cross Street                 object\n",
       "LAT                         float64\n",
       "LON                         float64\n",
       "Location                     object\n",
       "Booking Date                 object\n",
       "Booking Time                float64\n",
       "Booking Location             object\n",
       "Booking Location Code       float64\n",
       "dtype: object"
      ]
     },
     "execution_count": 21,
     "metadata": {},
     "output_type": "execute_result"
    }
   ],
   "source": [
    "#get datatypes\n",
    "df_arrest.dtypes"
   ]
  },
  {
   "cell_type": "code",
   "execution_count": 22,
   "execution_state": "idle",
   "id": "b308172c-336f-4db3-841b-12cd1e15e3f7",
   "metadata": {},
   "outputs": [
    {
     "name": "stdout",
     "output_type": "stream",
     "text": [
      "Arrest Date dtype: datetime64[ns], Booking Date dtype:datetime64[ns] \n"
     ]
    }
   ],
   "source": [
    "#convert date times stamps from object\n",
    "df_arrest['Arrest Date'] = pd.to_datetime(df_arrest['Arrest Date'], format='%m/%d/%Y %I:%M:%S %p')\n",
    "df_arrest['Booking Date'] = pd.to_datetime(df_arrest['Booking Date'], format='%m/%d/%Y %I:%M:%S %p')\n",
    "print(f\"Arrest Date dtype: {df_arrest['Arrest Date'].dtype}, Booking Date dtype:{df_arrest['Booking Date'].dtype} \")"
   ]
  },
  {
   "cell_type": "code",
   "execution_count": 23,
   "execution_state": "idle",
   "id": "ea14c741-75fe-4521-87b3-173211f6f738",
   "metadata": {},
   "outputs": [
    {
     "data": {
      "text/plain": [
       "(135423, 25)"
      ]
     },
     "execution_count": 23,
     "metadata": {},
     "output_type": "execute_result"
    }
   ],
   "source": [
    "#only include dates from 2023 and 2024, and drop everything else in order to match timeline of the foreclosure data we have\n",
    "df_a = df_arrest[(df_arrest['Arrest Date'] >= pd.Timestamp('1/01/2023')) &\n",
    "                (df_arrest['Arrest Date'] < pd.Timestamp('2025-01-01'))]\n",
    "\n",
    "df_a.shape"
   ]
  },
  {
   "cell_type": "markdown",
   "id": "4531caf2-d9a3-4491-94f8-10cb927c89d7",
   "metadata": {},
   "source": [
    "### Data Quality Report - Continous"
   ]
  },
  {
   "cell_type": "code",
   "execution_count": 24,
   "execution_state": "idle",
   "id": "e1e5725f-a1b9-4b41-9134-8966988f5e2d",
   "metadata": {},
   "outputs": [
    {
     "data": {
      "text/html": [
       "<div>\n",
       "<style scoped>\n",
       "    .dataframe tbody tr th:only-of-type {\n",
       "        vertical-align: middle;\n",
       "    }\n",
       "\n",
       "    .dataframe tbody tr th {\n",
       "        vertical-align: top;\n",
       "    }\n",
       "\n",
       "    .dataframe thead th {\n",
       "        text-align: right;\n",
       "    }\n",
       "</style>\n",
       "<table border=\"1\" class=\"dataframe\">\n",
       "  <thead>\n",
       "    <tr style=\"text-align: right;\">\n",
       "      <th></th>\n",
       "      <th>Feature</th>\n",
       "      <th>Count</th>\n",
       "      <th>Missing Values</th>\n",
       "      <th>Cardinality</th>\n",
       "      <th>Min</th>\n",
       "      <th>1st Quartile</th>\n",
       "      <th>Mean</th>\n",
       "      <th>Median</th>\n",
       "      <th>3rd Quartile</th>\n",
       "      <th>Max</th>\n",
       "      <th>Standard Deviation</th>\n",
       "    </tr>\n",
       "  </thead>\n",
       "  <tbody>\n",
       "    <tr>\n",
       "      <th>0</th>\n",
       "      <td>Report ID</td>\n",
       "      <td>135423</td>\n",
       "      <td>0</td>\n",
       "      <td>135423</td>\n",
       "      <td>3365638.00</td>\n",
       "      <td>6670981.50</td>\n",
       "      <td>67158002.82</td>\n",
       "      <td>6808540.00</td>\n",
       "      <td>230209886.00</td>\n",
       "      <td>252004041.00</td>\n",
       "      <td>101217108.10</td>\n",
       "    </tr>\n",
       "    <tr>\n",
       "      <th>1</th>\n",
       "      <td>Time</td>\n",
       "      <td>135414</td>\n",
       "      <td>9</td>\n",
       "      <td>1437</td>\n",
       "      <td>1.00</td>\n",
       "      <td>905.00</td>\n",
       "      <td>1331.17</td>\n",
       "      <td>1400.00</td>\n",
       "      <td>1830.00</td>\n",
       "      <td>2400.00</td>\n",
       "      <td>633.92</td>\n",
       "    </tr>\n",
       "    <tr>\n",
       "      <th>2</th>\n",
       "      <td>Area ID</td>\n",
       "      <td>135423</td>\n",
       "      <td>0</td>\n",
       "      <td>21</td>\n",
       "      <td>1.00</td>\n",
       "      <td>3.00</td>\n",
       "      <td>10.09</td>\n",
       "      <td>10.00</td>\n",
       "      <td>15.00</td>\n",
       "      <td>21.00</td>\n",
       "      <td>6.45</td>\n",
       "    </tr>\n",
       "    <tr>\n",
       "      <th>3</th>\n",
       "      <td>Reporting District</td>\n",
       "      <td>135423</td>\n",
       "      <td>0</td>\n",
       "      <td>1220</td>\n",
       "      <td>101.00</td>\n",
       "      <td>399.00</td>\n",
       "      <td>1055.38</td>\n",
       "      <td>1065.00</td>\n",
       "      <td>1586.00</td>\n",
       "      <td>2197.00</td>\n",
       "      <td>644.70</td>\n",
       "    </tr>\n",
       "    <tr>\n",
       "      <th>4</th>\n",
       "      <td>Age</td>\n",
       "      <td>135423</td>\n",
       "      <td>0</td>\n",
       "      <td>93</td>\n",
       "      <td>0.00</td>\n",
       "      <td>27.00</td>\n",
       "      <td>35.69</td>\n",
       "      <td>34.00</td>\n",
       "      <td>43.00</td>\n",
       "      <td>94.00</td>\n",
       "      <td>12.31</td>\n",
       "    </tr>\n",
       "    <tr>\n",
       "      <th>5</th>\n",
       "      <td>Charge Group Code</td>\n",
       "      <td>118396</td>\n",
       "      <td>17027</td>\n",
       "      <td>28</td>\n",
       "      <td>1.00</td>\n",
       "      <td>6.00</td>\n",
       "      <td>13.22</td>\n",
       "      <td>12.00</td>\n",
       "      <td>22.00</td>\n",
       "      <td>29.00</td>\n",
       "      <td>7.61</td>\n",
       "    </tr>\n",
       "    <tr>\n",
       "      <th>6</th>\n",
       "      <td>LAT</td>\n",
       "      <td>135423</td>\n",
       "      <td>0</td>\n",
       "      <td>4264</td>\n",
       "      <td>0.00</td>\n",
       "      <td>34.02</td>\n",
       "      <td>34.08</td>\n",
       "      <td>34.06</td>\n",
       "      <td>34.17</td>\n",
       "      <td>34.33</td>\n",
       "      <td>0.36</td>\n",
       "    </tr>\n",
       "    <tr>\n",
       "      <th>7</th>\n",
       "      <td>LON</td>\n",
       "      <td>135423</td>\n",
       "      <td>0</td>\n",
       "      <td>4126</td>\n",
       "      <td>-118.67</td>\n",
       "      <td>-118.42</td>\n",
       "      <td>-118.34</td>\n",
       "      <td>-118.31</td>\n",
       "      <td>-118.27</td>\n",
       "      <td>0.00</td>\n",
       "      <td>1.21</td>\n",
       "    </tr>\n",
       "    <tr>\n",
       "      <th>8</th>\n",
       "      <td>Booking Time</td>\n",
       "      <td>99826</td>\n",
       "      <td>35597</td>\n",
       "      <td>1437</td>\n",
       "      <td>1.00</td>\n",
       "      <td>542.00</td>\n",
       "      <td>1269.61</td>\n",
       "      <td>1358.00</td>\n",
       "      <td>1931.00</td>\n",
       "      <td>2359.00</td>\n",
       "      <td>737.30</td>\n",
       "    </tr>\n",
       "    <tr>\n",
       "      <th>9</th>\n",
       "      <td>Booking Location Code</td>\n",
       "      <td>99826</td>\n",
       "      <td>35597</td>\n",
       "      <td>29</td>\n",
       "      <td>4201.00</td>\n",
       "      <td>4212.00</td>\n",
       "      <td>4252.72</td>\n",
       "      <td>4273.00</td>\n",
       "      <td>4279.00</td>\n",
       "      <td>4283.00</td>\n",
       "      <td>31.33</td>\n",
       "    </tr>\n",
       "  </tbody>\n",
       "</table>\n",
       "</div>"
      ],
      "text/plain": [
       "                 Feature   Count  Missing Values  Cardinality        Min  \\\n",
       "0              Report ID  135423               0       135423 3365638.00   \n",
       "1                   Time  135414               9         1437       1.00   \n",
       "2                Area ID  135423               0           21       1.00   \n",
       "3     Reporting District  135423               0         1220     101.00   \n",
       "4                    Age  135423               0           93       0.00   \n",
       "5      Charge Group Code  118396           17027           28       1.00   \n",
       "6                    LAT  135423               0         4264       0.00   \n",
       "7                    LON  135423               0         4126    -118.67   \n",
       "8           Booking Time   99826           35597         1437       1.00   \n",
       "9  Booking Location Code   99826           35597           29    4201.00   \n",
       "\n",
       "   1st Quartile        Mean     Median  3rd Quartile          Max  \\\n",
       "0    6670981.50 67158002.82 6808540.00  230209886.00 252004041.00   \n",
       "1        905.00     1331.17    1400.00       1830.00      2400.00   \n",
       "2          3.00       10.09      10.00         15.00        21.00   \n",
       "3        399.00     1055.38    1065.00       1586.00      2197.00   \n",
       "4         27.00       35.69      34.00         43.00        94.00   \n",
       "5          6.00       13.22      12.00         22.00        29.00   \n",
       "6         34.02       34.08      34.06         34.17        34.33   \n",
       "7       -118.42     -118.34    -118.31       -118.27         0.00   \n",
       "8        542.00     1269.61    1358.00       1931.00      2359.00   \n",
       "9       4212.00     4252.72    4273.00       4279.00      4283.00   \n",
       "\n",
       "   Standard Deviation  \n",
       "0        101217108.10  \n",
       "1              633.92  \n",
       "2                6.45  \n",
       "3              644.70  \n",
       "4               12.31  \n",
       "5                7.61  \n",
       "6                0.36  \n",
       "7                1.21  \n",
       "8              737.30  \n",
       "9               31.33  "
      ]
     },
     "execution_count": 24,
     "metadata": {},
     "output_type": "execute_result"
    }
   ],
   "source": [
    "pd.options.display.float_format = '{:.2f}'.format\n",
    "cont_df_a = dqr_cont(df_a)\n",
    "cont_df_a"
   ]
  },
  {
   "cell_type": "markdown",
   "id": "5fdcf22b-b4ab-485d-9c40-9184d2f6511b",
   "metadata": {},
   "source": [
    "### Data Quality Report - Categorical"
   ]
  },
  {
   "cell_type": "code",
   "execution_count": 25,
   "execution_state": "idle",
   "id": "8fdb8e03-63b9-4bd4-9154-46642e7f3b19",
   "metadata": {},
   "outputs": [
    {
     "data": {
      "text/html": [
       "<div>\n",
       "<style scoped>\n",
       "    .dataframe tbody tr th:only-of-type {\n",
       "        vertical-align: middle;\n",
       "    }\n",
       "\n",
       "    .dataframe tbody tr th {\n",
       "        vertical-align: top;\n",
       "    }\n",
       "\n",
       "    .dataframe thead th {\n",
       "        text-align: right;\n",
       "    }\n",
       "</style>\n",
       "<table border=\"1\" class=\"dataframe\">\n",
       "  <thead>\n",
       "    <tr style=\"text-align: right;\">\n",
       "      <th></th>\n",
       "      <th>Feature</th>\n",
       "      <th>Count</th>\n",
       "      <th>Missing Values</th>\n",
       "      <th>Cardinality</th>\n",
       "      <th>Mode</th>\n",
       "      <th>Mode Frequency</th>\n",
       "      <th>Mode %</th>\n",
       "      <th>2nd Mode</th>\n",
       "      <th>2nd Mode Frequency</th>\n",
       "      <th>2nd Mode %</th>\n",
       "    </tr>\n",
       "  </thead>\n",
       "  <tbody>\n",
       "    <tr>\n",
       "      <th>0</th>\n",
       "      <td>Report Type</td>\n",
       "      <td>135423</td>\n",
       "      <td>0</td>\n",
       "      <td>2</td>\n",
       "      <td>BOOKING</td>\n",
       "      <td>99826</td>\n",
       "      <td>73.71</td>\n",
       "      <td>RFC</td>\n",
       "      <td>35597</td>\n",
       "      <td>26.29</td>\n",
       "    </tr>\n",
       "    <tr>\n",
       "      <th>1</th>\n",
       "      <td>Area Name</td>\n",
       "      <td>135423</td>\n",
       "      <td>0</td>\n",
       "      <td>21</td>\n",
       "      <td>Rampart</td>\n",
       "      <td>13580</td>\n",
       "      <td>10.03</td>\n",
       "      <td>Central</td>\n",
       "      <td>13367</td>\n",
       "      <td>9.87</td>\n",
       "    </tr>\n",
       "    <tr>\n",
       "      <th>2</th>\n",
       "      <td>Sex Code</td>\n",
       "      <td>135423</td>\n",
       "      <td>0</td>\n",
       "      <td>2</td>\n",
       "      <td>M</td>\n",
       "      <td>107945</td>\n",
       "      <td>79.71</td>\n",
       "      <td>F</td>\n",
       "      <td>27478</td>\n",
       "      <td>20.29</td>\n",
       "    </tr>\n",
       "    <tr>\n",
       "      <th>3</th>\n",
       "      <td>Descent Code</td>\n",
       "      <td>135423</td>\n",
       "      <td>0</td>\n",
       "      <td>16</td>\n",
       "      <td>H</td>\n",
       "      <td>68913</td>\n",
       "      <td>50.89</td>\n",
       "      <td>B</td>\n",
       "      <td>36612</td>\n",
       "      <td>27.04</td>\n",
       "    </tr>\n",
       "    <tr>\n",
       "      <th>4</th>\n",
       "      <td>Charge Group Description</td>\n",
       "      <td>118377</td>\n",
       "      <td>17046</td>\n",
       "      <td>27</td>\n",
       "      <td>Miscellaneous Other Violations</td>\n",
       "      <td>17881</td>\n",
       "      <td>15.11</td>\n",
       "      <td>Aggravated Assault</td>\n",
       "      <td>16488</td>\n",
       "      <td>13.93</td>\n",
       "    </tr>\n",
       "    <tr>\n",
       "      <th>5</th>\n",
       "      <td>Arrest Type Code</td>\n",
       "      <td>135423</td>\n",
       "      <td>0</td>\n",
       "      <td>7</td>\n",
       "      <td>M</td>\n",
       "      <td>61850</td>\n",
       "      <td>45.67</td>\n",
       "      <td>F</td>\n",
       "      <td>58769</td>\n",
       "      <td>43.40</td>\n",
       "    </tr>\n",
       "    <tr>\n",
       "      <th>6</th>\n",
       "      <td>Charge</td>\n",
       "      <td>135423</td>\n",
       "      <td>0</td>\n",
       "      <td>3067</td>\n",
       "      <td>273.5(A)PC</td>\n",
       "      <td>7527</td>\n",
       "      <td>5.56</td>\n",
       "      <td>23152(A)VC</td>\n",
       "      <td>7251</td>\n",
       "      <td>5.35</td>\n",
       "    </tr>\n",
       "    <tr>\n",
       "      <th>7</th>\n",
       "      <td>Charge Description</td>\n",
       "      <td>118396</td>\n",
       "      <td>17027</td>\n",
       "      <td>1072</td>\n",
       "      <td>CORPORAL INJURY ON SPOUSE/COHABITANT/ETC</td>\n",
       "      <td>7527</td>\n",
       "      <td>6.36</td>\n",
       "      <td>DRUNK DRIVING ALCOHOL/DRUGS</td>\n",
       "      <td>7210</td>\n",
       "      <td>6.09</td>\n",
       "    </tr>\n",
       "    <tr>\n",
       "      <th>8</th>\n",
       "      <td>Disposition Description</td>\n",
       "      <td>119864</td>\n",
       "      <td>15559</td>\n",
       "      <td>21</td>\n",
       "      <td>MISDEMEANOR COMPLAINT FILED</td>\n",
       "      <td>69813</td>\n",
       "      <td>58.24</td>\n",
       "      <td>FELONY COMPLAINT FILED</td>\n",
       "      <td>24601</td>\n",
       "      <td>20.52</td>\n",
       "    </tr>\n",
       "    <tr>\n",
       "      <th>9</th>\n",
       "      <td>Address</td>\n",
       "      <td>135423</td>\n",
       "      <td>0</td>\n",
       "      <td>25077</td>\n",
       "      <td>2200 W  6TH                          ST</td>\n",
       "      <td>2221</td>\n",
       "      <td>1.64</td>\n",
       "      <td>600 S  ALVARADO                     ST</td>\n",
       "      <td>1965</td>\n",
       "      <td>1.45</td>\n",
       "    </tr>\n",
       "    <tr>\n",
       "      <th>10</th>\n",
       "      <td>Cross Street</td>\n",
       "      <td>54378</td>\n",
       "      <td>81045</td>\n",
       "      <td>5963</td>\n",
       "      <td>FIGUEROA</td>\n",
       "      <td>923</td>\n",
       "      <td>1.70</td>\n",
       "      <td>ALVARADO</td>\n",
       "      <td>770</td>\n",
       "      <td>1.42</td>\n",
       "    </tr>\n",
       "    <tr>\n",
       "      <th>11</th>\n",
       "      <td>Location</td>\n",
       "      <td>135423</td>\n",
       "      <td>0</td>\n",
       "      <td>23928</td>\n",
       "      <td>POINT (-118.2749 34.0595)</td>\n",
       "      <td>2357</td>\n",
       "      <td>1.74</td>\n",
       "      <td>POINT (-118.2761 34.0601)</td>\n",
       "      <td>2293</td>\n",
       "      <td>1.69</td>\n",
       "    </tr>\n",
       "    <tr>\n",
       "      <th>12</th>\n",
       "      <td>Booking Location</td>\n",
       "      <td>99812</td>\n",
       "      <td>35611</td>\n",
       "      <td>23</td>\n",
       "      <td>METRO - JAIL DIVISION</td>\n",
       "      <td>32358</td>\n",
       "      <td>32.42</td>\n",
       "      <td>VALLEY - JAIL DIV</td>\n",
       "      <td>31706</td>\n",
       "      <td>31.77</td>\n",
       "    </tr>\n",
       "  </tbody>\n",
       "</table>\n",
       "</div>"
      ],
      "text/plain": [
       "                     Feature   Count  Missing Values  Cardinality  \\\n",
       "0                Report Type  135423               0            2   \n",
       "1                  Area Name  135423               0           21   \n",
       "2                   Sex Code  135423               0            2   \n",
       "3               Descent Code  135423               0           16   \n",
       "4   Charge Group Description  118377           17046           27   \n",
       "5           Arrest Type Code  135423               0            7   \n",
       "6                     Charge  135423               0         3067   \n",
       "7         Charge Description  118396           17027         1072   \n",
       "8    Disposition Description  119864           15559           21   \n",
       "9                    Address  135423               0        25077   \n",
       "10              Cross Street   54378           81045         5963   \n",
       "11                  Location  135423               0        23928   \n",
       "12          Booking Location   99812           35611           23   \n",
       "\n",
       "                                        Mode  Mode Frequency  Mode %  \\\n",
       "0                                    BOOKING           99826   73.71   \n",
       "1                                    Rampart           13580   10.03   \n",
       "2                                          M          107945   79.71   \n",
       "3                                          H           68913   50.89   \n",
       "4             Miscellaneous Other Violations           17881   15.11   \n",
       "5                                          M           61850   45.67   \n",
       "6                                 273.5(A)PC            7527    5.56   \n",
       "7   CORPORAL INJURY ON SPOUSE/COHABITANT/ETC            7527    6.36   \n",
       "8                MISDEMEANOR COMPLAINT FILED           69813   58.24   \n",
       "9    2200 W  6TH                          ST            2221    1.64   \n",
       "10                                  FIGUEROA             923    1.70   \n",
       "11                 POINT (-118.2749 34.0595)            2357    1.74   \n",
       "12                     METRO - JAIL DIVISION           32358   32.42   \n",
       "\n",
       "                                  2nd Mode  2nd Mode Frequency  2nd Mode %  \n",
       "0                                      RFC               35597       26.29  \n",
       "1                                  Central               13367        9.87  \n",
       "2                                        F               27478       20.29  \n",
       "3                                        B               36612       27.04  \n",
       "4                       Aggravated Assault               16488       13.93  \n",
       "5                                        F               58769       43.40  \n",
       "6                               23152(A)VC                7251        5.35  \n",
       "7              DRUNK DRIVING ALCOHOL/DRUGS                7210        6.09  \n",
       "8                   FELONY COMPLAINT FILED               24601       20.52  \n",
       "9   600 S  ALVARADO                     ST                1965        1.45  \n",
       "10                                ALVARADO                 770        1.42  \n",
       "11               POINT (-118.2761 34.0601)                2293        1.69  \n",
       "12                       VALLEY - JAIL DIV               31706       31.77  "
      ]
     },
     "execution_count": 25,
     "metadata": {},
     "output_type": "execute_result"
    }
   ],
   "source": [
    "cat_df_a = dqr_cat(df_a)\n",
    "cat_df_a"
   ]
  },
  {
   "cell_type": "code",
   "execution_count": 26,
   "execution_state": "idle",
   "id": "d8435dbd-305d-4540-a126-1f5170a088ae",
   "metadata": {},
   "outputs": [
    {
     "data": {
      "text/html": [
       "<div>\n",
       "<style scoped>\n",
       "    .dataframe tbody tr th:only-of-type {\n",
       "        vertical-align: middle;\n",
       "    }\n",
       "\n",
       "    .dataframe tbody tr th {\n",
       "        vertical-align: top;\n",
       "    }\n",
       "\n",
       "    .dataframe thead th {\n",
       "        text-align: right;\n",
       "    }\n",
       "</style>\n",
       "<table border=\"1\" class=\"dataframe\">\n",
       "  <thead>\n",
       "    <tr style=\"text-align: right;\">\n",
       "      <th></th>\n",
       "      <th>Area ID</th>\n",
       "      <th>Area Name</th>\n",
       "      <th>Report ID</th>\n",
       "    </tr>\n",
       "  </thead>\n",
       "  <tbody>\n",
       "    <tr>\n",
       "      <th>0</th>\n",
       "      <td>1</td>\n",
       "      <td>Central</td>\n",
       "      <td>13367</td>\n",
       "    </tr>\n",
       "    <tr>\n",
       "      <th>1</th>\n",
       "      <td>2</td>\n",
       "      <td>Rampart</td>\n",
       "      <td>13580</td>\n",
       "    </tr>\n",
       "    <tr>\n",
       "      <th>2</th>\n",
       "      <td>3</td>\n",
       "      <td>Southwest</td>\n",
       "      <td>6979</td>\n",
       "    </tr>\n",
       "    <tr>\n",
       "      <th>3</th>\n",
       "      <td>4</td>\n",
       "      <td>Hollenbeck</td>\n",
       "      <td>4372</td>\n",
       "    </tr>\n",
       "    <tr>\n",
       "      <th>4</th>\n",
       "      <td>5</td>\n",
       "      <td>Harbor</td>\n",
       "      <td>3720</td>\n",
       "    </tr>\n",
       "    <tr>\n",
       "      <th>5</th>\n",
       "      <td>6</td>\n",
       "      <td>Hollywood</td>\n",
       "      <td>7331</td>\n",
       "    </tr>\n",
       "    <tr>\n",
       "      <th>6</th>\n",
       "      <td>7</td>\n",
       "      <td>Wilshire</td>\n",
       "      <td>3680</td>\n",
       "    </tr>\n",
       "    <tr>\n",
       "      <th>7</th>\n",
       "      <td>8</td>\n",
       "      <td>West LA</td>\n",
       "      <td>3943</td>\n",
       "    </tr>\n",
       "    <tr>\n",
       "      <th>8</th>\n",
       "      <td>9</td>\n",
       "      <td>Van Nuys</td>\n",
       "      <td>7095</td>\n",
       "    </tr>\n",
       "    <tr>\n",
       "      <th>9</th>\n",
       "      <td>10</td>\n",
       "      <td>West Valley</td>\n",
       "      <td>4196</td>\n",
       "    </tr>\n",
       "    <tr>\n",
       "      <th>10</th>\n",
       "      <td>11</td>\n",
       "      <td>Northeast</td>\n",
       "      <td>5053</td>\n",
       "    </tr>\n",
       "    <tr>\n",
       "      <th>11</th>\n",
       "      <td>12</td>\n",
       "      <td>77th Street</td>\n",
       "      <td>7497</td>\n",
       "    </tr>\n",
       "    <tr>\n",
       "      <th>12</th>\n",
       "      <td>13</td>\n",
       "      <td>Newton</td>\n",
       "      <td>7278</td>\n",
       "    </tr>\n",
       "    <tr>\n",
       "      <th>13</th>\n",
       "      <td>14</td>\n",
       "      <td>Pacific</td>\n",
       "      <td>6532</td>\n",
       "    </tr>\n",
       "    <tr>\n",
       "      <th>14</th>\n",
       "      <td>15</td>\n",
       "      <td>N Hollywood</td>\n",
       "      <td>7315</td>\n",
       "    </tr>\n",
       "    <tr>\n",
       "      <th>15</th>\n",
       "      <td>16</td>\n",
       "      <td>Foothill</td>\n",
       "      <td>4815</td>\n",
       "    </tr>\n",
       "    <tr>\n",
       "      <th>16</th>\n",
       "      <td>17</td>\n",
       "      <td>Devonshire</td>\n",
       "      <td>5898</td>\n",
       "    </tr>\n",
       "    <tr>\n",
       "      <th>17</th>\n",
       "      <td>18</td>\n",
       "      <td>Southeast</td>\n",
       "      <td>5882</td>\n",
       "    </tr>\n",
       "    <tr>\n",
       "      <th>18</th>\n",
       "      <td>19</td>\n",
       "      <td>Mission</td>\n",
       "      <td>5633</td>\n",
       "    </tr>\n",
       "    <tr>\n",
       "      <th>19</th>\n",
       "      <td>20</td>\n",
       "      <td>Olympic</td>\n",
       "      <td>6177</td>\n",
       "    </tr>\n",
       "    <tr>\n",
       "      <th>20</th>\n",
       "      <td>21</td>\n",
       "      <td>Topanga</td>\n",
       "      <td>5080</td>\n",
       "    </tr>\n",
       "  </tbody>\n",
       "</table>\n",
       "</div>"
      ],
      "text/plain": [
       "    Area ID    Area Name  Report ID\n",
       "0         1      Central      13367\n",
       "1         2      Rampart      13580\n",
       "2         3    Southwest       6979\n",
       "3         4   Hollenbeck       4372\n",
       "4         5       Harbor       3720\n",
       "5         6    Hollywood       7331\n",
       "6         7     Wilshire       3680\n",
       "7         8      West LA       3943\n",
       "8         9     Van Nuys       7095\n",
       "9        10  West Valley       4196\n",
       "10       11    Northeast       5053\n",
       "11       12  77th Street       7497\n",
       "12       13       Newton       7278\n",
       "13       14      Pacific       6532\n",
       "14       15  N Hollywood       7315\n",
       "15       16     Foothill       4815\n",
       "16       17   Devonshire       5898\n",
       "17       18    Southeast       5882\n",
       "18       19      Mission       5633\n",
       "19       20      Olympic       6177\n",
       "20       21      Topanga       5080"
      ]
     },
     "execution_count": 26,
     "metadata": {},
     "output_type": "execute_result"
    }
   ],
   "source": [
    "pivot_area = df_a.pivot_table(index=['Area ID', 'Area Name'], values='Report ID', aggfunc='count').reset_index()\n",
    "pivot_area"
   ]
  },
  {
   "cell_type": "code",
   "execution_count": 27,
   "execution_state": "idle",
   "id": "22356efd-b69d-4e88-b6df-7c25654f7779",
   "metadata": {},
   "outputs": [
    {
     "data": {
      "text/html": [
       "<div>\n",
       "<style scoped>\n",
       "    .dataframe tbody tr th:only-of-type {\n",
       "        vertical-align: middle;\n",
       "    }\n",
       "\n",
       "    .dataframe tbody tr th {\n",
       "        vertical-align: top;\n",
       "    }\n",
       "\n",
       "    .dataframe thead th {\n",
       "        text-align: right;\n",
       "    }\n",
       "</style>\n",
       "<table border=\"1\" class=\"dataframe\">\n",
       "  <thead>\n",
       "    <tr style=\"text-align: right;\">\n",
       "      <th></th>\n",
       "      <th>Charge Group Code</th>\n",
       "      <th>Charge Group Description</th>\n",
       "      <th>Report ID</th>\n",
       "    </tr>\n",
       "  </thead>\n",
       "  <tbody>\n",
       "    <tr>\n",
       "      <th>0</th>\n",
       "      <td>1.00</td>\n",
       "      <td>Homicide</td>\n",
       "      <td>624</td>\n",
       "    </tr>\n",
       "    <tr>\n",
       "      <th>1</th>\n",
       "      <td>2.00</td>\n",
       "      <td>Rape</td>\n",
       "      <td>489</td>\n",
       "    </tr>\n",
       "    <tr>\n",
       "      <th>2</th>\n",
       "      <td>3.00</td>\n",
       "      <td>Robbery</td>\n",
       "      <td>4438</td>\n",
       "    </tr>\n",
       "    <tr>\n",
       "      <th>3</th>\n",
       "      <td>4.00</td>\n",
       "      <td>Aggravated Assault</td>\n",
       "      <td>16488</td>\n",
       "    </tr>\n",
       "    <tr>\n",
       "      <th>4</th>\n",
       "      <td>5.00</td>\n",
       "      <td>Burglary</td>\n",
       "      <td>2995</td>\n",
       "    </tr>\n",
       "    <tr>\n",
       "      <th>5</th>\n",
       "      <td>6.00</td>\n",
       "      <td>Larceny</td>\n",
       "      <td>8065</td>\n",
       "    </tr>\n",
       "    <tr>\n",
       "      <th>6</th>\n",
       "      <td>7.00</td>\n",
       "      <td>Vehicle Theft</td>\n",
       "      <td>5182</td>\n",
       "    </tr>\n",
       "    <tr>\n",
       "      <th>7</th>\n",
       "      <td>8.00</td>\n",
       "      <td>Other Assaults</td>\n",
       "      <td>11831</td>\n",
       "    </tr>\n",
       "    <tr>\n",
       "      <th>8</th>\n",
       "      <td>9.00</td>\n",
       "      <td>Forgery/Counterfeit</td>\n",
       "      <td>267</td>\n",
       "    </tr>\n",
       "    <tr>\n",
       "      <th>9</th>\n",
       "      <td>10.00</td>\n",
       "      <td>Fraud/Embezzlement</td>\n",
       "      <td>972</td>\n",
       "    </tr>\n",
       "    <tr>\n",
       "      <th>10</th>\n",
       "      <td>11.00</td>\n",
       "      <td>Receive Stolen Property</td>\n",
       "      <td>1134</td>\n",
       "    </tr>\n",
       "    <tr>\n",
       "      <th>11</th>\n",
       "      <td>12.00</td>\n",
       "      <td>Weapon (carry/poss)</td>\n",
       "      <td>8231</td>\n",
       "    </tr>\n",
       "    <tr>\n",
       "      <th>12</th>\n",
       "      <td>13.00</td>\n",
       "      <td>Prostitution/Allied</td>\n",
       "      <td>3392</td>\n",
       "    </tr>\n",
       "    <tr>\n",
       "      <th>13</th>\n",
       "      <td>14.00</td>\n",
       "      <td>Sex (except rape/prst)</td>\n",
       "      <td>1586</td>\n",
       "    </tr>\n",
       "    <tr>\n",
       "      <th>14</th>\n",
       "      <td>15.00</td>\n",
       "      <td>Against Family/Child</td>\n",
       "      <td>1464</td>\n",
       "    </tr>\n",
       "    <tr>\n",
       "      <th>15</th>\n",
       "      <td>16.00</td>\n",
       "      <td>Narcotic Drug Laws</td>\n",
       "      <td>10770</td>\n",
       "    </tr>\n",
       "    <tr>\n",
       "      <th>16</th>\n",
       "      <td>17.00</td>\n",
       "      <td>Liquor Laws</td>\n",
       "      <td>2345</td>\n",
       "    </tr>\n",
       "    <tr>\n",
       "      <th>17</th>\n",
       "      <td>18.00</td>\n",
       "      <td>Drunkeness</td>\n",
       "      <td>1469</td>\n",
       "    </tr>\n",
       "    <tr>\n",
       "      <th>18</th>\n",
       "      <td>19.00</td>\n",
       "      <td>Disturbing the Peace</td>\n",
       "      <td>175</td>\n",
       "    </tr>\n",
       "    <tr>\n",
       "      <th>19</th>\n",
       "      <td>20.00</td>\n",
       "      <td>Disorderly Conduct</td>\n",
       "      <td>2861</td>\n",
       "    </tr>\n",
       "    <tr>\n",
       "      <th>20</th>\n",
       "      <td>21.00</td>\n",
       "      <td>Gambling</td>\n",
       "      <td>1216</td>\n",
       "    </tr>\n",
       "    <tr>\n",
       "      <th>21</th>\n",
       "      <td>22.00</td>\n",
       "      <td>Driving Under Influence</td>\n",
       "      <td>11008</td>\n",
       "    </tr>\n",
       "    <tr>\n",
       "      <th>22</th>\n",
       "      <td>23.00</td>\n",
       "      <td>Moving Traffic Violations</td>\n",
       "      <td>3101</td>\n",
       "    </tr>\n",
       "    <tr>\n",
       "      <th>23</th>\n",
       "      <td>24.00</td>\n",
       "      <td>Miscellaneous Other Violations</td>\n",
       "      <td>17881</td>\n",
       "    </tr>\n",
       "    <tr>\n",
       "      <th>24</th>\n",
       "      <td>25.00</td>\n",
       "      <td>Federal Offenses</td>\n",
       "      <td>58</td>\n",
       "    </tr>\n",
       "    <tr>\n",
       "      <th>25</th>\n",
       "      <td>26.00</td>\n",
       "      <td>Non-Criminal Detention</td>\n",
       "      <td>324</td>\n",
       "    </tr>\n",
       "    <tr>\n",
       "      <th>26</th>\n",
       "      <td>27.00</td>\n",
       "      <td>Pre-Delinquency</td>\n",
       "      <td>11</td>\n",
       "    </tr>\n",
       "  </tbody>\n",
       "</table>\n",
       "</div>"
      ],
      "text/plain": [
       "    Charge Group Code        Charge Group Description  Report ID\n",
       "0                1.00                        Homicide        624\n",
       "1                2.00                            Rape        489\n",
       "2                3.00                         Robbery       4438\n",
       "3                4.00              Aggravated Assault      16488\n",
       "4                5.00                        Burglary       2995\n",
       "5                6.00                         Larceny       8065\n",
       "6                7.00                   Vehicle Theft       5182\n",
       "7                8.00                  Other Assaults      11831\n",
       "8                9.00             Forgery/Counterfeit        267\n",
       "9               10.00              Fraud/Embezzlement        972\n",
       "10              11.00         Receive Stolen Property       1134\n",
       "11              12.00             Weapon (carry/poss)       8231\n",
       "12              13.00             Prostitution/Allied       3392\n",
       "13              14.00          Sex (except rape/prst)       1586\n",
       "14              15.00            Against Family/Child       1464\n",
       "15              16.00              Narcotic Drug Laws      10770\n",
       "16              17.00                     Liquor Laws       2345\n",
       "17              18.00                      Drunkeness       1469\n",
       "18              19.00            Disturbing the Peace        175\n",
       "19              20.00              Disorderly Conduct       2861\n",
       "20              21.00                        Gambling       1216\n",
       "21              22.00         Driving Under Influence      11008\n",
       "22              23.00       Moving Traffic Violations       3101\n",
       "23              24.00  Miscellaneous Other Violations      17881\n",
       "24              25.00                Federal Offenses         58\n",
       "25              26.00          Non-Criminal Detention        324\n",
       "26              27.00                 Pre-Delinquency         11"
      ]
     },
     "execution_count": 27,
     "metadata": {},
     "output_type": "execute_result"
    }
   ],
   "source": [
    "pivot_charge = df_a.pivot_table(index=['Charge Group Code', 'Charge Group Description'], values='Report ID', aggfunc='count').reset_index()\n",
    "pivot_charge"
   ]
  },
  {
   "cell_type": "code",
   "execution_count": 28,
   "execution_state": "idle",
   "id": "c08391cd-7904-4d9c-a505-0a28eee902dc",
   "metadata": {
    "scrolled": true
   },
   "outputs": [
    {
     "ename": "AttributeError",
     "evalue": "module 'seaborn' has no attribute 'histplot'",
     "output_type": "error",
     "traceback": [
      "\u001b[0;31m---------------------------------------------------------------------------\u001b[0m",
      "\u001b[0;31mAttributeError\u001b[0m                            Traceback (most recent call last)",
      "Cell \u001b[0;32mIn[28], line 4\u001b[0m\n\u001b[1;32m      2\u001b[0m plt\u001b[38;5;241m.\u001b[39mfigure(figsize\u001b[38;5;241m=\u001b[39m(\u001b[38;5;241m20\u001b[39m, \u001b[38;5;241m3\u001b[39m))\n\u001b[1;32m      3\u001b[0m plt\u001b[38;5;241m.\u001b[39msubplot(\u001b[38;5;241m1\u001b[39m, \u001b[38;5;241m2\u001b[39m, \u001b[38;5;241m1\u001b[39m)\n\u001b[0;32m----> 4\u001b[0m \u001b[43msns\u001b[49m\u001b[38;5;241;43m.\u001b[39;49m\u001b[43mhistplot\u001b[49m(df_a[\u001b[38;5;124m'\u001b[39m\u001b[38;5;124mArea Name\u001b[39m\u001b[38;5;124m'\u001b[39m], kde \u001b[38;5;241m=\u001b[39m \u001b[38;5;28;01mTrue\u001b[39;00m)\n\u001b[1;32m      5\u001b[0m plt\u001b[38;5;241m.\u001b[39mtitle(\u001b[38;5;124m'\u001b[39m\u001b[38;5;124mDistribution of Arrests by Station\u001b[39m\u001b[38;5;124m'\u001b[39m)\n\u001b[1;32m      6\u001b[0m plt\u001b[38;5;241m.\u001b[39mxticks(rotation\u001b[38;5;241m=\u001b[39m\u001b[38;5;241m90\u001b[39m) \n",
      "\u001b[0;31mAttributeError\u001b[0m: module 'seaborn' has no attribute 'histplot'"
     ]
    },
    {
     "data": {
      "image/png": "[encoded data removed]",
      "text/plain": [
       "<Figure size 2000x300 with 1 Axes>"
      ]
     },
     "metadata": {},
     "output_type": "display_data"
    }
   ],
   "source": [
    "plt.style.use('ggplot')\n",
    "plt.figure(figsize=(20, 3))\n",
    "plt.subplot(1, 2, 1)\n",
    "sns.histplot(df_a['Area Name'], kde = True)\n",
    "plt.title('Distribution of Arrests by Station')\n",
    "plt.xticks(rotation=90) \n",
    "plt.show()"
   ]
  },
  {
   "cell_type": "markdown",
   "id": "7b7c487c-7d67-4bd4-a17f-ce4ebaf358fe",
   "metadata": {},
   "source": [
    "## Crime Data"
   ]
  },
  {
   "cell_type": "code",
   "execution_count": null,
   "execution_state": "idle",
   "id": "23c2cda7-d539-4b68-b342-1acc6d4bb2b8",
   "metadata": {},
   "outputs": [],
   "source": [
    "# Read the CSV file directly from S3\n",
    "### FOR SASHA DF ###\n",
    "# df_crime = wr.s3.read_csv(\"s3://sagemaker-us-east-1-643862913351/ads508-group7/Crime_Data_from_2020_to_Present.csv\")\n",
    "\n",
    "### FOR CYNTHIA DF ###\n",
    "df_crime = wr.s3.read_csv(\"s3://ads508-group7/Crime_Data_from_2020_to_Present.csv\")\n",
    "\n",
    "# Display the first few rows\n",
    "df_crime.head()"
   ]
  },
  {
   "cell_type": "code",
   "execution_count": null,
   "execution_state": "idle",
   "id": "d71cd2c7-9f15-4e56-90d3-8e61a7af7000",
   "metadata": {},
   "outputs": [],
   "source": [
    "df_crime.shape"
   ]
  },
  {
   "cell_type": "code",
   "execution_count": null,
   "execution_state": "idle",
   "id": "6a4c68a7-6e02-432e-904e-4fb6879e4800",
   "metadata": {},
   "outputs": [],
   "source": [
    "#are there duplicates?\n",
    "df_crime.duplicated().sum()"
   ]
  },
  {
   "cell_type": "code",
   "execution_count": null,
   "execution_state": "idle",
   "id": "a996315f-e891-4357-b53f-491971a56cbf",
   "metadata": {},
   "outputs": [],
   "source": [
    "df_crime.dtypes"
   ]
  },
  {
   "cell_type": "code",
   "execution_count": null,
   "execution_state": "idle",
   "id": "f729611a-8fd2-4d30-80d7-0d8a7c5b33ac",
   "metadata": {},
   "outputs": [],
   "source": [
    "# Convert date time stamps from object to datetime\n",
    "df_crime['DATE OCC'] = pd.to_datetime(df_crime['DATE OCC'], format='%m/%d/%Y %I:%M:%S %p')\n",
    "\n",
    "# will drop Date Rptd, and just use DATE OCC for the rest of the project\n",
    "df_cr = df_crime.drop('Date Rptd', axis=1)\n",
    "\n",
    "# Check the new dataframe shape and top rows\n",
    "print(df_cr.shape)\n",
    "print(df_cr.head())\n"
   ]
  },
  {
   "cell_type": "code",
   "execution_count": null,
   "execution_state": "idle",
   "id": "7654a036-15e9-492e-8140-9c7ac20ea9f1",
   "metadata": {},
   "outputs": [],
   "source": [
    "#only include dates from 2023 and 2024, and drop everything else in order to match timeline of the foreclosure data we have\n",
    "df_cr = df_cr[(df_cr['DATE OCC'] >= pd.Timestamp('1/01/2023')) &\n",
    "                (df_cr['DATE OCC'] < pd.Timestamp('2025-01-01'))]\n",
    "\n",
    "df_cr.shape"
   ]
  },
  {
   "cell_type": "code",
   "execution_count": null,
   "execution_state": "idle",
   "id": "db9e8882-8ee7-4965-83d1-183b56895468",
   "metadata": {},
   "outputs": [],
   "source": [
    "df_cr.head()"
   ]
  },
  {
   "cell_type": "markdown",
   "id": "e0b20c72-7487-4e48-b714-f4e5abcbccc8",
   "metadata": {},
   "source": [
    "### Data Quality Reports"
   ]
  },
  {
   "cell_type": "code",
   "execution_count": null,
   "execution_state": "idle",
   "id": "6583f4b1-62f6-4fd2-99f1-c6b55cde042b",
   "metadata": {},
   "outputs": [],
   "source": [
    "#dqr continous\n",
    "pd.options.display.float_format = '{:.2f}'.format\n",
    "cont_df_cr = dqr_cont(df_cr)\n",
    "cont_df_cr"
   ]
  },
  {
   "cell_type": "code",
   "execution_count": null,
   "execution_state": "idle",
   "id": "cc8e184f-3ba0-4643-a96f-079fc131c249",
   "metadata": {},
   "outputs": [],
   "source": [
    "#dqr categorical\n",
    "cat_df_cr = dqr_cat(df_cr)\n",
    "cat_df_cr"
   ]
  },
  {
   "cell_type": "markdown",
   "id": "0aeaacd8-f863-44e6-82ec-fb895ec3d2ac",
   "metadata": {},
   "source": [
    "## Foreclosure Data"
   ]
  },
  {
   "cell_type": "code",
   "execution_count": null,
   "execution_state": "idle",
   "id": "8475d776-9dea-4c52-b7aa-f61a8c0d0123",
   "metadata": {},
   "outputs": [],
   "source": [
    "# Read the CSV file directly from S3 2023 data\n",
    "\n",
    "### SASHA DF ###\n",
    "# df_fc2023 = wr.s3.read_csv(\"s3://sagemaker-us-east-1-643862913351/ads508-group7/2023_Registered_Foreclosure_Properties.csv\")\n",
    "\n",
    "### CYNTHIA DF ###\n",
    "df_fc2023 = wr.s3.read_csv(\"s3://ads508-group7/2023_Registered_Foreclosure_Properties.csv\")\n",
    "\n",
    "# Display the first few rows\n",
    "df_fc2023.head()"
   ]
  },
  {
   "cell_type": "code",
   "execution_count": null,
   "execution_state": "idle",
   "id": "95b6d92b-4827-466a-8ff2-a6a396bc6e63",
   "metadata": {},
   "outputs": [],
   "source": [
    "df_fc2023.shape"
   ]
  },
  {
   "cell_type": "code",
   "execution_count": null,
   "execution_state": "idle",
   "id": "0b218af8-84af-49b1-b4a7-ec827d5521a4",
   "metadata": {},
   "outputs": [],
   "source": [
    "#are there duplicates?\n",
    "df_fc2023.duplicated().sum()"
   ]
  },
  {
   "cell_type": "code",
   "execution_count": null,
   "execution_state": "idle",
   "id": "7e4988c5-1f8a-4e98-83ed-3aa7ea2ded7f",
   "metadata": {},
   "outputs": [],
   "source": [
    "df_fc2023.dtypes"
   ]
  },
  {
   "cell_type": "code",
   "execution_count": null,
   "execution_state": "idle",
   "id": "bffc4b1c-16fa-442b-8b6a-1e4d33f293d9",
   "metadata": {},
   "outputs": [],
   "source": [
    "#dqr contin, 2023\n",
    "pd.options.display.float_format = '{:.2f}'.format\n",
    "cont_df_23 = dqr_cont(df_fc2023)\n",
    "cont_df_23"
   ]
  },
  {
   "cell_type": "code",
   "execution_count": null,
   "execution_state": "idle",
   "id": "8fc2e436-a776-4142-a326-d83388918484",
   "metadata": {},
   "outputs": [],
   "source": [
    "#dqr categorical 2023\n",
    "cat_df_23 = dqr_cat(df_fc2023)\n",
    "cat_df_23"
   ]
  },
  {
   "cell_type": "code",
   "execution_count": null,
   "execution_state": "idle",
   "id": "e8537e32-bd7f-4fe5-9557-b009113c5319",
   "metadata": {},
   "outputs": [],
   "source": [
    "# Read the CSV file directly from S3, 2024 data\n",
    "### SASHA DF ###\n",
    "#df_fc2024 = wr.s3.read_csv(\"s3://sagemaker-us-east-1-643862913351/ads508-group7/2024_Registered_Foreclosure_Properties.csv\")\n",
    "\n",
    "### CYNTHIA DF ###\n",
    "df_fc2024 = wr.s3.read_csv(\"s3://ads508-group7/2024_Registered_Foreclosure_Properties.csv\")\n",
    "\n",
    "# Display the first few rows\n",
    "df_fc2024.head()"
   ]
  },
  {
   "cell_type": "code",
   "execution_count": null,
   "execution_state": "idle",
   "id": "a6a3d849-e111-4c28-81ad-6dd76987afe7",
   "metadata": {},
   "outputs": [],
   "source": [
    "df_fc2024.shape"
   ]
  },
  {
   "cell_type": "code",
   "execution_count": null,
   "execution_state": "idle",
   "id": "2c997c1e-826a-4b15-ab3f-7d88d062b0b7",
   "metadata": {},
   "outputs": [],
   "source": [
    "#are there duplicates?\n",
    "df_fc2024.duplicated().sum()"
   ]
  },
  {
   "cell_type": "code",
   "execution_count": null,
   "execution_state": "idle",
   "id": "347379bd-6430-428d-9993-70a6e41cb7ab",
   "metadata": {},
   "outputs": [],
   "source": [
    "df_fc2024.dtypes"
   ]
  },
  {
   "cell_type": "code",
   "execution_count": null,
   "execution_state": "idle",
   "id": "ca03749b-9a27-4fc9-b5e4-49b76c98fed1",
   "metadata": {},
   "outputs": [],
   "source": [
    "#dqr contin, 2024\n",
    "pd.options.display.float_format = '{:.2f}'.format\n",
    "cont_df_24 = dqr_cont(df_fc2024)\n",
    "cont_df_24"
   ]
  },
  {
   "cell_type": "code",
   "execution_count": null,
   "execution_state": "idle",
   "id": "3e0c9fc3-cccd-4364-8802-4e06bc9b3131",
   "metadata": {},
   "outputs": [],
   "source": [
    "#dqr categorical 2024\n",
    "cat_df_24 = dqr_cat(df_fc2024)\n",
    "cat_df_24"
   ]
  },
  {
   "cell_type": "markdown",
   "id": "94998241-24e7-4576-af62-ae9d9b3963af",
   "metadata": {
    "jp-MarkdownHeadingCollapsed": true
   },
   "source": [
    "# Feature Engineering"
   ]
  },
  {
   "cell_type": "markdown",
   "id": "dc61c657-65be-4fba-bec3-e03c948f74a7",
   "metadata": {},
   "source": [
    "## Transformations on Crime DF"
   ]
  },
  {
   "cell_type": "code",
   "execution_count": null,
   "execution_state": "idle",
   "id": "faccc052-b654-4961-9ee1-747321eeed08",
   "metadata": {},
   "outputs": [],
   "source": [
    "# drop any other variables we've deemed irrelevant for our project\n",
    "df_cr_mod = df_cr.drop(\n",
    "    ['TIME OCC', 'AREA NAME', 'Rpt Dist No', 'Part 1-2', 'Crm Cd', 'Crm Cd Desc', 'Mocodes', 'Vict Age', 'Vict Sex', 'Vict Descent', 'Premis Cd', 'Premis Desc', \n",
    "                 'Status', 'Status Desc', 'Crm Cd 1', 'Crm Cd 2', 'Crm Cd 3', 'Crm Cd 4', 'LOCATION', 'Cross Street', 'Weapon Used Cd',\t'Weapon Desc', 'LAT', 'LON'], axis=1)"
   ]
  },
  {
   "cell_type": "code",
   "execution_count": null,
   "execution_state": "idle",
   "id": "fa163836-ef9b-4fb9-a37a-9d298f437dc5",
   "metadata": {},
   "outputs": [],
   "source": [
    "df_cr_mod.head()"
   ]
  },
  {
   "cell_type": "code",
   "execution_count": null,
   "execution_state": "idle",
   "id": "dfd3267b-4983-45be-9f75-0e3c81ee4373",
   "metadata": {},
   "outputs": [],
   "source": [
    "# we then want to aggregate the df into a rolled up count of incidents by date and LAPD station ID\n",
    "df_crime_agg = df_cr_mod.groupby(['DATE OCC', 'AREA']).size().reset_index(name='Total Crimes')\n",
    "\n",
    "# Rename columns to match format\n",
    "df_crime_agg.rename(columns={'DATE OCC': 'Date Occurred', 'AREA': 'Area ID'}, inplace=True)\n",
    "print(df_crime_agg.head())"
   ]
  },
  {
   "cell_type": "markdown",
   "id": "177a7f7e-c93e-44ce-a664-c544579af435",
   "metadata": {},
   "source": [
    "## Transformations on Arrest DF"
   ]
  },
  {
   "cell_type": "code",
   "execution_count": null,
   "execution_state": "idle",
   "id": "158f1feb-a0f4-4dcc-87a3-5f65e8bbfd56",
   "metadata": {},
   "outputs": [],
   "source": [
    "# drop any other variables we've deemed irrelevant for our project\n",
    "df_a_mod = df_a.drop(\n",
    "    ['Report Type', 'Time', 'Area Name', 'Reporting District', 'Age', 'Sex Code', 'Descent Code', 'Charge Group Code', 'Charge Group Description', \n",
    "     'Arrest Type Code', 'Charge', 'Charge Description', 'Disposition Description', 'Address', 'Cross Street', 'Location', 'Booking Date', 'Booking Time',\n",
    "     'Booking Location', 'Booking Location Code', 'LAT', 'LON'], axis=1)"
   ]
  },
  {
   "cell_type": "code",
   "execution_count": null,
   "execution_state": "idle",
   "id": "b1210e94-4c62-42b7-9995-0a422d74d37d",
   "metadata": {},
   "outputs": [],
   "source": [
    "df_a_mod.head()"
   ]
  },
  {
   "cell_type": "code",
   "execution_count": null,
   "execution_state": "idle",
   "id": "c6e3f46a-c7cc-4f84-9d2e-dff3291f346b",
   "metadata": {},
   "outputs": [],
   "source": [
    "# we then want to aggregate the df into a rolled up count of incidents by date and LAPD station ID\n",
    "df_arrest_agg = df_a_mod.groupby(['Arrest Date', 'Area ID']).size().reset_index(name='Total Arrests')\n",
    "\n",
    "# Rename columns to match the desired format\n",
    "df_arrest_agg.rename(columns={'Arrest Date': 'Arrest Date', 'Area ID': 'Area ID'}, inplace=True)\n",
    "\n",
    "# Display the first few rows\n",
    "print(df_arrest_agg.head())"
   ]
  },
  {
   "cell_type": "markdown",
   "id": "9d95d519-5ff3-4fdf-8f32-1f9ce2e26793",
   "metadata": {},
   "source": [
    "## Transformations on Foreclosure DFs"
   ]
  },
  {
   "cell_type": "code",
   "execution_count": null,
   "execution_state": "idle",
   "id": "c686bacc-7a45-4a99-b6bd-a88faf1e0777",
   "metadata": {},
   "outputs": [],
   "source": [
    "# Foreclosure 2023\n",
    "# drop any variables we've deemed irrelevant for our project\n",
    "df_fc2023_mod = df_fc2023.drop(\n",
    "    ['Property Address', 'Property City', 'Property State', 'Council District', 'Lender', 'Lender Contact', 'Lender Contact Phone', 'Property Management', \n",
    "     'Property Management Contact',\t'Property Management Address', 'Property Management Contact Phone', 'Property on map', 'lon', 'lat', 'Property Type'], axis=1)"
   ]
  },
  {
   "cell_type": "code",
   "execution_count": null,
   "execution_state": "idle",
   "id": "bdddb4a8-a183-4b86-9fd0-108aeeda6742",
   "metadata": {},
   "outputs": [],
   "source": [
    "df_fc2023_mod.head()"
   ]
  },
  {
   "cell_type": "code",
   "execution_count": null,
   "execution_state": "idle",
   "id": "2af45f81-1d6a-41e8-b78c-5e21d6324f34",
   "metadata": {},
   "outputs": [],
   "source": [
    "# Foreclosure 2024\n",
    "# drop any variables we've deemed irrelevant for our project\n",
    "df_fc2024_mod = df_fc2024.drop(\n",
    "    ['PropertyAddress',\t'PropertyCity',\t'PropertyState', 'CouncilDistrict',\t'Lender', 'LenderContact', 'LenderContactPhone', 'PropertyManagement', \n",
    "     'PropertyManagementContact', 'PropertyManagementAddress', 'PropertyMgmtContactPhone', 'Property map', 'lon', 'lat', 'Property Type'], axis=1)"
   ]
  },
  {
   "cell_type": "code",
   "execution_count": null,
   "execution_state": "idle",
   "id": "fcc58879-d745-414c-bec1-ee2b52283fc9",
   "metadata": {},
   "outputs": [],
   "source": [
    "df_fc2024_mod.head()"
   ]
  },
  {
   "cell_type": "code",
   "execution_count": null,
   "execution_state": "idle",
   "id": "fb7f19c8-b7dc-4971-8e0b-48ab3b397e32",
   "metadata": {},
   "outputs": [],
   "source": [
    "df_fc2023_mod.dtypes"
   ]
  },
  {
   "cell_type": "code",
   "execution_count": null,
   "execution_state": "idle",
   "id": "731f9e58-7c74-4fdc-9aaa-b2147eca4b30",
   "metadata": {},
   "outputs": [],
   "source": [
    "df_fc2024_mod.dtypes"
   ]
  },
  {
   "cell_type": "code",
   "execution_count": null,
   "execution_state": "idle",
   "id": "52926509-9058-4d04-8b1d-2a984113a784",
   "metadata": {},
   "outputs": [],
   "source": [
    "# Convert Property Zip from int64 to string to avoid losing any leading 0\n",
    "df_fc2023_mod['Property Zip'] = df_fc2023_mod['Property Zip'].astype(str)\n",
    "df_fc2024_mod['PropertyZip'] = df_fc2024_mod['PropertyZip'].astype(str)"
   ]
  },
  {
   "cell_type": "code",
   "execution_count": null,
   "execution_state": "idle",
   "id": "a749f011-1f5b-4570-bc7d-9babaddad473",
   "metadata": {},
   "outputs": [],
   "source": [
    "# Rename the column to 'Property Zip' for uniformity\n",
    "df_fc2024_mod = df_fc2024_mod.rename(columns={'PropertyZip': 'Property Zip'})"
   ]
  },
  {
   "cell_type": "code",
   "execution_count": null,
   "execution_state": "idle",
   "id": "c453136c-ccc0-4981-990a-5c24aa833fe8",
   "metadata": {},
   "outputs": [],
   "source": [
    "# revise 2024 and 2023 Registered Date format to match\n",
    "\n",
    "# Convert the \"Registered Date\" in df_fc2024_mod to datetime\n",
    "df_fc2024_mod['Registered Date'] = pd.to_datetime(df_fc2024_mod['Registered Date'], errors='coerce')\n",
    "\n",
    "# Convert the \"Registered Date\" in df_fc2023_mod to datetime\n",
    "df_fc2023_mod['Registered Date'] = pd.to_datetime(df_fc2023_mod['Registered Date'], format='%m/%d/%Y', errors='coerce')"
   ]
  },
  {
   "cell_type": "code",
   "execution_count": null,
   "execution_state": "idle",
   "id": "85641424-55e0-42a6-99e5-fbd145027814",
   "metadata": {},
   "outputs": [],
   "source": [
    "# Verify that both DataFrames now have the correct datetime format\n",
    "print(df_fc2024_mod['Registered Date'].head())\n",
    "print(df_fc2023_mod['Registered Date'].head())"
   ]
  },
  {
   "cell_type": "code",
   "execution_count": null,
   "execution_state": "idle",
   "id": "9dab644d-c0fc-4f0e-bdcc-4e6edcfb122a",
   "metadata": {},
   "outputs": [],
   "source": [
    "print(df_fc2023_mod.shape)"
   ]
  },
  {
   "cell_type": "code",
   "execution_count": null,
   "execution_state": "idle",
   "id": "7e9b74a5-4ddc-4f2d-98b7-73bdcf30ba86",
   "metadata": {},
   "outputs": [],
   "source": [
    "print(df_fc2024_mod.shape)"
   ]
  },
  {
   "cell_type": "code",
   "execution_count": null,
   "execution_state": "idle",
   "id": "4f67b83f-e966-421e-9862-4110adb61a91",
   "metadata": {},
   "outputs": [],
   "source": [
    "# combine the two Foreclosure DataFrames\n",
    "df_fc_combined = pd.concat([df_fc2023_mod, df_fc2024_mod], ignore_index=True)"
   ]
  },
  {
   "cell_type": "code",
   "execution_count": null,
   "execution_state": "idle",
   "id": "f27cf064-2ded-4b19-927f-4c47385c4702",
   "metadata": {},
   "outputs": [],
   "source": [
    "# Verify the combined DataFrame\n",
    "print(df_fc_combined.shape)\n",
    "print(df_fc_combined.head(10))"
   ]
  },
  {
   "cell_type": "code",
   "execution_count": null,
   "execution_state": "idle",
   "id": "50aed770-0a37-480f-8c12-1cbbfd41955c",
   "metadata": {},
   "outputs": [],
   "source": [
    "# we are seeing duplicates in the APN (Assessor's Parcel Number, so we want to investigate further\n",
    "unique_apn_count = df_fc_combined['APN'].nunique()\n",
    "print(\"Number of unique APN values:\", unique_apn_count)\n",
    "\n",
    "# Sort the dataframe by APN and Foreclosure Date\n",
    "df_fc_combined_sorted = df_fc_combined.sort_values(by=['APN', 'Registered Date'])\n",
    "\n",
    "# Find duplicates based on APN\n",
    "duplicates_sorted = df_fc_combined_sorted[df_fc_combined_sorted.duplicated(subset=['APN'], keep=False)]\n",
    "\n",
    "# Display the sorted duplicates\n",
    "duplicates_sorted.head(20)"
   ]
  },
  {
   "cell_type": "code",
   "execution_count": null,
   "execution_state": "idle",
   "id": "496755ec-21c2-4282-beda-22a038ca1c4f",
   "metadata": {},
   "outputs": [],
   "source": [
    "# it seems unlikely the same house would be foreclosed on more than one in a two year span and perhaps is how LA tracks the foreclosure process\n",
    "# we will drop duplicate APNs and only keep the oldest Registered Date\n",
    "\n",
    "# Sort the dataframe by APN and Registered Date (oldest date first)\n",
    "df_fc_combined_sorted = df_fc_combined.sort_values(by=['APN', 'Registered Date'])\n",
    "\n",
    "# Remove duplicates based on APN, keeping the first (oldest) row\n",
    "df_fc_combined_no_duplicates = df_fc_combined_sorted.drop_duplicates(subset=['APN'], keep='first')\n",
    "\n",
    "# Display the result\n",
    "unique_apn_count = df_fc_combined_no_duplicates['APN'].nunique()\n",
    "print(\"Number of unique APN values:\", unique_apn_count)\n",
    "print(df_fc_combined_no_duplicates.shape)\n",
    "df_fc_combined_no_duplicates.head(10)"
   ]
  },
  {
   "cell_type": "code",
   "execution_count": null,
   "execution_state": "idle",
   "id": "438fba38-5c60-4ffd-866d-f91a7679706d",
   "metadata": {},
   "outputs": [],
   "source": [
    "# next we have LAPD data on zip codes and what Area ID they correspond to, so we will combine that information\n",
    "\n",
    "bucket_name = 'ads508-group7'\n",
    "file_key = 'LAPD/LAPD Area ID.csv' \n",
    "\n",
    "# Download the file from S3 to a pandas DataFrame\n",
    "obj = s3.get_object(Bucket=bucket_name, Key=file_key)\n",
    "df_lapd = pd.read_csv(obj['Body'])\n",
    "\n",
    "# Display the first few rows \n",
    "print(df_lapd.head())"
   ]
  },
  {
   "cell_type": "code",
   "execution_count": null,
   "execution_state": "idle",
   "id": "56c198b0-5252-4a85-9727-cd454129aedb",
   "metadata": {},
   "outputs": [],
   "source": [
    "# Ensure they are in string format using .loc to avoid SettingWithCopyWarning\n",
    "df_fc_combined_no_duplicates.loc[:, 'Property Zip'] = df_fc_combined_no_duplicates['Property Zip'].astype(str)\n",
    "df_lapd.loc[:, 'Zip'] = df_lapd['Zip'].astype(str)\n",
    "\n",
    "# Merge the dataframes\n",
    "df_fc_lapd = pd.merge(df_fc_combined_no_duplicates, df_lapd[['Area ID', 'Zip']], left_on='Property Zip', right_on='Zip', how='left')\n",
    "\n",
    "# Rename columns to match the desired output format\n",
    "df_fc_lapd = df_fc_lapd.rename(columns={'Registered Date': 'Foreclosure Date', 'Property Zip': 'Zip Code'})\n",
    "\n",
    "# Display the first few rows\n",
    "print(df_fc_lapd.head(20))"
   ]
  },
  {
   "cell_type": "code",
   "execution_count": null,
   "execution_state": "idle",
   "id": "e9ed5bc1-7d2a-47df-a906-202b5ec279d5",
   "metadata": {},
   "outputs": [],
   "source": [
    "# Count the number of NaN values in the 'Area ID' column\n",
    "nan_count_areaID = df_fc_lapd['Area ID'].isna().sum()\n",
    "\n",
    "print(f\"Number of NaN values in 'Area ID': {nan_count_areaID}\")"
   ]
  },
  {
   "cell_type": "code",
   "execution_count": null,
   "execution_state": "idle",
   "id": "188cd082-ba38-4795-83a9-361a3a51a101",
   "metadata": {},
   "outputs": [],
   "source": [
    "########### STOPPED HERE TO FIX ABOVE ISSUE --- WILL CONTINUE WORK ON 3/25 -CP ##############\n",
    "\n",
    "# Drop the \"Zip\" column\n",
    "df_fc_lapd = df_fc_lapd.drop(columns=['Zip'])\n",
    "\n",
    "# Fill NaN values with a placeholder, 0\n",
    "df_fc_lapd['Area ID'] = df_fc_lapd['Area ID'].fillna(0).astype(int)\n",
    "\n",
    "# Convert Area ID column to integers\n",
    "df_fc_lapd['Area ID'] = df_fc_lapd['Area ID'].astype(int)\n",
    "print(df_fc_lapd.head(30))"
   ]
  },
  {
   "cell_type": "markdown",
   "id": "cc2ebb39-ae21-4930-a4f8-26c88cdb76d3",
   "metadata": {},
   "source": [
    "## Upload transformed dataframes into S3"
   ]
  },
  {
   "cell_type": "code",
   "execution_count": null,
   "execution_state": "idle",
   "id": "d26f0f1d-9280-4647-b649-e41b4ccc46e5",
   "metadata": {},
   "outputs": [],
   "source": [
    "# Upload Arrest df\n",
    "# Define S3 bucket and folder\n",
    "bucket = \"ads508-group7\"\n",
    "folder = \"Arrest\"\n",
    "file_name = \"df_arrest_aggregate.csv\"\n",
    "\n",
    "# Convert DataFrame to CSV in-memory\n",
    "csv_buffer = StringIO()\n",
    "df_arrest_agg.to_csv(csv_buffer, index=False)\n",
    "\n",
    "# Upload to S3 using existing boto3 session\n",
    "s3_client = boto3.client(\"s3\")\n",
    "s3_client.put_object(\n",
    "    Bucket=bucket,\n",
    "    Key=f\"{folder}/{file_name}\",\n",
    "    Body=csv_buffer.getvalue()\n",
    ")\n",
    "\n",
    "print(f\"Uploaded to: s3://{bucket}/{folder}/{file_name}\")"
   ]
  },
  {
   "cell_type": "code",
   "execution_count": null,
   "execution_state": "idle",
   "id": "3b6dc7fe-f759-4c84-8448-8b80118594dc",
   "metadata": {},
   "outputs": [],
   "source": [
    "# Upload Crime df\n",
    "# Define S3 bucket and folder\n",
    "bucket = \"ads508-group7\"\n",
    "folder = \"Crime\"\n",
    "file_name = \"df_crime_aggregate.csv\"\n",
    "\n",
    "# Convert DataFrame to CSV in-memory\n",
    "csv_buffer = StringIO()\n",
    "df_crime_agg.to_csv(csv_buffer, index=False)\n",
    "\n",
    "# Upload to S3 using existing boto3 session\n",
    "s3_client = boto3.client(\"s3\")\n",
    "s3_client.put_object(\n",
    "    Bucket=bucket,\n",
    "    Key=f\"{folder}/{file_name}\",\n",
    "    Body=csv_buffer.getvalue()\n",
    ")\n",
    "\n",
    "print(f\"Uploaded to: s3://{bucket}/{folder}/{file_name}\")"
   ]
  },
  {
   "cell_type": "code",
   "execution_count": null,
   "execution_state": "idle",
   "id": "617d6b34-9e92-4da4-a228-30ef21e05cff",
   "metadata": {},
   "outputs": [],
   "source": [
    "# Upload foreclosure df\n",
    "# Define S3 bucket and folder\n",
    "bucket = \"ads508-group7\"\n",
    "folder = \"Foreclosures\"\n",
    "file_name = \"df_fc_combined_transformed.csv\"\n",
    "\n",
    "# Convert DataFrame to CSV in-memory\n",
    "csv_buffer = StringIO()\n",
    "df_fc_combined.to_csv(csv_buffer, index=False)\n",
    "\n",
    "# Upload to S3 using existing boto3 session\n",
    "s3_client = boto3.client(\"s3\")\n",
    "s3_client.put_object(\n",
    "    Bucket=bucket,\n",
    "    Key=f\"{folder}/{file_name}\",\n",
    "    Body=csv_buffer.getvalue()\n",
    ")\n",
    "\n",
    "print(f\"✅ Uploaded to: s3://{bucket}/{folder}/{file_name}\")"
   ]
  },
  {
   "cell_type": "markdown",
   "id": "5cf3a284-ec28-43f5-94ab-6bb96119b310",
   "metadata": {
    "jp-MarkdownHeadingCollapsed": true
   },
   "source": [
    "# Visualizations"
   ]
  },
  {
   "cell_type": "code",
   "execution_count": null,
   "execution_state": "idle",
   "id": "d659d7d8-2e1a-4409-9755-48776ea04f25",
   "metadata": {},
   "outputs": [],
   "source": [
    "# view overlay of Arrests and Crimes by quarter and year\n",
    "\n",
    "# Create 'Year_Quarter' for df_a_mod (Arrest Date)\n",
    "if 'Year_Quarter' not in df_a_mod.columns:\n",
    "    df_a_mod['Year_Quarter'] = pd.to_datetime(df_a_mod['Arrest Date']).dt.to_period('Q').astype(str)\n",
    "\n",
    "# Create 'Year_Quarter' for df_cr_mod (DATE OCC)\n",
    "if 'Year_Quarter' not in df_cr_mod.columns:\n",
    "    df_cr_mod['Year_Quarter'] = pd.to_datetime(df_cr_mod['DATE OCC']).dt.to_period('Q').astype(str)\n",
    "\n",
    "# Count the occurrences of each quarter for both datasets\n",
    "arrest_counts = df_a_mod['Year_Quarter'].value_counts().sort_index()\n",
    "crime_counts = df_cr_mod['Year_Quarter'].value_counts().sort_index()\n",
    "\n",
    "# Create a DataFrame for plotting\n",
    "data = pd.DataFrame({\n",
    "    'Quarter': arrest_counts.index,\n",
    "    'Arrests': arrest_counts.values,\n",
    "    'Crimes': crime_counts.reindex(arrest_counts.index, fill_value=0).values  # align indices, fill missing with 0\n",
    "})\n",
    "\n",
    "# Plot the data with overlapping bars\n",
    "plt.figure(figsize=(12, 6))\n",
    "\n",
    "# Plot Crimes bars\n",
    "plt.bar(data['Quarter'], data['Crimes'], color='orange', label='Crimes', edgecolor='black')\n",
    "\n",
    "# Plot Arrests bars on top of Crimes bars\n",
    "plt.bar(data['Quarter'], data['Arrests'], color='purple', label='Arrests', edgecolor='black')\n",
    "\n",
    "# Add titles and labels\n",
    "plt.title(\"Overlay of Arrests and Crimes by Quarter and Year\", fontsize=16)\n",
    "plt.xlabel('Quarter and Year', fontsize=14)\n",
    "plt.ylabel('Count', fontsize=14)\n",
    "plt.xticks(rotation=45, ha='right')  # Rotate x labels for better readability\n",
    "plt.legend(title='Legend', fontsize=12)\n",
    "\n",
    "# Show the plot\n",
    "plt.show()"
   ]
  },
  {
   "cell_type": "code",
   "execution_count": null,
   "execution_state": "idle",
   "id": "20ac67d9-6606-43c6-88e0-cc293a2cce7d",
   "metadata": {},
   "outputs": [],
   "source": [
    "# view correlation matrix between crime, arrest and foreclosure counts\n",
    "\n",
    "# Ensure 'Year_Quarter' in df_a_mod is a string\n",
    "df_a_mod['Year_Quarter'] = df_a_mod['Arrest Date'].dt.to_period('Q').astype(str)\n",
    "\n",
    "# Group by 'Year_Quarter'\n",
    "# For Arrest count \n",
    "arrest_counts = df_a_mod.groupby('Year_Quarter').size().reset_index(name='Arrest_Count')\n",
    "\n",
    "# For Crime Count\n",
    "crime_counts = df_cr_mod.groupby('Year_Quarter').size().reset_index(name='Crime_Count')\n",
    "\n",
    "# For Foreclosure Count\n",
    "foreclosure_counts = df_fc_combined.groupby('Year_Quarter').size().reset_index(name='Foreclosure_Count')\n",
    "\n",
    "# Now, merge the three datasets: crime, arrest, and foreclosure counts\n",
    "df_corr_combined = pd.merge(crime_counts, arrest_counts, on='Year_Quarter', how='inner')\n",
    "df_corr_combined = pd.merge(df_corr_combined, foreclosure_counts, on='Year_Quarter', how='inner')\n",
    "\n",
    "# Debugging: Check the columns of df_corr_combined to verify there are no duplicate columns\n",
    "print(\"Columns after merge:\")\n",
    "print(df_corr_combined.columns)\n",
    "\n",
    "# Calculate the correlation matrix for crime, arrest, and foreclosure counts\n",
    "corr_matrix = df_corr_combined[['Crime_Count', 'Arrest_Count', 'Foreclosure_Count']].corr()\n",
    "\n",
    "# Mask the upper triangle of the correlation matrix\n",
    "mask = np.triu(np.ones_like(corr_matrix, dtype=bool))\n",
    "\n",
    "# Visualize the correlation matrix using seaborn heatmap\n",
    "plt.figure(figsize=(8, 6))\n",
    "sns.heatmap(corr_matrix, annot=True, cmap='coolwarm', fmt='.2f', linewidths=0.5, mask=mask)\n",
    "plt.title(\"Correlation Matrix between Crime, Arrests, and Foreclosures\")\n",
    "plt.show()"
   ]
  },
  {
   "cell_type": "markdown",
   "id": "e8a81a7d-b266-4160-b976-b027905560c4",
   "metadata": {},
   "source": [
    "# Setup Athena Database"
   ]
  },
  {
   "cell_type": "markdown",
   "id": "af84b1bc-23c8-429d-a336-a21d4aceb52e",
   "metadata": {},
   "source": [
    "## Create Database"
   ]
  },
  {
   "cell_type": "code",
   "execution_count": 32,
   "execution_state": "idle",
   "id": "a427d78e-b5d4-4a22-8cd0-7077ada6fe70",
   "metadata": {},
   "outputs": [
    {
     "name": "stdout",
     "output_type": "stream",
     "text": [
      "Database 'crime_foreclosure_db' created or already exists.\n"
     ]
    }
   ],
   "source": [
    "# Importing the necessary libraries to create Athena database\n",
    "import boto3\n",
    "import sagemaker\n",
    "from pyathena import connect\n",
    "import pandas as pd\n",
    "\n",
    "# Configuration of the athena |\n",
    "region = boto3.Session().region_name\n",
    "group_bucket = \"ads508-group7\"\n",
    "database_name = \"crime_foreclosure_db\"\n",
    "s3_staging_dir = f\"s3://{group_bucket}/query-results/\"\n",
    "output_location = f\"s3://{group_bucket}/final-joined/team7/\"\n",
    "\n",
    "# Connecting to athena\n",
    "conn = connect(region_name=region, s3_staging_dir=s3_staging_dir)\n",
    "cursor = conn.cursor()\n",
    "\n",
    "# creation of the database\n",
    "cursor.execute(f\"CREATE DATABASE IF NOT EXISTS {database_name}\")\n",
    "print(f\"Database '{database_name}' created or already exists.\")"
   ]
  },
  {
   "cell_type": "markdown",
   "id": "288b8e08-6324-47b5-bd4d-aec610538964",
   "metadata": {},
   "source": [
    "## Create tables in Athena"
   ]
  },
  {
   "cell_type": "markdown",
   "id": "99b9e11a-2bf2-4783-b6a4-155d16d294cb",
   "metadata": {},
   "source": [
    "### The Arrests table\n",
    "\n"
   ]
  },
  {
   "cell_type": "code",
   "execution_count": 33,
   "execution_state": "idle",
   "id": "8f7c0000-d1d8-4499-ac65-ad8f54325af8",
   "metadata": {},
   "outputs": [
    {
     "name": "stdout",
     "output_type": "stream",
     "text": [
      "created 'arrests_agg' .\n"
     ]
    }
   ],
   "source": [
    "cursor.execute(\"DROP TABLE IF EXISTS crime_foreclosure_db.arrests_agg\")\n",
    "\n",
    "cursor.execute(\"\"\"\n",
    "CREATE EXTERNAL TABLE crime_foreclosure_db.arrests_agg (\n",
    "    date string,\n",
    "    area int,\n",
    "    total_arrests int\n",
    ")\n",
    "ROW FORMAT SERDE 'org.apache.hadoop.hive.serde2.OpenCSVSerde'\n",
    "WITH SERDEPROPERTIES (\n",
    "    'separatorChar' = ',',\n",
    "    'quoteChar'     = '\"',\n",
    "    'serialization.null.format' = ''\n",
    ")\n",
    "LOCATION 's3://ads508-group7/Arrest/'\n",
    "TBLPROPERTIES ('skip.header.line.count'='1')\n",
    "\"\"\")\n",
    "print(\"created 'arrests_agg' .\")\n"
   ]
  },
  {
   "cell_type": "markdown",
   "id": "f2aaa3e8-6360-4bfe-993a-c8812d37723a",
   "metadata": {},
   "source": [
    "### The Foreclosure table"
   ]
  },
  {
   "cell_type": "code",
   "execution_count": 41,
   "execution_state": "idle",
   "id": "433b277e-6ea5-462f-adaa-a1b6e5177a53",
   "metadata": {},
   "outputs": [
    {
     "ename": "SyntaxError",
     "evalue": "invalid syntax (848283867.py, line 1)",
     "output_type": "error",
     "traceback": [
      "\u001b[0;36m  Cell \u001b[0;32mIn[41], line 1\u001b[0;36m\u001b[0m\n\u001b[0;31m    DROP TABLE IF EXISTS crime_foreclosure_db.foreclosures_agg;\u001b[0m\n\u001b[0m         ^\u001b[0m\n\u001b[0;31mSyntaxError\u001b[0m\u001b[0;31m:\u001b[0m invalid syntax\n"
     ]
    }
   ],
   "source": [
    "cursor.execute(\"DROP TABLE IF EXISTS crime_foreclosure_db.foreclosures_agg\")\n",
    "\n",
    "cursor.execute(\"\"\"\n",
    "CREATE EXTERNAL TABLE crime_foreclosure_db.foreclosures_agg (\n",
    "    date string,\n",
    "    area int,\n",
    "    total_foreclosures int\n",
    ")\n",
    "ROW FORMAT SERDE 'org.apache.hadoop.hive.serde2.OpenCSVSerde'\n",
    "WITH SERDEPROPERTIES (\n",
    "    'separatorChar' = ',',\n",
    "    'quoteChar'     = '\"',\n",
    "    'serialization.null.format' = ''\n",
    ")\n",
    "LOCATION 's3://ads508-group7/Foreclosures/'\n",
    "TBLPROPERTIES ('skip.header.line.count'='1')\n",
    "\"\"\")\n",
    "print(\"Table 'foreclosures_agg' created\")"
   ]
  },
  {
   "cell_type": "markdown",
   "id": "077222ff-0e54-48e8-831f-c7400816176c",
   "metadata": {},
   "source": [
    "### The Crime table"
   ]
  },
  {
   "cell_type": "code",
   "execution_count": 35,
   "execution_state": "idle",
   "id": "7653a1f8-7477-4f93-9c05-90f3f3ca0b39",
   "metadata": {},
   "outputs": [
    {
     "name": "stdout",
     "output_type": "stream",
     "text": [
      "Table 'crime_agg' created.\n"
     ]
    }
   ],
   "source": [
    "# Crime Table\n",
    "cursor.execute(\"DROP TABLE IF EXISTS crime_foreclosure_db.crime_agg\")\n",
    "\n",
    "cursor.execute(\"\"\"\n",
    "CREATE EXTERNAL TABLE crime_foreclosure_db.crime_agg (\n",
    "    date string,\n",
    "    area int,\n",
    "    total_crimes int\n",
    ")\n",
    "ROW FORMAT SERDE 'org.apache.hadoop.hive.serde2.OpenCSVSerde'\n",
    "WITH SERDEPROPERTIES (\n",
    "    'separatorChar' = ',',\n",
    "    'quoteChar'     = '\"',\n",
    "    'serialization.null.format' = ''\n",
    ")\n",
    "LOCATION 's3://ads508-group7/Crime/'\n",
    "TBLPROPERTIES ('skip.header.line.count'='1')\n",
    "\"\"\")\n",
    "print(\"Table 'crime_agg' created.\")"
   ]
  },
  {
   "cell_type": "markdown",
   "id": "37d878d0-8196-4031-b049-cb88c22c3d45",
   "metadata": {},
   "source": [
    "## Validating the setup"
   ]
  },
  {
   "cell_type": "code",
   "execution_count": 36,
   "execution_state": "idle",
   "id": "7794ee8f-1f6c-44a4-82b6-c35db100424b",
   "metadata": {
    "scrolled": true
   },
   "outputs": [
    {
     "name": "stderr",
     "output_type": "stream",
     "text": [
      "/tmp/ipykernel_8274/2720230717.py:5: UserWarning: pandas only supports SQLAlchemy connectable (engine/connection) or database string URI or sqlite3 DBAPI2 connection. Other DBAPI2 objects are not tested. Please consider using SQLAlchemy.\n",
      "  existing_tables = pd.read_sql(\"SHOW TABLES IN crime_foreclosure_db\", conn)\n"
     ]
    },
    {
     "name": "stdout",
     "output_type": "stream",
     "text": [
      " Tables in 'crime_foreclosure_db':\n"
     ]
    },
    {
     "data": {
      "text/html": [
       "<div>\n",
       "<style scoped>\n",
       "    .dataframe tbody tr th:only-of-type {\n",
       "        vertical-align: middle;\n",
       "    }\n",
       "\n",
       "    .dataframe tbody tr th {\n",
       "        vertical-align: top;\n",
       "    }\n",
       "\n",
       "    .dataframe thead th {\n",
       "        text-align: right;\n",
       "    }\n",
       "</style>\n",
       "<table border=\"1\" class=\"dataframe\">\n",
       "  <thead>\n",
       "    <tr style=\"text-align: right;\">\n",
       "      <th></th>\n",
       "      <th>tab_name</th>\n",
       "    </tr>\n",
       "  </thead>\n",
       "  <tbody>\n",
       "    <tr>\n",
       "      <th>0</th>\n",
       "      <td>arrests_agg</td>\n",
       "    </tr>\n",
       "    <tr>\n",
       "      <th>1</th>\n",
       "      <td>crime_agg</td>\n",
       "    </tr>\n",
       "    <tr>\n",
       "      <th>2</th>\n",
       "      <td>foreclosures_agg</td>\n",
       "    </tr>\n",
       "    <tr>\n",
       "      <th>3</th>\n",
       "      <td>foreclosures_clean</td>\n",
       "    </tr>\n",
       "  </tbody>\n",
       "</table>\n",
       "</div>"
      ],
      "text/plain": [
       "             tab_name\n",
       "0         arrests_agg\n",
       "1           crime_agg\n",
       "2    foreclosures_agg\n",
       "3  foreclosures_clean"
      ]
     },
     "metadata": {},
     "output_type": "display_data"
    },
    {
     "name": "stdout",
     "output_type": "stream",
     "text": [
      "\n",
      " Preview of 'arrests_agg':\n"
     ]
    },
    {
     "name": "stderr",
     "output_type": "stream",
     "text": [
      "/tmp/ipykernel_8274/2720230717.py:13: UserWarning: pandas only supports SQLAlchemy connectable (engine/connection) or database string URI or sqlite3 DBAPI2 connection. Other DBAPI2 objects are not tested. Please consider using SQLAlchemy.\n",
      "  preview_df = pd.read_sql(f\"SELECT * FROM crime_foreclosure_db.{table} LIMIT 5\", conn)\n"
     ]
    },
    {
     "data": {
      "text/html": [
       "<div>\n",
       "<style scoped>\n",
       "    .dataframe tbody tr th:only-of-type {\n",
       "        vertical-align: middle;\n",
       "    }\n",
       "\n",
       "    .dataframe tbody tr th {\n",
       "        vertical-align: top;\n",
       "    }\n",
       "\n",
       "    .dataframe thead th {\n",
       "        text-align: right;\n",
       "    }\n",
       "</style>\n",
       "<table border=\"1\" class=\"dataframe\">\n",
       "  <thead>\n",
       "    <tr style=\"text-align: right;\">\n",
       "      <th></th>\n",
       "      <th>date</th>\n",
       "      <th>area</th>\n",
       "      <th>total_arrests</th>\n",
       "    </tr>\n",
       "  </thead>\n",
       "  <tbody>\n",
       "    <tr>\n",
       "      <th>0</th>\n",
       "      <td>2023-01-01</td>\n",
       "      <td>1</td>\n",
       "      <td>10</td>\n",
       "    </tr>\n",
       "    <tr>\n",
       "      <th>1</th>\n",
       "      <td>2023-01-01</td>\n",
       "      <td>2</td>\n",
       "      <td>4</td>\n",
       "    </tr>\n",
       "    <tr>\n",
       "      <th>2</th>\n",
       "      <td>2023-01-01</td>\n",
       "      <td>3</td>\n",
       "      <td>9</td>\n",
       "    </tr>\n",
       "    <tr>\n",
       "      <th>3</th>\n",
       "      <td>2023-01-01</td>\n",
       "      <td>4</td>\n",
       "      <td>7</td>\n",
       "    </tr>\n",
       "    <tr>\n",
       "      <th>4</th>\n",
       "      <td>2023-01-01</td>\n",
       "      <td>5</td>\n",
       "      <td>5</td>\n",
       "    </tr>\n",
       "  </tbody>\n",
       "</table>\n",
       "</div>"
      ],
      "text/plain": [
       "         date  area  total_arrests\n",
       "0  2023-01-01     1             10\n",
       "1  2023-01-01     2              4\n",
       "2  2023-01-01     3              9\n",
       "3  2023-01-01     4              7\n",
       "4  2023-01-01     5              5"
      ]
     },
     "metadata": {},
     "output_type": "display_data"
    },
    {
     "name": "stdout",
     "output_type": "stream",
     "text": [
      "\n",
      " Preview of 'crime_agg':\n"
     ]
    },
    {
     "name": "stderr",
     "output_type": "stream",
     "text": [
      "/tmp/ipykernel_8274/2720230717.py:13: UserWarning: pandas only supports SQLAlchemy connectable (engine/connection) or database string URI or sqlite3 DBAPI2 connection. Other DBAPI2 objects are not tested. Please consider using SQLAlchemy.\n",
      "  preview_df = pd.read_sql(f\"SELECT * FROM crime_foreclosure_db.{table} LIMIT 5\", conn)\n"
     ]
    },
    {
     "data": {
      "text/html": [
       "<div>\n",
       "<style scoped>\n",
       "    .dataframe tbody tr th:only-of-type {\n",
       "        vertical-align: middle;\n",
       "    }\n",
       "\n",
       "    .dataframe tbody tr th {\n",
       "        vertical-align: top;\n",
       "    }\n",
       "\n",
       "    .dataframe thead th {\n",
       "        text-align: right;\n",
       "    }\n",
       "</style>\n",
       "<table border=\"1\" class=\"dataframe\">\n",
       "  <thead>\n",
       "    <tr style=\"text-align: right;\">\n",
       "      <th></th>\n",
       "      <th>date</th>\n",
       "      <th>area</th>\n",
       "      <th>total_crimes</th>\n",
       "    </tr>\n",
       "  </thead>\n",
       "  <tbody>\n",
       "    <tr>\n",
       "      <th>0</th>\n",
       "      <td>2023-01-01</td>\n",
       "      <td>1</td>\n",
       "      <td>68</td>\n",
       "    </tr>\n",
       "    <tr>\n",
       "      <th>1</th>\n",
       "      <td>2023-01-01</td>\n",
       "      <td>2</td>\n",
       "      <td>49</td>\n",
       "    </tr>\n",
       "    <tr>\n",
       "      <th>2</th>\n",
       "      <td>2023-01-01</td>\n",
       "      <td>3</td>\n",
       "      <td>67</td>\n",
       "    </tr>\n",
       "    <tr>\n",
       "      <th>3</th>\n",
       "      <td>2023-01-01</td>\n",
       "      <td>4</td>\n",
       "      <td>50</td>\n",
       "    </tr>\n",
       "    <tr>\n",
       "      <th>4</th>\n",
       "      <td>2023-01-01</td>\n",
       "      <td>5</td>\n",
       "      <td>48</td>\n",
       "    </tr>\n",
       "  </tbody>\n",
       "</table>\n",
       "</div>"
      ],
      "text/plain": [
       "         date  area  total_crimes\n",
       "0  2023-01-01     1            68\n",
       "1  2023-01-01     2            49\n",
       "2  2023-01-01     3            67\n",
       "3  2023-01-01     4            50\n",
       "4  2023-01-01     5            48"
      ]
     },
     "metadata": {},
     "output_type": "display_data"
    },
    {
     "name": "stdout",
     "output_type": "stream",
     "text": [
      "\n",
      " Preview of 'foreclosures_clean':\n"
     ]
    },
    {
     "name": "stderr",
     "output_type": "stream",
     "text": [
      "/tmp/ipykernel_8274/2720230717.py:13: UserWarning: pandas only supports SQLAlchemy connectable (engine/connection) or database string URI or sqlite3 DBAPI2 connection. Other DBAPI2 objects are not tested. Please consider using SQLAlchemy.\n",
      "  preview_df = pd.read_sql(f\"SELECT * FROM crime_foreclosure_db.{table} LIMIT 5\", conn)\n"
     ]
    },
    {
     "data": {
      "text/html": [
       "<div>\n",
       "<style scoped>\n",
       "    .dataframe tbody tr th:only-of-type {\n",
       "        vertical-align: middle;\n",
       "    }\n",
       "\n",
       "    .dataframe tbody tr th {\n",
       "        vertical-align: top;\n",
       "    }\n",
       "\n",
       "    .dataframe thead th {\n",
       "        text-align: right;\n",
       "    }\n",
       "</style>\n",
       "<table border=\"1\" class=\"dataframe\">\n",
       "  <thead>\n",
       "    <tr style=\"text-align: right;\">\n",
       "      <th></th>\n",
       "      <th>foreclosure_date</th>\n",
       "      <th>area id</th>\n",
       "      <th>foreclosure_count</th>\n",
       "    </tr>\n",
       "  </thead>\n",
       "  <tbody>\n",
       "    <tr>\n",
       "      <th>0</th>\n",
       "      <td>2023-01-01</td>\n",
       "      <td>9</td>\n",
       "      <td>1</td>\n",
       "    </tr>\n",
       "    <tr>\n",
       "      <th>1</th>\n",
       "      <td>2023-01-01</td>\n",
       "      <td>17</td>\n",
       "      <td>1</td>\n",
       "    </tr>\n",
       "    <tr>\n",
       "      <th>2</th>\n",
       "      <td>2023-01-01</td>\n",
       "      <td>18</td>\n",
       "      <td>1</td>\n",
       "    </tr>\n",
       "    <tr>\n",
       "      <th>3</th>\n",
       "      <td>2023-01-02</td>\n",
       "      <td>3</td>\n",
       "      <td>2</td>\n",
       "    </tr>\n",
       "    <tr>\n",
       "      <th>4</th>\n",
       "      <td>2023-01-02</td>\n",
       "      <td>6</td>\n",
       "      <td>2</td>\n",
       "    </tr>\n",
       "  </tbody>\n",
       "</table>\n",
       "</div>"
      ],
      "text/plain": [
       "  foreclosure_date  area id  foreclosure_count\n",
       "0       2023-01-01        9                  1\n",
       "1       2023-01-01       17                  1\n",
       "2       2023-01-01       18                  1\n",
       "3       2023-01-02        3                  2\n",
       "4       2023-01-02        6                  2"
      ]
     },
     "metadata": {},
     "output_type": "display_data"
    }
   ],
   "source": [
    "# List of tables to validate\n",
    "agg_tables = [\"arrests_agg\", \"crime_agg\", \"foreclosures_clean\"]\n",
    "\n",
    "# Step 1: Checking to make sure the tables were created\n",
    "existing_tables = pd.read_sql(\"SHOW TABLES IN crime_foreclosure_db\", conn)\n",
    "print(\" Tables in 'crime_foreclosure_db':\")\n",
    "display(existing_tables)\n",
    "\n",
    "# Step 2: Preview first 5 rows of each table\n",
    "for table in agg_tables:\n",
    "    print(f\"\\n Preview of '{table}':\")\n",
    "    try:\n",
    "        preview_df = pd.read_sql(f\"SELECT * FROM crime_foreclosure_db.{table} LIMIT 5\", conn)\n",
    "        display(preview_df)\n",
    "    except Exception as e:\n",
    "        print(f\" Error loading {table}: {e}\")\n"
   ]
  },
  {
   "cell_type": "markdown",
   "id": "91a35037-669f-4c4b-80cc-e3d7c260a766",
   "metadata": {},
   "source": [
    "## Creating the final table by JOIN"
   ]
  },
  {
   "cell_type": "code",
   "execution_count": 65,
   "execution_state": "idle",
   "id": "15fcb3b0-a6ac-4d2d-aaae-a7a4a87bf0f3",
   "metadata": {},
   "outputs": [
    {
     "name": "stderr",
     "output_type": "stream",
     "text": [
      "/tmp/ipykernel_8274/3661753512.py:17: UserWarning: pandas only supports SQLAlchemy connectable (engine/connection) or database string URI or sqlite3 DBAPI2 connection. Other DBAPI2 objects are not tested. Please consider using SQLAlchemy.\n",
      "  combined_agg = pd.read_sql(query, conn)\n"
     ]
    },
    {
     "name": "stdout",
     "output_type": "stream",
     "text": [
      "         date  area  total_arrests  total_crimes  total_foreclosures\n",
      "0  2023-01-01     9              8            45                   1\n",
      "1  2023-01-01    17              5            61                   1\n",
      "2  2023-01-01    18             12           102                   1\n",
      "3  2023-01-02     3              5            42                   2\n",
      "4  2023-01-02     6              5            33                   2\n"
     ]
    }
   ],
   "source": [
    "# Query to join the aggregate tables into one\n",
    "query = \"\"\"\n",
    "SELECT \n",
    "    a.date,\n",
    "    a.area,\n",
    "    a.total_arrests,\n",
    "    c.total_crimes,\n",
    "    f.total_foreclosures\n",
    "FROM crime_foreclosure_db.arrests_agg a\n",
    "JOIN crime_foreclosure_db.crime_agg c \n",
    "    ON a.date = c.date AND a.area = c.area\n",
    "JOIN crime_foreclosure_db.foreclosures_agg f \n",
    "    ON a.date = f.date AND a.area = f.area\n",
    "\"\"\"\n",
    "\n",
    "# loading the query into a dataframe\n",
    "combined_agg = pd.read_sql(query, conn)\n",
    "\n",
    "# Preview the result\n",
    "print(Combined_agg.head())"
   ]
  },
  {
   "cell_type": "markdown",
   "id": "9aa2baf9-388c-444c-8a85-7843739cc3a5",
   "metadata": {},
   "source": [
    "## Setting up the Regression"
   ]
  },
  {
   "cell_type": "markdown",
   "id": "4b5f1732-5850-4cbb-ae8d-a1394e093add",
   "metadata": {},
   "source": [
    "### Train and test set"
   ]
  },
  {
   "cell_type": "code",
   "execution_count": 66,
   "execution_state": "idle",
   "id": "18a3b2f2-bbb7-4291-a934-f715a07f93fd",
   "metadata": {},
   "outputs": [
    {
     "data": {
      "text/plain": [
       "2009"
      ]
     },
     "execution_count": 66,
     "metadata": {},
     "output_type": "execute_result"
    }
   ],
   "source": [
    "len(combined_agg)"
   ]
  },
  {
   "cell_type": "code",
   "execution_count": 69,
   "execution_state": "idle",
   "id": "bffa9872-baff-4daa-a06d-74e83ecf4aad",
   "metadata": {},
   "outputs": [],
   "source": [
    "from sklearn.model_selection import train_test_split\n",
    "\n",
    "#split all data into 90% train and 10% holdout\n",
    "combined_train, combined_holdout = train_test_split(\n",
    "    combined_agg,\n",
    "    test_size=.10,\n",
    "    )\n",
    "\n",
    "# Split holdout data into 50% validation and 50% test\n",
    "combined_validation, combined_test = train_test_split(\n",
    "        combined_holdout,\n",
    "        test_size=.50,\n",
    ")\n",
    "\n"
   ]
  },
  {
   "cell_type": "markdown",
   "id": "c352c256-8569-4c59-8819-9e7de9c1facd",
   "metadata": {},
   "source": [
    "### Validate the split"
   ]
  },
  {
   "cell_type": "code",
   "execution_count": 70,
   "execution_state": "idle",
   "id": "0e2f6e52-0a40-4f96-8da8-9a40ca149c2f",
   "metadata": {},
   "outputs": [
    {
     "name": "stdout",
     "output_type": "stream",
     "text": [
      "Train size: 1808 rows (90.0%)\n",
      "Validation size: 100 rows (5.0%)\n",
      "Test size: 101 rows (5.0%)\n",
      "Total rows: 2009\n"
     ]
    }
   ],
   "source": [
    "# Total row count\n",
    "total = len(combined_train) + len(combined_test) + len(combined_validation)\n",
    "\n",
    "# Check percentages\n",
    "print(f\"Train size: {len(combined_train)} rows ({len(combined_train)/total:.1%})\")\n",
    "print(f\"Validation size: {len(combined_validation)} rows ({len(combined_validation)/total:.1%})\")\n",
    "print(f\"Test size: {len(combined_test)} rows ({len(combined_test)/total:.1%})\")\n",
    "print(f\"Total rows: {total}\")"
   ]
  },
  {
   "cell_type": "code",
   "execution_count": null,
   "id": "6ae430e4-72bb-4132-8448-d93bb5d8c0c3",
   "metadata": {},
   "outputs": [],
   "source": []
  }
 ],
 "metadata": {
  "kernelspec": {
   "display_name": "Python 3 (ipykernel)",
   "language": "python",
   "name": "python3"
  },
  "language_info": {
   "codemirror_mode": {
    "name": "ipython",
    "version": 3
   },
   "file_extension": ".py",
   "mimetype": "text/x-python",
   "name": "python",
   "nbconvert_exporter": "python",
   "pygments_lexer": "ipython3",
   "version": "3.11.11"
  }
 },
 "nbformat": 4,
 "nbformat_minor": 5
}
