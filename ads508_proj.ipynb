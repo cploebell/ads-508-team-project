{
 "cells": [
  {
   "cell_type": "markdown",
   "id": "e7cb8e7a-4d91-45c6-9335-f6f18159ebbd",
   "metadata": {},
   "source": [
    "# Setup S3 Buckets"
   ]
  },
  {
   "cell_type": "code",
   "execution_count": 1,
   "execution_state": "idle",
   "id": "768b9c19-6b85-401d-b5ee-e0d807b9e015",
   "metadata": {},
   "outputs": [
    {
     "name": "stdout",
     "output_type": "stream",
     "text": [
      "2025-03-15 21:02:43     546709 2023_Registered_Foreclosure_Properties.csv\n",
      "2025-03-15 21:02:44     552165 2024_Registered_Foreclosure_Properties.csv\n",
      "2025-03-15 21:40:42   92038326 Arrest_Data_from_2020_to_Present.csv\n",
      "2025-03-15 21:40:42  255509498 Crime_Data_from_2020_to_Present.csv\n"
     ]
    }
   ],
   "source": [
    "# List the S3 public bucket content\n",
    "!aws s3 ls s3://ads508-group7/"
   ]
  },
  {
   "cell_type": "code",
   "execution_count": 2,
   "execution_state": "idle",
   "id": "32be1e43-bf2f-45f0-a763-277750014830",
   "metadata": {},
   "outputs": [
    {
     "name": "stderr",
     "output_type": "stream",
     "text": [
      "/opt/conda/lib/python3.11/site-packages/pydantic/_internal/_fields.py:192: UserWarning: Field name \"json\" in \"MonitoringDatasetFormat\" shadows an attribute in parent \"Base\"\n",
      "  warnings.warn(\n"
     ]
    },
    {
     "name": "stdout",
     "output_type": "stream",
     "text": [
      "sagemaker.config INFO - Not applying SDK defaults from location: /etc/xdg/sagemaker/config.yaml\n",
      "sagemaker.config INFO - Not applying SDK defaults from location: /home/sagemaker-user/.config/sagemaker/config.yaml\n"
     ]
    }
   ],
   "source": [
    "import boto3\n",
    "import sagemaker\n",
    "import pandas as pd\n",
    "\n",
    "# create sagemaker session\n",
    "sess =  sagemaker.Session()\n",
    "bucket = sess.default_bucket()\n",
    "role = sagemaker.get_execution_role()\n",
    "region = boto3.Session().region_name\n",
    "account_id = boto3.client(\"sts\").get_caller_identity().get(\"Account\")\n",
    "\n",
    "sm = boto3.Session().client(service_name=\"sagemaker\", region_name=region)"
   ]
  },
  {
   "cell_type": "code",
   "execution_count": 70,
   "execution_state": "idle",
   "id": "b317ba91-4ba4-4578-b2e4-891b2af49824",
   "metadata": {},
   "outputs": [],
   "source": [
    "# Set S3 Source Location (Public S3 Bucket)\n",
    "s3_public_path = \"s3://ads508-group7\""
   ]
  },
  {
   "cell_type": "code",
   "execution_count": 71,
   "execution_state": "idle",
   "id": "6f05470b-3ac5-410c-88a3-bf3b150418e0",
   "metadata": {},
   "outputs": [
    {
     "name": "stdout",
     "output_type": "stream",
     "text": [
      "Stored 's3_public_path' (str)\n"
     ]
    }
   ],
   "source": [
    "%store s3_public_path"
   ]
  },
  {
   "cell_type": "code",
   "execution_count": 5,
   "execution_state": "idle",
   "id": "298a8ce1-a2cc-4857-b064-f8adacd5a061",
   "metadata": {},
   "outputs": [
    {
     "name": "stdout",
     "output_type": "stream",
     "text": [
      "s3://sagemaker-us-east-1-643862913351/ads508-group7\n"
     ]
    }
   ],
   "source": [
    "# Set S3 Destination Location (Private S3 Bucket)\n",
    "s3_private_path = \"s3://{}/ads508-group7\".format(bucket)\n",
    "print(s3_private_path)"
   ]
  },
  {
   "cell_type": "code",
   "execution_count": 6,
   "execution_state": "idle",
   "id": "0105d94a-4e25-4476-b591-7f068679cf2a",
   "metadata": {},
   "outputs": [
    {
     "name": "stdout",
     "output_type": "stream",
     "text": [
      "Stored 's3_private_path' (str)\n"
     ]
    }
   ],
   "source": [
    "%store s3_private_path"
   ]
  },
  {
   "cell_type": "code",
   "execution_count": null,
   "id": "6a48a57e-f562-4e23-b13e-9d6c55d2fb3a",
   "metadata": {},
   "outputs": [],
   "source": [
    "#Copy Data From the Public S3 Bucket to our Private S3 Bucket in this Account"
   ]
  },
  {
   "cell_type": "code",
   "execution_count": 7,
   "execution_state": "idle",
   "id": "5f3d23e8-0e65-4644-9dfe-f831effb4b83",
   "metadata": {},
   "outputs": [
    {
     "name": "stdout",
     "output_type": "stream",
     "text": [
      "copy: s3://ads508-group7/2023_Registered_Foreclosure_Properties.csv to s3://sagemaker-us-east-1-643862913351/ads508-group7/2023_Registered_Foreclosure_Properties.csv\n",
      "copy: s3://ads508-group7/2024_Registered_Foreclosure_Properties.csv to s3://sagemaker-us-east-1-643862913351/ads508-group7/2024_Registered_Foreclosure_Properties.csv\n",
      "copy: s3://ads508-group7/Arrest_Data_from_2020_to_Present.csv to s3://sagemaker-us-east-1-643862913351/ads508-group7/Arrest_Data_from_2020_to_Present.csv\n",
      "copy: s3://ads508-group7/Crime_Data_from_2020_to_Present.csv to s3://sagemaker-us-east-1-643862913351/ads508-group7/Crime_Data_from_2020_to_Present.csv\n"
     ]
    }
   ],
   "source": [
    "!aws s3 cp --recursive $s3_public_path/ $s3_private_path/ --exclude \"*\" --include \"2023_Registered_Foreclosure_Properties.csv\"\n",
    "!aws s3 cp --recursive $s3_public_path/ $s3_private_path/ --exclude \"*\" --include \"2024_Registered_Foreclosure_Properties.csv\"\n",
    "!aws s3 cp --recursive $s3_public_path/ $s3_private_path/ --exclude \"*\" --include \"Arrest_Data_from_2020_to_Present.csv\"\n",
    "!aws s3 cp --recursive $s3_public_path/ $s3_private_path/ --exclude \"*\" --include \"Crime_Data_from_2020_to_Present.csv\""
   ]
  },
  {
   "cell_type": "code",
   "execution_count": 8,
   "execution_state": "idle",
   "id": "fa8b28c5-9841-49b1-9e85-de9b2647773d",
   "metadata": {},
   "outputs": [
    {
     "name": "stdout",
     "output_type": "stream",
     "text": [
      "s3://sagemaker-us-east-1-643862913351/ads508-group7\n"
     ]
    }
   ],
   "source": [
    "# List Files in our Private S3 Bucket in this Account\n",
    "print(s3_private_path)"
   ]
  },
  {
   "cell_type": "code",
   "execution_count": 9,
   "execution_state": "idle",
   "id": "43f4f313-56ae-4db6-8409-61f2fe79e457",
   "metadata": {},
   "outputs": [
    {
     "name": "stdout",
     "output_type": "stream",
     "text": [
      "2025-03-20 00:50:08     546709 2023_Registered_Foreclosure_Properties.csv\n",
      "2025-03-20 00:50:10     552165 2024_Registered_Foreclosure_Properties.csv\n",
      "2025-03-20 00:50:12   92038326 Arrest_Data_from_2020_to_Present.csv\n",
      "2025-03-20 00:50:15  255509498 Crime_Data_from_2020_to_Present.csv\n"
     ]
    }
   ],
   "source": [
    "!aws s3 ls $s3_private_path/"
   ]
  },
  {
   "cell_type": "code",
   "execution_count": 10,
   "execution_state": "idle",
   "id": "a161b099-bddd-4d06-a6e9-42d2d2f179db",
   "metadata": {},
   "outputs": [
    {
     "name": "stderr",
     "output_type": "stream",
     "text": [
      "/tmp/ipykernel_214/288684959.py:1: DeprecationWarning: Importing display from IPython.core.display is deprecated since IPython 7.14, please import from IPython.display\n",
      "  from IPython.core.display import display, HTML\n"
     ]
    },
    {
     "data": {
      "text/html": [
       "<b>Review <a target=\"blank\" href=\"https://s3.console.aws.amazon.com/s3/buckets/sagemaker-us-east-1-643862913351/ads508-group7/?region=us-east-1&tab=overview\">S3 Bucket</a></b>"
      ],
      "text/plain": [
       "<IPython.core.display.HTML object>"
      ]
     },
     "metadata": {},
     "output_type": "display_data"
    }
   ],
   "source": [
    "from IPython.core.display import display, HTML\n",
    "\n",
    "display(\n",
    "    HTML(\n",
    "        '<b>Review <a target=\"blank\" href=\"https://s3.console.aws.amazon.com/s3/buckets/sagemaker-{}-{}/ads508-group7/?region={}&tab=overview\">S3 Bucket</a></b>'.format(\n",
    "            region, account_id, region\n",
    "        )\n",
    "    )\n",
    ")"
   ]
  },
  {
   "cell_type": "code",
   "execution_count": 11,
   "execution_state": "idle",
   "id": "07eaae0c-49e3-43b0-930d-d880e7da96c0",
   "metadata": {},
   "outputs": [
    {
     "name": "stdout",
     "output_type": "stream",
     "text": [
      "Stored variables and their in-db values:\n",
      "s3_private_path             -> 's3://sagemaker-us-east-1-643862913351/ads508-grou\n",
      "s3_public_path              -> 's3://ads508-group7'\n"
     ]
    }
   ],
   "source": [
    "# store variables for the next notebook\n",
    "%store"
   ]
  },
  {
   "cell_type": "markdown",
   "id": "e8a81a7d-b266-4160-b976-b027905560c4",
   "metadata": {},
   "source": [
    "# Setup Athena Database"
   ]
  },
  {
   "cell_type": "markdown",
   "id": "af84b1bc-23c8-429d-a336-a21d4aceb52e",
   "metadata": {},
   "source": [
    "## Create Database"
   ]
  },
  {
   "cell_type": "code",
   "execution_count": 18,
   "execution_state": "idle",
   "id": "58d70e49-7cd5-4a4b-baca-3e3193932047",
   "metadata": {},
   "outputs": [
    {
     "name": "stdout",
     "output_type": "stream",
     "text": [
      "\u001b[31mERROR: pip's dependency resolver does not currently take into account all the packages that are installed. This behaviour is the source of the following dependency conflicts.\n",
      "amazon-sagemaker-sql-execution 0.1.6 requires pyathena<4,>=3.3.0, but you have pyathena 2.1.0 which is incompatible.\n",
      "amazon-sagemaker-sql-magic 0.1.3 requires sqlparse==0.5.0, but you have sqlparse 0.5.3 which is incompatible.\u001b[0m\u001b[31m\n",
      "\u001b[0m"
     ]
    }
   ],
   "source": [
    "#setup pyathena\n",
    "!pip install --disable-pip-version-check -q PyAthena==2.1.0\n",
    "from pyathena import connect"
   ]
  },
  {
   "cell_type": "code",
   "execution_count": 32,
   "execution_state": "idle",
   "id": "84dfed8d-f19c-4b11-8d0c-2e66e30c5d8f",
   "metadata": {},
   "outputs": [
    {
     "name": "stdout",
     "output_type": "stream",
     "text": [
      "CREATE DATABASE IF NOT EXISTS crime_foreclosure_db\n"
     ]
    }
   ],
   "source": [
    "database_name = \"crime_foreclosure_db\"\n",
    "# Set S3 staging directory -- this is a temporary directory used for Athena queries\n",
    "s3_staging_dir = \"s3://{0}/athena/staging\".format(bucket)\n",
    "conn = connect(region_name=region, s3_staging_dir=s3_staging_dir)\n",
    "statement = \"CREATE DATABASE IF NOT EXISTS {}\".format(database_name)\n",
    "print(statement)"
   ]
  },
  {
   "cell_type": "code",
   "execution_count": 33,
   "execution_state": "idle",
   "id": "dce95e3f-3125-4c23-a2d2-f2004df3082e",
   "metadata": {},
   "outputs": [
    {
     "name": "stderr",
     "output_type": "stream",
     "text": [
      "/tmp/ipykernel_214/618921652.py:1: UserWarning: pandas only supports SQLAlchemy connectable (engine/connection) or database string URI or sqlite3 DBAPI2 connection. Other DBAPI2 objects are not tested. Please consider using SQLAlchemy.\n",
      "  pd.read_sql(statement, conn)\n"
     ]
    },
    {
     "data": {
      "text/html": [
       "<div>\n",
       "<style scoped>\n",
       "    .dataframe tbody tr th:only-of-type {\n",
       "        vertical-align: middle;\n",
       "    }\n",
       "\n",
       "    .dataframe tbody tr th {\n",
       "        vertical-align: top;\n",
       "    }\n",
       "\n",
       "    .dataframe thead th {\n",
       "        text-align: right;\n",
       "    }\n",
       "</style>\n",
       "<table border=\"1\" class=\"dataframe\">\n",
       "  <thead>\n",
       "    <tr style=\"text-align: right;\">\n",
       "      <th></th>\n",
       "    </tr>\n",
       "  </thead>\n",
       "  <tbody>\n",
       "  </tbody>\n",
       "</table>\n",
       "</div>"
      ],
      "text/plain": [
       "Empty DataFrame\n",
       "Columns: []\n",
       "Index: []"
      ]
     },
     "execution_count": 33,
     "metadata": {},
     "output_type": "execute_result"
    }
   ],
   "source": [
    "pd.read_sql(statement, conn)"
   ]
  },
  {
   "cell_type": "markdown",
   "id": "ee9a515e-5659-45f4-a65c-666643ac8dbd",
   "metadata": {},
   "source": [
    "## Validate Database Set Up Correctly"
   ]
  },
  {
   "cell_type": "code",
   "execution_count": 34,
   "execution_state": "idle",
   "id": "8169fdfb-1e35-4458-a65c-0d7af2e00045",
   "metadata": {},
   "outputs": [
    {
     "name": "stderr",
     "output_type": "stream",
     "text": [
      "/tmp/ipykernel_214/3999478089.py:3: UserWarning: pandas only supports SQLAlchemy connectable (engine/connection) or database string URI or sqlite3 DBAPI2 connection. Other DBAPI2 objects are not tested. Please consider using SQLAlchemy.\n",
      "  df_show = pd.read_sql(statement, conn)\n"
     ]
    },
    {
     "data": {
      "text/html": [
       "<div>\n",
       "<style scoped>\n",
       "    .dataframe tbody tr th:only-of-type {\n",
       "        vertical-align: middle;\n",
       "    }\n",
       "\n",
       "    .dataframe tbody tr th {\n",
       "        vertical-align: top;\n",
       "    }\n",
       "\n",
       "    .dataframe thead th {\n",
       "        text-align: right;\n",
       "    }\n",
       "</style>\n",
       "<table border=\"1\" class=\"dataframe\">\n",
       "  <thead>\n",
       "    <tr style=\"text-align: right;\">\n",
       "      <th></th>\n",
       "      <th>database_name</th>\n",
       "    </tr>\n",
       "  </thead>\n",
       "  <tbody>\n",
       "    <tr>\n",
       "      <th>0</th>\n",
       "      <td>crime_foreclosure_db</td>\n",
       "    </tr>\n",
       "    <tr>\n",
       "      <th>1</th>\n",
       "      <td>default</td>\n",
       "    </tr>\n",
       "  </tbody>\n",
       "</table>\n",
       "</div>"
      ],
      "text/plain": [
       "          database_name\n",
       "0  crime_foreclosure_db\n",
       "1               default"
      ]
     },
     "execution_count": 34,
     "metadata": {},
     "output_type": "execute_result"
    }
   ],
   "source": [
    "statement = \"SHOW DATABASES\"\n",
    "\n",
    "df_show = pd.read_sql(statement, conn)\n",
    "df_show.head(5)"
   ]
  },
  {
   "cell_type": "code",
   "execution_count": 35,
   "execution_state": "idle",
   "id": "0f90a530-918c-4ba3-b603-4ba491829298",
   "metadata": {},
   "outputs": [],
   "source": [
    "if database_name in df_show.values:\n",
    "    ingest_create_athena_db_passed = True"
   ]
  },
  {
   "cell_type": "code",
   "execution_count": 36,
   "execution_state": "idle",
   "id": "fff9ddb7-2f71-4b5a-bcbb-a3731c9aff52",
   "metadata": {},
   "outputs": [
    {
     "name": "stdout",
     "output_type": "stream",
     "text": [
      "Stored 'ingest_create_athena_db_passed' (bool)\n"
     ]
    }
   ],
   "source": [
    "%store ingest_create_athena_db_passed"
   ]
  },
  {
   "cell_type": "code",
   "execution_count": 37,
   "execution_state": "idle",
   "id": "7aaef97a-9608-4e14-a3ce-859d4d9b365d",
   "metadata": {},
   "outputs": [
    {
     "name": "stdout",
     "output_type": "stream",
     "text": [
      "Stored variables and their in-db values:\n",
      "ingest_create_athena_db_passed             -> True\n",
      "s3_private_path                            -> 's3://sagemaker-us-east-1-643862913351/ads508-grou\n",
      "s3_public_path                             -> 's3://ads508-group7'\n"
     ]
    }
   ],
   "source": [
    "# Store Variables for the Next Notebooks\n",
    "%store"
   ]
  },
  {
   "cell_type": "markdown",
   "id": "288b8e08-6324-47b5-bd4d-aec610538964",
   "metadata": {},
   "source": [
    "## Create tables in Athena"
   ]
  },
  {
   "cell_type": "markdown",
   "id": "423f2f39-5744-49e4-9ff4-bedbb6a90b84",
   "metadata": {},
   "source": [
    "### Arrest Data"
   ]
  },
  {
   "cell_type": "code",
   "execution_count": 72,
   "execution_state": "idle",
   "id": "c0d44a0e-0d80-458b-ad80-58b18e5b1656",
   "metadata": {},
   "outputs": [
    {
     "name": "stdout",
     "output_type": "stream",
     "text": [
      "move: s3://sagemaker-us-east-1-643862913351/ads508-group7/Arrest_Data_from_2020_to_Present.csv to s3://sagemaker-us-east-1-643862913351/ads508-group7/arrests/Arrest_Data_from_2020_to_Present.csv\n"
     ]
    }
   ],
   "source": [
    "#move arrest data into own folder \n",
    "!aws s3 mv s3://sagemaker-us-east-1-643862913351/ads508-group7/Arrest_Data_from_2020_to_Present.csv s3://sagemaker-us-east-1-643862913351/ads508-group7/arrests/Arrest_Data_from_2020_to_Present.csv"
   ]
  },
  {
   "cell_type": "code",
   "execution_count": 76,
   "execution_state": "idle",
   "id": "b43ce81e-43ec-4bbc-925f-5ec4071b2b72",
   "metadata": {},
   "outputs": [
    {
     "data": {
      "text/plain": [
       "<pyathena.cursor.Cursor at 0x7f9efb127010>"
      ]
     },
     "execution_count": 76,
     "metadata": {},
     "output_type": "execute_result"
    }
   ],
   "source": [
    "# Define the Athena database, table, and S3 file location\n",
    "database_name = \"crime_foreclosure_db\"\n",
    "table_name = \"arrests\"\n",
    "# IMPORTANT: It's best to have your CSV in its own folder.\n",
    "s3_location = \"s3://sagemaker-us-east-1-643862913351/ads508-group7/arrests/\"\n",
    "\n",
    "# SQL statement to create the arrests table\n",
    "statement = \"\"\"CREATE EXTERNAL TABLE IF NOT EXISTS {}.{} (\n",
    "    report_id string,\n",
    "    report_type string,\n",
    "    arrest_date string,\n",
    "    time int,\n",
    "    area_id int,\n",
    "    area_name string,\n",
    "    reporting_district int,\n",
    "    age int,\n",
    "    sex_code string,\n",
    "    descent_code string,\n",
    "    charge_group_code int,\n",
    "    charge_group_description string,\n",
    "    arrest_type_code string,\n",
    "    charge string,\n",
    "    charge_description string,\n",
    "    disposition_description string,\n",
    "    address string,\n",
    "    cross_street string,\n",
    "    lat double,\n",
    "    lon double,\n",
    "    location string,\n",
    "    booking_date string,\n",
    "    booking_time int,\n",
    "    booking_location string,\n",
    "    booking_location_code int\n",
    ")\n",
    "ROW FORMAT SERDE 'org.apache.hadoop.hive.serde2.OpenCSVSerde'\n",
    "WITH SERDEPROPERTIES (\n",
    "  \"separatorChar\" = \",\",\n",
    "  \"quoteChar\"     = '\\\"'\n",
    ")\n",
    "LOCATION '{}'\n",
    "TBLPROPERTIES (\n",
    "  'skip.header.line.count'='1'\n",
    ")\"\"\".format(database_name, table_name, s3_location)\n",
    "\n",
    "cursor.execute(statement) #executes sql statement"
   ]
  },
  {
   "cell_type": "code",
   "execution_count": 79,
   "execution_state": "idle",
   "id": "d527f68f-2a4b-4c64-af86-d409f2020b5e",
   "metadata": {},
   "outputs": [
    {
     "name": "stdout",
     "output_type": "stream",
     "text": [
      "CREATE EXTERNAL TABLE IF NOT EXISTS crime_foreclosure_db.arrests (\n",
      "    report_id string,\n",
      "    report_type string,\n",
      "    arrest_date string,\n",
      "    time int,\n",
      "    area_id int,\n",
      "    area_name string,\n",
      "    reporting_district int,\n",
      "    age int,\n",
      "    sex_code string,\n",
      "    descent_code string,\n",
      "    charge_group_code int,\n",
      "    charge_group_description string,\n",
      "    arrest_type_code string,\n",
      "    charge string,\n",
      "    charge_description string,\n",
      "    disposition_description string,\n",
      "    address string,\n",
      "    cross_street string,\n",
      "    lat double,\n",
      "    lon double,\n",
      "    location string,\n",
      "    booking_date string,\n",
      "    booking_time int,\n",
      "    booking_location string,\n",
      "    booking_location_code int\n",
      ")\n",
      "ROW FORMAT SERDE 'org.apache.hadoop.hive.serde2.OpenCSVSerde'\n",
      "WITH SERDEPROPERTIES (\n",
      "  \"separatorChar\" = \"\t\",\n",
      "  \"quoteChar\"     = '\"'\n",
      ")\n",
      "LOCATION 's3://sagemaker-us-east-1-643862913351/ads508-group7/arrests/'\n",
      "TBLPROPERTIES (\n",
      "  'skip.header.line.count'='1'\n",
      ")\n"
     ]
    },
    {
     "data": {
      "text/plain": [
       "<pyathena.cursor.Cursor at 0x7f9efb127010>"
      ]
     },
     "execution_count": 79,
     "metadata": {},
     "output_type": "execute_result"
    }
   ],
   "source": [
    "# Define the Athena database, table, and S3 file location\n",
    "database_name = \"crime_foreclosure_db\"\n",
    "table_name = \"arrests\"\n",
    "s3_location = \"s3://sagemaker-us-east-1-643862913351/ads508-group7/arrests/\"\n",
    "\n",
    "# SQL statement to create the arrests table using a tab delimiter\n",
    "statement = \"\"\"CREATE EXTERNAL TABLE IF NOT EXISTS {}.{} (\n",
    "    report_id string,\n",
    "    report_type string,\n",
    "    arrest_date string,\n",
    "    time int,\n",
    "    area_id int,\n",
    "    area_name string,\n",
    "    reporting_district int,\n",
    "    age int,\n",
    "    sex_code string,\n",
    "    descent_code string,\n",
    "    charge_group_code int,\n",
    "    charge_group_description string,\n",
    "    arrest_type_code string,\n",
    "    charge string,\n",
    "    charge_description string,\n",
    "    disposition_description string,\n",
    "    address string,\n",
    "    cross_street string,\n",
    "    lat double,\n",
    "    lon double,\n",
    "    location string,\n",
    "    booking_date string,\n",
    "    booking_time int,\n",
    "    booking_location string,\n",
    "    booking_location_code int\n",
    ")\n",
    "ROW FORMAT SERDE 'org.apache.hadoop.hive.serde2.OpenCSVSerde'\n",
    "WITH SERDEPROPERTIES (\n",
    "  \"separatorChar\" = \"\\t\",\n",
    "  \"quoteChar\"     = '\\\"'\n",
    ")\n",
    "LOCATION '{}'\n",
    "TBLPROPERTIES (\n",
    "  'skip.header.line.count'='1'\n",
    ")\"\"\".format(database_name, table_name, s3_location)\n",
    "\n",
    "print(statement)\n",
    "cursor.execute(statement)\n"
   ]
  },
  {
   "cell_type": "code",
   "execution_count": 74,
   "execution_state": "idle",
   "id": "879b5011-ea28-48ea-bcff-4ffe1017274c",
   "metadata": {},
   "outputs": [
    {
     "name": "stderr",
     "output_type": "stream",
     "text": [
      "/tmp/ipykernel_214/2343679411.py:3: UserWarning: pandas only supports SQLAlchemy connectable (engine/connection) or database string URI or sqlite3 DBAPI2 connection. Other DBAPI2 objects are not tested. Please consider using SQLAlchemy.\n",
      "  df_show = pd.read_sql(statement, conn)\n"
     ]
    },
    {
     "data": {
      "text/html": [
       "<div>\n",
       "<style scoped>\n",
       "    .dataframe tbody tr th:only-of-type {\n",
       "        vertical-align: middle;\n",
       "    }\n",
       "\n",
       "    .dataframe tbody tr th {\n",
       "        vertical-align: top;\n",
       "    }\n",
       "\n",
       "    .dataframe thead th {\n",
       "        text-align: right;\n",
       "    }\n",
       "</style>\n",
       "<table border=\"1\" class=\"dataframe\">\n",
       "  <thead>\n",
       "    <tr style=\"text-align: right;\">\n",
       "      <th></th>\n",
       "      <th>tab_name</th>\n",
       "    </tr>\n",
       "  </thead>\n",
       "  <tbody>\n",
       "    <tr>\n",
       "      <th>0</th>\n",
       "      <td>arrests</td>\n",
       "    </tr>\n",
       "  </tbody>\n",
       "</table>\n",
       "</div>"
      ],
      "text/plain": [
       "  tab_name\n",
       "0  arrests"
      ]
     },
     "execution_count": 74,
     "metadata": {},
     "output_type": "execute_result"
    }
   ],
   "source": [
    "#validate table created\n",
    "statement = \"SHOW TABLES IN crime_foreclosure_db\"\n",
    "df_show = pd.read_sql(statement, conn)\n",
    "df_show"
   ]
  },
  {
   "cell_type": "code",
   "execution_count": 83,
   "execution_state": "idle",
   "id": "e1487294-4d0b-43fa-b7ac-2776191aacd7",
   "metadata": {
    "scrolled": true
   },
   "outputs": [
    {
     "name": "stderr",
     "output_type": "stream",
     "text": [
      "/tmp/ipykernel_214/3842108231.py:3: UserWarning: pandas only supports SQLAlchemy connectable (engine/connection) or database string URI or sqlite3 DBAPI2 connection. Other DBAPI2 objects are not tested. Please consider using SQLAlchemy.\n",
      "  arrest_sample = pd.read_sql(query, conn)\n"
     ]
    },
    {
     "data": {
      "text/html": [
       "<div>\n",
       "<style scoped>\n",
       "    .dataframe tbody tr th:only-of-type {\n",
       "        vertical-align: middle;\n",
       "    }\n",
       "\n",
       "    .dataframe tbody tr th {\n",
       "        vertical-align: top;\n",
       "    }\n",
       "\n",
       "    .dataframe thead th {\n",
       "        text-align: right;\n",
       "    }\n",
       "</style>\n",
       "<table border=\"1\" class=\"dataframe\">\n",
       "  <thead>\n",
       "    <tr style=\"text-align: right;\">\n",
       "      <th></th>\n",
       "      <th>report_id</th>\n",
       "      <th>report_type</th>\n",
       "      <th>arrest_date</th>\n",
       "      <th>time</th>\n",
       "      <th>area_id</th>\n",
       "      <th>area_name</th>\n",
       "      <th>reporting_district</th>\n",
       "      <th>age</th>\n",
       "      <th>sex_code</th>\n",
       "      <th>descent_code</th>\n",
       "      <th>...</th>\n",
       "      <th>disposition_description</th>\n",
       "      <th>address</th>\n",
       "      <th>cross_street</th>\n",
       "      <th>lat</th>\n",
       "      <th>lon</th>\n",
       "      <th>location</th>\n",
       "      <th>booking_date</th>\n",
       "      <th>booking_time</th>\n",
       "      <th>booking_location</th>\n",
       "      <th>booking_location_code</th>\n",
       "    </tr>\n",
       "  </thead>\n",
       "  <tbody>\n",
       "  </tbody>\n",
       "</table>\n",
       "<p>0 rows × 25 columns</p>\n",
       "</div>"
      ],
      "text/plain": [
       "Empty DataFrame\n",
       "Columns: [report_id, report_type, arrest_date, time, area_id, area_name, reporting_district, age, sex_code, descent_code, charge_group_code, charge_group_description, arrest_type_code, charge, charge_description, disposition_description, address, cross_street, lat, lon, location, booking_date, booking_time, booking_location, booking_location_code]\n",
       "Index: []\n",
       "\n",
       "[0 rows x 25 columns]"
      ]
     },
     "execution_count": 83,
     "metadata": {},
     "output_type": "execute_result"
    }
   ],
   "source": [
    "#validate that data loaded\n",
    "query = \"SELECT * FROM crime_foreclosure_db.arrests LIMIT 5\"\n",
    "arrest_sample = pd.read_sql(query, conn)\n",
    "arrest_sample"
   ]
  },
  {
   "cell_type": "markdown",
   "id": "0de05c88-09a7-486a-9b75-1023fbea47e0",
   "metadata": {},
   "source": [
    "# EDA"
   ]
  },
  {
   "cell_type": "markdown",
   "id": "f317a456-3273-4f8e-b493-52b3e1602672",
   "metadata": {},
   "source": [
    "## Arrest Data"
   ]
  },
  {
   "cell_type": "code",
   "execution_count": 95,
   "execution_state": "idle",
   "id": "e5d013fd-06ae-4c9e-9929-e63e082cfe7c",
   "metadata": {},
   "outputs": [
    {
     "data": {
      "text/html": [
       "<div>\n",
       "<style scoped>\n",
       "    .dataframe tbody tr th:only-of-type {\n",
       "        vertical-align: middle;\n",
       "    }\n",
       "\n",
       "    .dataframe tbody tr th {\n",
       "        vertical-align: top;\n",
       "    }\n",
       "\n",
       "    .dataframe thead th {\n",
       "        text-align: right;\n",
       "    }\n",
       "</style>\n",
       "<table border=\"1\" class=\"dataframe\">\n",
       "  <thead>\n",
       "    <tr style=\"text-align: right;\">\n",
       "      <th></th>\n",
       "      <th>Report ID</th>\n",
       "      <th>Report Type</th>\n",
       "      <th>Arrest Date</th>\n",
       "      <th>Time</th>\n",
       "      <th>Area ID</th>\n",
       "      <th>Area Name</th>\n",
       "      <th>Reporting District</th>\n",
       "      <th>Age</th>\n",
       "      <th>Sex Code</th>\n",
       "      <th>Descent Code</th>\n",
       "      <th>...</th>\n",
       "      <th>Disposition Description</th>\n",
       "      <th>Address</th>\n",
       "      <th>Cross Street</th>\n",
       "      <th>LAT</th>\n",
       "      <th>LON</th>\n",
       "      <th>Location</th>\n",
       "      <th>Booking Date</th>\n",
       "      <th>Booking Time</th>\n",
       "      <th>Booking Location</th>\n",
       "      <th>Booking Location Code</th>\n",
       "    </tr>\n",
       "  </thead>\n",
       "  <tbody>\n",
       "    <tr>\n",
       "      <th>0</th>\n",
       "      <td>6636966</td>\n",
       "      <td>BOOKING</td>\n",
       "      <td>07/06/2023 12:00:00 AM</td>\n",
       "      <td>2250.0</td>\n",
       "      <td>8</td>\n",
       "      <td>West LA</td>\n",
       "      <td>817</td>\n",
       "      <td>46</td>\n",
       "      <td>M</td>\n",
       "      <td>B</td>\n",
       "      <td>...</td>\n",
       "      <td>MISDEMEANOR COMPLAINT FILED</td>\n",
       "      <td>900    GAYLEY                       AV</td>\n",
       "      <td>NaN</td>\n",
       "      <td>34.0637</td>\n",
       "      <td>-118.4482</td>\n",
       "      <td>POINT (-118.4482 34.0637)</td>\n",
       "      <td>07/07/2023 12:00:00 AM</td>\n",
       "      <td>143.0</td>\n",
       "      <td>METRO - JAIL DIVISION</td>\n",
       "      <td>4273.0</td>\n",
       "    </tr>\n",
       "    <tr>\n",
       "      <th>1</th>\n",
       "      <td>6637119</td>\n",
       "      <td>BOOKING</td>\n",
       "      <td>07/07/2023 12:00:00 AM</td>\n",
       "      <td>1000.0</td>\n",
       "      <td>3</td>\n",
       "      <td>Southwest</td>\n",
       "      <td>396</td>\n",
       "      <td>39</td>\n",
       "      <td>M</td>\n",
       "      <td>B</td>\n",
       "      <td>...</td>\n",
       "      <td>MISDEMEANOR COMPLAINT FILED</td>\n",
       "      <td>40TH                         PL</td>\n",
       "      <td>VERMONT</td>\n",
       "      <td>34.0100</td>\n",
       "      <td>-118.2915</td>\n",
       "      <td>POINT (-118.2915 34.01)</td>\n",
       "      <td>07/07/2023 12:00:00 AM</td>\n",
       "      <td>1156.0</td>\n",
       "      <td>77TH ST</td>\n",
       "      <td>4212.0</td>\n",
       "    </tr>\n",
       "    <tr>\n",
       "      <th>2</th>\n",
       "      <td>6624479</td>\n",
       "      <td>BOOKING</td>\n",
       "      <td>06/15/2023 12:00:00 AM</td>\n",
       "      <td>1850.0</td>\n",
       "      <td>7</td>\n",
       "      <td>Wilshire</td>\n",
       "      <td>724</td>\n",
       "      <td>33</td>\n",
       "      <td>F</td>\n",
       "      <td>H</td>\n",
       "      <td>...</td>\n",
       "      <td>MISDEMEANOR COMPLAINT FILED</td>\n",
       "      <td>100    THE GROVE                    DR</td>\n",
       "      <td>NaN</td>\n",
       "      <td>34.0736</td>\n",
       "      <td>-118.3563</td>\n",
       "      <td>POINT (-118.3563 34.0736)</td>\n",
       "      <td>06/15/2023 12:00:00 AM</td>\n",
       "      <td>2251.0</td>\n",
       "      <td>77TH ST</td>\n",
       "      <td>4212.0</td>\n",
       "    </tr>\n",
       "    <tr>\n",
       "      <th>3</th>\n",
       "      <td>6636128</td>\n",
       "      <td>BOOKING</td>\n",
       "      <td>07/05/2023 12:00:00 AM</td>\n",
       "      <td>1550.0</td>\n",
       "      <td>2</td>\n",
       "      <td>Rampart</td>\n",
       "      <td>218</td>\n",
       "      <td>30</td>\n",
       "      <td>F</td>\n",
       "      <td>B</td>\n",
       "      <td>...</td>\n",
       "      <td>MISDEMEANOR COMPLAINT FILED</td>\n",
       "      <td>1000    ECHO PARK                    AV</td>\n",
       "      <td>NaN</td>\n",
       "      <td>34.0741</td>\n",
       "      <td>-118.2590</td>\n",
       "      <td>POINT (-118.259 34.0741)</td>\n",
       "      <td>07/05/2023 12:00:00 AM</td>\n",
       "      <td>1940.0</td>\n",
       "      <td>METRO - JAIL DIVISION</td>\n",
       "      <td>4273.0</td>\n",
       "    </tr>\n",
       "    <tr>\n",
       "      <th>4</th>\n",
       "      <td>6636650</td>\n",
       "      <td>BOOKING</td>\n",
       "      <td>07/06/2023 12:00:00 AM</td>\n",
       "      <td>1335.0</td>\n",
       "      <td>12</td>\n",
       "      <td>77th Street</td>\n",
       "      <td>1258</td>\n",
       "      <td>31</td>\n",
       "      <td>M</td>\n",
       "      <td>H</td>\n",
       "      <td>...</td>\n",
       "      <td>NaN</td>\n",
       "      <td>7800 S  BROADWAY</td>\n",
       "      <td>NaN</td>\n",
       "      <td>33.9689</td>\n",
       "      <td>-118.2783</td>\n",
       "      <td>POINT (-118.2783 33.9689)</td>\n",
       "      <td>07/06/2023 12:00:00 AM</td>\n",
       "      <td>1345.0</td>\n",
       "      <td>77TH ST</td>\n",
       "      <td>4212.0</td>\n",
       "    </tr>\n",
       "  </tbody>\n",
       "</table>\n",
       "<p>5 rows × 25 columns</p>\n",
       "</div>"
      ],
      "text/plain": [
       "   Report ID Report Type             Arrest Date    Time  Area ID  \\\n",
       "0    6636966     BOOKING  07/06/2023 12:00:00 AM  2250.0        8   \n",
       "1    6637119     BOOKING  07/07/2023 12:00:00 AM  1000.0        3   \n",
       "2    6624479     BOOKING  06/15/2023 12:00:00 AM  1850.0        7   \n",
       "3    6636128     BOOKING  07/05/2023 12:00:00 AM  1550.0        2   \n",
       "4    6636650     BOOKING  07/06/2023 12:00:00 AM  1335.0       12   \n",
       "\n",
       "     Area Name  Reporting District  Age Sex Code Descent Code  ...  \\\n",
       "0      West LA                 817   46        M            B  ...   \n",
       "1    Southwest                 396   39        M            B  ...   \n",
       "2     Wilshire                 724   33        F            H  ...   \n",
       "3      Rampart                 218   30        F            B  ...   \n",
       "4  77th Street                1258   31        M            H  ...   \n",
       "\n",
       "       Disposition Description                                  Address  \\\n",
       "0  MISDEMEANOR COMPLAINT FILED   900    GAYLEY                       AV   \n",
       "1  MISDEMEANOR COMPLAINT FILED          40TH                         PL   \n",
       "2  MISDEMEANOR COMPLAINT FILED   100    THE GROVE                    DR   \n",
       "3  MISDEMEANOR COMPLAINT FILED  1000    ECHO PARK                    AV   \n",
       "4                          NaN                         7800 S  BROADWAY   \n",
       "\n",
       "  Cross Street      LAT       LON                   Location  \\\n",
       "0          NaN  34.0637 -118.4482  POINT (-118.4482 34.0637)   \n",
       "1      VERMONT  34.0100 -118.2915    POINT (-118.2915 34.01)   \n",
       "2          NaN  34.0736 -118.3563  POINT (-118.3563 34.0736)   \n",
       "3          NaN  34.0741 -118.2590   POINT (-118.259 34.0741)   \n",
       "4          NaN  33.9689 -118.2783  POINT (-118.2783 33.9689)   \n",
       "\n",
       "             Booking Date Booking Time       Booking Location  \\\n",
       "0  07/07/2023 12:00:00 AM        143.0  METRO - JAIL DIVISION   \n",
       "1  07/07/2023 12:00:00 AM       1156.0                77TH ST   \n",
       "2  06/15/2023 12:00:00 AM       2251.0                77TH ST   \n",
       "3  07/05/2023 12:00:00 AM       1940.0  METRO - JAIL DIVISION   \n",
       "4  07/06/2023 12:00:00 AM       1345.0                77TH ST   \n",
       "\n",
       "   Booking Location Code  \n",
       "0                 4273.0  \n",
       "1                 4212.0  \n",
       "2                 4212.0  \n",
       "3                 4273.0  \n",
       "4                 4212.0  \n",
       "\n",
       "[5 rows x 25 columns]"
      ]
     },
     "execution_count": 95,
     "metadata": {},
     "output_type": "execute_result"
    }
   ],
   "source": [
    "import awswrangler as wr\n",
    "import pandas as pd\n",
    "\n",
    "# Read the CSV file directly from S3\n",
    "df_arrest = wr.s3.read_csv(\"s3://sagemaker-us-east-1-643862913351/ads508-group7/arrests/Arrest_Data_from_2020_to_Present.csv\")\n",
    "\n",
    "# Display the first few rows\n",
    "df_arrest.head()"
   ]
  }
 ],
 "metadata": {
  "kernelspec": {
   "display_name": "Python 3 (ipykernel)",
   "language": "python",
   "name": "python3"
  },
  "language_info": {
   "codemirror_mode": {
    "name": "ipython",
    "version": 3
   },
   "file_extension": ".py",
   "mimetype": "text/x-python",
   "name": "python",
   "nbconvert_exporter": "python",
   "pygments_lexer": "ipython3",
   "version": "3.11.11"
  }
 },
 "nbformat": 4,
 "nbformat_minor": 5
}
